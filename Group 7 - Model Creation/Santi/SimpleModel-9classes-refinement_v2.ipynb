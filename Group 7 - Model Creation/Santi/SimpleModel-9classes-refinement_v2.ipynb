{
 "cells": [
  {
   "cell_type": "code",
   "execution_count": 1,
   "id": "4cee978f",
   "metadata": {},
   "outputs": [
    {
     "name": "stdout",
     "output_type": "stream",
     "text": [
      "Versions of key libraries\n",
      "---\n",
      "tensorflow:  2.9.2\n",
      "numpy:       1.22.4\n",
      "matplotlib:  3.5.3\n",
      "sklearn:     1.1.2\n"
     ]
    }
   ],
   "source": [
    "import matplotlib\n",
    "import sklearn\n",
    "import numpy as np\n",
    "import pandas as pd\n",
    "import sklearn.metrics as metrics\n",
    "import matplotlib.pyplot as plt\n",
    "import tensorflow as tf\n",
    "\n",
    "\n",
    "from tensorflow.keras.callbacks import ModelCheckpoint,CSVLogger,LearningRateScheduler\n",
    "from tensorflow.keras.models import Model\n",
    "from tensorflow.keras.layers import Input\n",
    "from tensorflow.keras.layers import Dense\n",
    "from tensorflow.keras.layers import Dropout\n",
    "from tensorflow.keras.layers import Flatten\n",
    "from tensorflow.keras.layers import Conv2D\n",
    "from tensorflow.keras.layers import MaxPooling2D\n",
    "from tensorflow.keras.layers import BatchNormalization\n",
    "from tensorflow.keras.layers import Activation\n",
    "from tensorflow.keras.layers import AveragePooling2D\n",
    "from tensorflow.keras.layers import RandomFlip\n",
    "from tensorflow.keras.layers import RandomRotation\n",
    "from tensorflow.keras.layers import RandomZoom\n",
    "from tensorflow.keras.layers import add\n",
    "from tensorflow.keras.layers import DepthwiseConv2D\n",
    "from tensorflow.keras.regularizers import l2\n",
    "from tensorflow.keras.utils import to_categorical\n",
    "from tensorflow.keras.datasets import cifar10\n",
    "from tensorflow.keras import optimizers\n",
    "from tensorflow.keras.preprocessing.image import ImageDataGenerator\n",
    "from tensorflow.keras.utils import plot_model\n",
    "\n",
    "\n",
    "print(\"Versions of key libraries\")\n",
    "print(\"---\")\n",
    "print(\"tensorflow: \", tf.__version__)\n",
    "print(\"numpy:      \", np.__version__)\n",
    "print(\"matplotlib: \", matplotlib.__version__)\n",
    "print(\"sklearn:    \", sklearn.__version__)"
   ]
  },
  {
   "cell_type": "code",
   "execution_count": 2,
   "id": "95f3f59b",
   "metadata": {},
   "outputs": [],
   "source": [
    "import pathlib\n",
    "\n",
    "import tensorflow as tf\n",
    "import tensorflow_hub as hub"
   ]
  },
  {
   "cell_type": "code",
   "execution_count": 3,
   "id": "63205670",
   "metadata": {},
   "outputs": [
    {
     "name": "stdout",
     "output_type": "stream",
     "text": [
      "/Users/santi/apps/tensorflow/datasets/state-farm-distracted-driver-detection/imgs/train\n",
      "/Users/santi/apps/tensorflow/datasets/state-farm-distracted-driver-detection/imgs/testresult\n"
     ]
    }
   ],
   "source": [
    "data_dir = '/Users/santi/apps/tensorflow/datasets/state-farm-distracted-driver-detection/imgs/train/'\n",
    "data_dir = pathlib.Path(data_dir)\n",
    "print(data_dir)\n",
    "\n",
    "# val_dir = '/Users/santi/apps/tensorflow/datasets/driver-fatigue/output/val/'\n",
    "# val_dir = pathlib.Path(val_dir)\n",
    "# print(val_dir)\n",
    "\n",
    "test_dir = '/Users/santi/apps/tensorflow/datasets/state-farm-distracted-driver-detection/imgs/testresult/'\n",
    "test_dir = pathlib.Path(test_dir)\n",
    "print(test_dir)"
   ]
  },
  {
   "cell_type": "code",
   "execution_count": 4,
   "id": "5ff6033f",
   "metadata": {},
   "outputs": [
    {
     "name": "stdout",
     "output_type": "stream",
     "text": [
      "19578\n"
     ]
    }
   ],
   "source": [
    "image_count = len(list(data_dir.glob('*/*.jpg')))\n",
    "print(image_count)"
   ]
  },
  {
   "cell_type": "code",
   "execution_count": 5,
   "id": "8febe216",
   "metadata": {},
   "outputs": [],
   "source": [
    "batch_size = 100\n",
    "img_height = 224\n",
    "img_width = 224\n",
    "\n",
    "IMAGE_SHAPE = (224, 224)"
   ]
  },
  {
   "cell_type": "code",
   "execution_count": 6,
   "id": "6f5e4867",
   "metadata": {},
   "outputs": [],
   "source": [
    "from keras.applications.vgg16 import VGG16, preprocess_input\n",
    "# from tensorflow.keras.applications.MobileNetV2 import MobileNetV2"
   ]
  },
  {
   "cell_type": "code",
   "execution_count": 7,
   "id": "2e0bd7e8",
   "metadata": {},
   "outputs": [
    {
     "name": "stderr",
     "output_type": "stream",
     "text": [
      "2022-10-24 14:52:50.727601: I tensorflow/core/common_runtime/pluggable_device/pluggable_device_factory.cc:305] Could not identify NUMA node of platform GPU ID 0, defaulting to 0. Your kernel may not have been built with NUMA support.\n",
      "2022-10-24 14:52:50.727818: I tensorflow/core/common_runtime/pluggable_device/pluggable_device_factory.cc:271] Created TensorFlow device (/job:localhost/replica:0/task:0/device:GPU:0 with 0 MB memory) -> physical PluggableDevice (device: 0, name: METAL, pci bus id: <undefined>)\n"
     ]
    },
    {
     "name": "stdout",
     "output_type": "stream",
     "text": [
      "Metal device set to: Apple M1 Max\n",
      "Model: \"model\"\n",
      "_________________________________________________________________\n",
      " Layer (type)                Output Shape              Param #   \n",
      "=================================================================\n",
      " input_1 (InputLayer)        [(None, 224, 224, 3)]     0         \n",
      "                                                                 \n",
      " Input_conv (Conv2D)         (None, 222, 222, 32)      896       \n",
      "                                                                 \n",
      " layer1_bn (BatchNormalizati  (None, 222, 222, 32)     128       \n",
      " on)                                                             \n",
      "                                                                 \n",
      " depthwise_conv2d (Depthwise  (None, 222, 222, 32)     64        \n",
      " Conv2D)                                                         \n",
      "                                                                 \n",
      " Layer1_conv (Conv2D)        (None, 222, 222, 64)      18496     \n",
      "                                                                 \n",
      " layer2_bn (BatchNormalizati  (None, 222, 222, 64)     256       \n",
      " on)                                                             \n",
      "                                                                 \n",
      " depthwise_conv2d_1 (Depthwi  (None, 222, 222, 64)     128       \n",
      " seConv2D)                                                       \n",
      "                                                                 \n",
      " Layer1_Blk_relu (Activation  (None, 222, 222, 64)     0         \n",
      " )                                                               \n",
      "                                                                 \n",
      " max_pooling2d (MaxPooling2D  (None, 111, 111, 64)     0         \n",
      " )                                                               \n",
      "                                                                 \n",
      " flatten (Flatten)           (None, 788544)            0         \n",
      "                                                                 \n",
      " dense (Dense)               (None, 32)                25233440  \n",
      "                                                                 \n",
      " dropout (Dropout)           (None, 32)                0         \n",
      "                                                                 \n",
      " dense_1 (Dense)             (None, 9)                 297       \n",
      "                                                                 \n",
      "=================================================================\n",
      "Total params: 25,253,705\n",
      "Trainable params: 25,253,513\n",
      "Non-trainable params: 192\n",
      "_________________________________________________________________\n"
     ]
    }
   ],
   "source": [
    "optmz       = 'adam' #     optimizers.RMSprop(learning_rate=0.0001)    \n",
    "#modelname   = 'tl_driver_distraction_model_01' #normal all data\n",
    "modelname   = 'tl_driver_distraction_model_04_RE2' #remove c8 from training data\n",
    "base_learning_rate = 0.0001\n",
    "def createModel(inputShape=(img_height,img_width,3),numClasses=9):\n",
    "    \n",
    "  \n",
    "    inputs = Input(shape=inputShape)\n",
    "#     conv_base = VGG16(include_top=False,\n",
    "#                      weights='imagenet', \n",
    "#                      input_shape=inputShape)\n",
    "    \n",
    "    \n",
    "#     conv_base = tf.keras.applications.MobileNetV2(input_shape=inputShape,\n",
    "#                                                include_top=False,\n",
    "#                                                weights='imagenet')\n",
    "    v = Conv2D(32,\n",
    "                  kernel_size=3,\n",
    "                  #strides=1,\n",
    "                         name='Input' +'_conv')(inputs)\n",
    "    v   = BatchNormalization(name='layer1_bn')(v)\n",
    "    v = DepthwiseConv2D(kernel_size=(1,1))(v)\n",
    "    v = Conv2D(64,\n",
    "                         kernel_size=3,\n",
    "                         #strides=1,\n",
    "                         padding='same',\n",
    "                         name='Layer1'+'_conv')(v)\n",
    "    v   = BatchNormalization(name='layer2_bn')(v)\n",
    "    v = DepthwiseConv2D(kernel_size=(1,1))(v)\n",
    "    v = Activation('relu', name='Layer1'+'_Blk'+'_relu')(v)\n",
    "    v = MaxPooling2D(pool_size=(2, 2),strides=2, padding='valid')(v) #strides change the dimension\n",
    "#     v = Flatten() (v)\n",
    "#     top_model = conv_base.output\n",
    "    v = Flatten(name=\"flatten\")(v)\n",
    "#     top_model = Dense(4096, activation='relu')(top_model)\n",
    "    v = Dense(32, activation='relu')(v)\n",
    "    v = Dropout(0.2)(v)\n",
    "\n",
    "#     top_model.trainable = False\n",
    "    outputs = Dense(numClasses,\n",
    "                activation='softmax')(v)\n",
    "    \n",
    "    model       = Model(inputs=inputs,outputs=outputs)\n",
    "    model.compile(loss='sparse_categorical_crossentropy',\n",
    "              optimizer=tf.keras.optimizers.Adam(learning_rate=base_learning_rate),\n",
    "              metrics=['accuracy'])    \n",
    "    return model\n",
    "\n",
    "\n",
    "model = createModel()\n",
    "model.summary()   \n",
    "    "
   ]
  },
  {
   "cell_type": "code",
   "execution_count": 8,
   "id": "f412a00d",
   "metadata": {},
   "outputs": [
    {
     "name": "stdout",
     "output_type": "stream",
     "text": [
      "Callbacks created:\n",
      "<keras.callbacks.ModelCheckpoint object at 0x16a2bb430>\n",
      "<keras.callbacks.CSVLogger object at 0x16a292970>\n",
      "\n",
      "Path to model: /Users/santi/apps/tensorflow/model/tl_driver_distraction_model_04_RE2.hdf5\n",
      "Path to log:   /Users/santi/apps/tensorflow/model/tl_driver_distraction_model_04_RE2.csv\n"
     ]
    }
   ],
   "source": [
    "folderpath      = '/Users/santi/apps/tensorflow/model/'\n",
    "filepath        = folderpath + modelname + \".hdf5\"\n",
    "checkpoint      = ModelCheckpoint(filepath, \n",
    "                                  monitor='val_accuracy', \n",
    "                                  verbose=0, \n",
    "                                  save_best_only=True, \n",
    "                                  mode='max')\n",
    "\n",
    "csv_logger      = CSVLogger(folderpath+modelname +'.csv')                       # Step 2\n",
    "callbacks_list  = [checkpoint,csv_logger]                                       # Step 3\n",
    "\n",
    "print(\"Callbacks created:\")\n",
    "print(callbacks_list[0])\n",
    "print(callbacks_list[1])\n",
    "print('')\n",
    "print(\"Path to model:\", filepath)\n",
    "print(\"Path to log:  \", folderpath+modelname+'.csv')"
   ]
  },
  {
   "cell_type": "code",
   "execution_count": 9,
   "id": "624c7596",
   "metadata": {},
   "outputs": [
    {
     "name": "stdout",
     "output_type": "stream",
     "text": [
      "Path to plot: /Users/santi/apps/tensorflow/model/tl_driver_distraction_model_04_RE2_plot.png\n"
     ]
    }
   ],
   "source": [
    "plotpath  = folderpath+modelname+'_plot.png'\n",
    "plot_model(model, \n",
    "           to_file=plotpath, \n",
    "           show_shapes=True, \n",
    "           show_layer_names=False,\n",
    "           rankdir='TB')\n",
    "\n",
    "print(\"Path to plot:\", plotpath)"
   ]
  },
  {
   "cell_type": "code",
   "execution_count": 10,
   "id": "48f8dfab",
   "metadata": {},
   "outputs": [
    {
     "name": "stdout",
     "output_type": "stream",
     "text": [
      "Found 19578 files belonging to 9 classes.\n",
      "Using 15663 files for training.\n"
     ]
    }
   ],
   "source": [
    "train_ds = tf.keras.utils.image_dataset_from_directory(\n",
    "  data_dir,\n",
    "  validation_split=0.2,\n",
    "  subset=\"training\",\n",
    "  seed=123,\n",
    "  image_size=(img_height, img_width),\n",
    "  batch_size=batch_size)"
   ]
  },
  {
   "cell_type": "code",
   "execution_count": 11,
   "id": "8348e0c3",
   "metadata": {},
   "outputs": [],
   "source": [
    "class_names = train_ds.class_names"
   ]
  },
  {
   "cell_type": "code",
   "execution_count": 12,
   "id": "a953fb03",
   "metadata": {},
   "outputs": [
    {
     "name": "stdout",
     "output_type": "stream",
     "text": [
      "Found 19578 files belonging to 9 classes.\n",
      "Using 3915 files for validation.\n"
     ]
    }
   ],
   "source": [
    "val_ds = tf.keras.utils.image_dataset_from_directory(\n",
    "  data_dir,\n",
    "  validation_split=0.2,\n",
    "  subset=\"validation\",\n",
    "  seed=123,\n",
    "  image_size=(img_height, img_width),\n",
    "  batch_size=batch_size)"
   ]
  },
  {
   "cell_type": "code",
   "execution_count": 13,
   "id": "d3c7c441",
   "metadata": {},
   "outputs": [
    {
     "name": "stdout",
     "output_type": "stream",
     "text": [
      "Epoch 1/10\n"
     ]
    },
    {
     "name": "stderr",
     "output_type": "stream",
     "text": [
      "2022-10-24 14:52:59.070883: W tensorflow/core/platform/profile_utils/cpu_utils.cc:128] Failed to get CPU frequency: 0 Hz\n",
      "2022-10-24 14:52:59.071050: I tensorflow/core/grappler/optimizers/custom_graph_optimizer_registry.cc:113] Plugin optimizer for device_type GPU is enabled.\n"
     ]
    },
    {
     "name": "stdout",
     "output_type": "stream",
     "text": [
      "157/157 [==============================] - ETA: 0s - loss: 2.2371 - accuracy: 0.1433"
     ]
    },
    {
     "name": "stderr",
     "output_type": "stream",
     "text": [
      "2022-10-24 14:54:43.874075: I tensorflow/core/grappler/optimizers/custom_graph_optimizer_registry.cc:113] Plugin optimizer for device_type GPU is enabled.\n"
     ]
    },
    {
     "name": "stdout",
     "output_type": "stream",
     "text": [
      "157/157 [==============================] - 121s 720ms/step - loss: 2.2371 - accuracy: 0.1433 - val_loss: 2.1100 - val_accuracy: 0.2161\n",
      "Epoch 2/10\n",
      "157/157 [==============================] - 113s 714ms/step - loss: 1.8912 - accuracy: 0.2519 - val_loss: 1.7692 - val_accuracy: 0.2989\n",
      "Epoch 3/10\n",
      "157/157 [==============================] - 111s 702ms/step - loss: 1.7671 - accuracy: 0.2669 - val_loss: 1.6598 - val_accuracy: 0.2971\n",
      "Epoch 4/10\n",
      "157/157 [==============================] - 111s 703ms/step - loss: 1.6824 - accuracy: 0.2743 - val_loss: 1.5836 - val_accuracy: 0.3492\n",
      "Epoch 5/10\n",
      "157/157 [==============================] - 110s 700ms/step - loss: 1.6326 - accuracy: 0.2958 - val_loss: 1.4845 - val_accuracy: 0.3471\n",
      "Epoch 6/10\n",
      "157/157 [==============================] - 110s 700ms/step - loss: 1.5926 - accuracy: 0.3036 - val_loss: 1.3917 - val_accuracy: 0.3658\n",
      "Epoch 7/10\n",
      "157/157 [==============================] - 111s 706ms/step - loss: 1.4880 - accuracy: 0.3506 - val_loss: 1.2255 - val_accuracy: 0.5267\n",
      "Epoch 8/10\n",
      "157/157 [==============================] - 110s 701ms/step - loss: 1.3154 - accuracy: 0.4738 - val_loss: 1.0413 - val_accuracy: 0.6043\n",
      "Epoch 9/10\n",
      "157/157 [==============================] - 112s 710ms/step - loss: 1.2285 - accuracy: 0.5067 - val_loss: 0.9847 - val_accuracy: 0.6406\n",
      "Epoch 10/10\n",
      "157/157 [==============================] - 110s 701ms/step - loss: 1.1809 - accuracy: 0.5478 - val_loss: 0.9161 - val_accuracy: 0.7162\n"
     ]
    }
   ],
   "source": [
    "history=model.fit(train_ds,                    # Training data\n",
    "          validation_data=val_ds,   # Validation data and label\n",
    "          epochs=10,                       # The amount of epochs to be trained\n",
    "          batch_size=batch_size,                   \n",
    "          shuffle=True,                     # To shuffle the training data\n",
    "          callbacks=callbacks_list)         # Callbacks to execute the checkpoints\n"
   ]
  },
  {
   "cell_type": "code",
   "execution_count": 14,
   "id": "a47b55dd",
   "metadata": {},
   "outputs": [
    {
     "data": {
      "image/png": "[encoded data removed]",
      "text/plain": [
       "<Figure size 640x480 with 1 Axes>"
      ]
     },
     "metadata": {},
     "output_type": "display_data"
    },
    {
     "data": {
      "image/png": "[encoded data removed]",
      "text/plain": [
       "<Figure size 640x480 with 1 Axes>"
      ]
     },
     "metadata": {},
     "output_type": "display_data"
    }
   ],
   "source": [
    "import matplotlib.pyplot as plt\n",
    "\n",
    "# Plot training & validation accuracy values\n",
    "plt.plot(history.history['accuracy'])\n",
    "plt.plot(history.history['val_accuracy'])\n",
    "plt.title('Model accuracy')\n",
    "plt.ylabel('Accuracy')\n",
    "plt.xlabel('Epoch')\n",
    "plt.legend(['Train', 'Val'], loc='upper left')\n",
    "plt.show()\n",
    "\n",
    "# Plot training & validation loss values\n",
    "plt.plot(history.history['loss'])\n",
    "plt.plot(history.history['val_loss'])\n",
    "plt.title('Model loss')\n",
    "plt.ylabel('Loss')\n",
    "plt.xlabel('Epoch')\n",
    "plt.legend(['Train', 'Val'], loc='upper left')\n",
    "plt.show()"
   ]
  },
  {
   "cell_type": "code",
   "execution_count": null,
   "id": "21b1a63d",
   "metadata": {},
   "outputs": [],
   "source": []
  },
  {
   "cell_type": "code",
   "execution_count": 15,
   "id": "d12f54b5",
   "metadata": {},
   "outputs": [
    {
     "name": "stdout",
     "output_type": "stream",
     "text": [
      "Found 935 files belonging to 9 classes.\n"
     ]
    }
   ],
   "source": [
    "test_ds = tf.keras.utils.image_dataset_from_directory(\n",
    "  test_dir,\n",
    "  seed=123,\n",
    "  shuffle=False,\n",
    "  image_size=(img_height, img_width),\n",
    "  batch_size=1)"
   ]
  },
  {
   "cell_type": "code",
   "execution_count": 16,
   "id": "c7652b4d",
   "metadata": {},
   "outputs": [
    {
     "name": "stderr",
     "output_type": "stream",
     "text": [
      "2022-10-24 15:11:47.065294: I tensorflow/core/grappler/optimizers/custom_graph_optimizer_registry.cc:113] Plugin optimizer for device_type GPU is enabled.\n"
     ]
    },
    {
     "name": "stdout",
     "output_type": "stream",
     "text": [
      "935/935 [==============================] - 13s 13ms/step\n"
     ]
    }
   ],
   "source": [
    "test_classes=test_ds.class_names \n",
    "predicts    = model.predict(test_ds)  "
   ]
  },
  {
   "cell_type": "code",
   "execution_count": 17,
   "id": "b21a1166",
   "metadata": {},
   "outputs": [],
   "source": [
    "from sklearn import metrics \n",
    "from sklearn.metrics import classification_report, confusion_matrix \n",
    "import seaborn as sns"
   ]
  },
  {
   "cell_type": "code",
   "execution_count": 18,
   "id": "f933c128",
   "metadata": {},
   "outputs": [
    {
     "name": "stdout",
     "output_type": "stream",
     "text": [
      "935/935 [==============================] - 12s 13ms/step\n",
      "there were 680 correct predictions in 935 tests for an accuracy of  72.73 % \n"
     ]
    },
    {
     "data": {
      "image/png": "[encoded data removed]",
      "text/plain": [
       "<Figure size 400x400 with 1 Axes>"
      ]
     },
     "metadata": {},
     "output_type": "display_data"
    }
   ],
   "source": [
    "ytrue=[]\n",
    "for images, label in test_ds:   \n",
    "    for e in label:\n",
    "        ytrue.append(test_classes[e]) # list of class names associated with each image file in test dataset \n",
    "ypred=[]\n",
    "errors=0\n",
    "count=0\n",
    "preds=model.predict(test_ds, verbose=1) # predict on the test data\n",
    "for i, p in enumerate(preds):\n",
    "    count +=1\n",
    "    index=np.argmax(p) # get index of prediction with highest probability\n",
    "    klass=test_classes[index] \n",
    "    ypred.append(klass)  \n",
    "    if klass != ytrue[i]:\n",
    "        errors +=1\n",
    "        \n",
    "acc= (count-errors)* 100/count\n",
    "msg=f'there were {count-errors} correct predictions in {count} tests for an accuracy of {acc:6.2f} % '\n",
    "print(msg) \n",
    "ypred=np.array(ypred)\n",
    "ytrue=np.array(ytrue)\n",
    "if len(test_classes)<= 30: # if more than 30 classes plot is not useful to cramed\n",
    "        # create a confusion matrix \n",
    "        cm = confusion_matrix(ytrue, ypred )        \n",
    "        length=len(test_classes)\n",
    "        if length<8:\n",
    "            fig_width=8\n",
    "            fig_height=8\n",
    "        else:\n",
    "            fig_width= int(length * .5)\n",
    "            fig_height= int(length * .5)\n",
    "        plt.figure(figsize=(fig_width, fig_height))\n",
    "        sns.heatmap(cm, annot=True, vmin=0, fmt='g', cmap='Blues', cbar=False)       \n",
    "        plt.xticks(np.arange(length)+.5, test_classes, rotation= 90)\n",
    "        plt.yticks(np.arange(length)+.5, test_classes, rotation=0)\n",
    "        plt.xlabel(\"Predicted\")\n",
    "        plt.ylabel(\"Actual\")\n",
    "        plt.title(\"Confusion Matrix\")\n",
    "        plt.show()"
   ]
  },
  {
   "cell_type": "code",
   "execution_count": 19,
   "id": "71c0f4fb",
   "metadata": {},
   "outputs": [
    {
     "name": "stdout",
     "output_type": "stream",
     "text": [
      "Best accuracy (on testing dataset): 72.73%\n",
      "              precision    recall  f1-score   support\n",
      "\n",
      "          c0     0.9070    0.7800    0.8387       100\n",
      "          c1     0.7634    0.9901    0.8621       101\n",
      "          c2     0.1538    0.0198    0.0351       101\n",
      "          c3     0.5098    0.9043    0.6520       115\n",
      "          c4     0.9545    0.8898    0.9211       118\n",
      "          c5     0.6049    1.0000    0.7538        98\n",
      "          c6     1.0000    0.0100    0.0198       100\n",
      "          c7     0.9423    0.9423    0.9423       104\n",
      "          c9     0.7581    0.9592    0.8468        98\n",
      "\n",
      "    accuracy                         0.7273       935\n",
      "   macro avg     0.7326    0.7217    0.6524       935\n",
      "weighted avg     0.7339    0.7273    0.6578       935\n",
      "\n"
     ]
    }
   ],
   "source": [
    "testScores  = metrics.accuracy_score( ytrue,ypred)                           # Step 3\n",
    "\n",
    "                                                                                # Step 4\n",
    "print(\"Best accuracy (on testing dataset): %.2f%%\" % (testScores*100))\n",
    "print(metrics.classification_report(ytrue,\n",
    "                                    ypred,\n",
    "                                    target_names=test_classes,\n",
    "                                    digits=4)) "
   ]
  },
  {
   "cell_type": "code",
   "execution_count": null,
   "id": "c0afc98e",
   "metadata": {},
   "outputs": [],
   "source": []
  }
 ],
 "metadata": {
  "kernelspec": {
   "display_name": "env_tf",
   "language": "python",
   "name": "env_tf"
  },
  "language_info": {
   "codemirror_mode": {
    "name": "ipython",
    "version": 3
   },
   "file_extension": ".py",
   "mimetype": "text/x-python",
   "name": "python",
   "nbconvert_exporter": "python",
   "pygments_lexer": "ipython3",
   "version": "3.9.13"
  }
 },
 "nbformat": 4,
 "nbformat_minor": 5
}
