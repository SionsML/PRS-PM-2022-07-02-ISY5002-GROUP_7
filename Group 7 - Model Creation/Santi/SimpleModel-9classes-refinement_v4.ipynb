{
 "cells": [
  {
   "cell_type": "code",
   "execution_count": 1,
   "id": "926106e4",
   "metadata": {},
   "outputs": [
    {
     "name": "stdout",
     "output_type": "stream",
     "text": [
      "Versions of key libraries\n",
      "---\n",
      "tensorflow:  2.9.2\n",
      "numpy:       1.22.4\n",
      "matplotlib:  3.5.3\n",
      "sklearn:     1.1.2\n"
     ]
    }
   ],
   "source": [
    "import matplotlib\n",
    "import sklearn\n",
    "import numpy as np\n",
    "import pandas as pd\n",
    "import sklearn.metrics as metrics\n",
    "import matplotlib.pyplot as plt\n",
    "import tensorflow as tf\n",
    "\n",
    "\n",
    "from tensorflow.keras.callbacks import ModelCheckpoint,CSVLogger,LearningRateScheduler\n",
    "from tensorflow.keras.models import Model\n",
    "from tensorflow.keras.layers import Input\n",
    "from tensorflow.keras.layers import Dense\n",
    "from tensorflow.keras.layers import Dropout\n",
    "from tensorflow.keras.layers import Flatten\n",
    "from tensorflow.keras.layers import Conv2D\n",
    "from tensorflow.keras.layers import MaxPooling2D\n",
    "from tensorflow.keras.layers import BatchNormalization\n",
    "from tensorflow.keras.layers import Activation\n",
    "from tensorflow.keras.layers import AveragePooling2D\n",
    "from tensorflow.keras.layers import RandomFlip\n",
    "from tensorflow.keras.layers import RandomRotation\n",
    "from tensorflow.keras.layers import RandomZoom\n",
    "from tensorflow.keras.layers import add\n",
    "from tensorflow.keras.layers import DepthwiseConv2D\n",
    "from tensorflow.keras.regularizers import l2\n",
    "from tensorflow.keras.utils import to_categorical\n",
    "from tensorflow.keras.datasets import cifar10\n",
    "from tensorflow.keras import optimizers\n",
    "from tensorflow.keras.preprocessing.image import ImageDataGenerator\n",
    "from tensorflow.keras.utils import plot_model\n",
    "\n",
    "\n",
    "print(\"Versions of key libraries\")\n",
    "print(\"---\")\n",
    "print(\"tensorflow: \", tf.__version__)\n",
    "print(\"numpy:      \", np.__version__)\n",
    "print(\"matplotlib: \", matplotlib.__version__)\n",
    "print(\"sklearn:    \", sklearn.__version__)"
   ]
  },
  {
   "cell_type": "code",
   "execution_count": 2,
   "id": "8c19a4d5",
   "metadata": {},
   "outputs": [],
   "source": [
    "import pathlib\n",
    "\n",
    "import tensorflow as tf\n",
    "import tensorflow_hub as hub"
   ]
  },
  {
   "cell_type": "code",
   "execution_count": 3,
   "id": "126a3870",
   "metadata": {},
   "outputs": [
    {
     "name": "stdout",
     "output_type": "stream",
     "text": [
      "/Users/santi/apps/tensorflow/datasets/state-farm-distracted-driver-detection/imgs/train\n",
      "/Users/santi/apps/tensorflow/datasets/state-farm-distracted-driver-detection/imgs/testresult\n"
     ]
    }
   ],
   "source": [
    "data_dir = '/Users/santi/apps/tensorflow/datasets/state-farm-distracted-driver-detection/imgs/train/'\n",
    "data_dir = pathlib.Path(data_dir)\n",
    "print(data_dir)\n",
    "\n",
    "# val_dir = '/Users/santi/apps/tensorflow/datasets/driver-fatigue/output/val/'\n",
    "# val_dir = pathlib.Path(val_dir)\n",
    "# print(val_dir)\n",
    "\n",
    "test_dir = '/Users/santi/apps/tensorflow/datasets/state-farm-distracted-driver-detection/imgs/testresult/'\n",
    "test_dir = pathlib.Path(test_dir)\n",
    "print(test_dir)"
   ]
  },
  {
   "cell_type": "code",
   "execution_count": 4,
   "id": "63f0340f",
   "metadata": {},
   "outputs": [
    {
     "name": "stdout",
     "output_type": "stream",
     "text": [
      "19578\n"
     ]
    }
   ],
   "source": [
    "image_count = len(list(data_dir.glob('*/*.jpg')))\n",
    "print(image_count)"
   ]
  },
  {
   "cell_type": "code",
   "execution_count": 5,
   "id": "3807be5f",
   "metadata": {},
   "outputs": [],
   "source": [
    "batch_size = 100\n",
    "img_height = 32\n",
    "img_width = 32\n",
    "\n",
    "IMAGE_SHAPE = (32, 32)"
   ]
  },
  {
   "cell_type": "code",
   "execution_count": 6,
   "id": "0d830e29",
   "metadata": {},
   "outputs": [],
   "source": [
    "from keras.applications.vgg16 import VGG16, preprocess_input\n",
    "# from tensorflow.keras.applications.MobileNetV2 import MobileNetV2"
   ]
  },
  {
   "cell_type": "code",
   "execution_count": 7,
   "id": "dc5a1d1c",
   "metadata": {},
   "outputs": [
    {
     "name": "stdout",
     "output_type": "stream",
     "text": [
      "Metal device set to: Apple M1 Max\n"
     ]
    },
    {
     "name": "stderr",
     "output_type": "stream",
     "text": [
      "2022-10-24 21:28:52.651906: I tensorflow/core/common_runtime/pluggable_device/pluggable_device_factory.cc:305] Could not identify NUMA node of platform GPU ID 0, defaulting to 0. Your kernel may not have been built with NUMA support.\n",
      "2022-10-24 21:28:52.652145: I tensorflow/core/common_runtime/pluggable_device/pluggable_device_factory.cc:271] Created TensorFlow device (/job:localhost/replica:0/task:0/device:GPU:0 with 0 MB memory) -> physical PluggableDevice (device: 0, name: METAL, pci bus id: <undefined>)\n"
     ]
    },
    {
     "name": "stdout",
     "output_type": "stream",
     "text": [
      "Model: \"model\"\n",
      "_________________________________________________________________\n",
      " Layer (type)                Output Shape              Param #   \n",
      "=================================================================\n",
      " input_1 (InputLayer)        [(None, 32, 32, 3)]       0         \n",
      "                                                                 \n",
      " Input_conv (Conv2D)         (None, 30, 30, 32)        896       \n",
      "                                                                 \n",
      " layer1_bn (BatchNormalizati  (None, 30, 30, 32)       128       \n",
      " on)                                                             \n",
      "                                                                 \n",
      " depthwise_conv2d (Depthwise  (None, 30, 30, 32)       64        \n",
      " Conv2D)                                                         \n",
      "                                                                 \n",
      " Layer1_conv (Conv2D)        (None, 30, 30, 64)        18496     \n",
      "                                                                 \n",
      " layer2_bn (BatchNormalizati  (None, 30, 30, 64)       256       \n",
      " on)                                                             \n",
      "                                                                 \n",
      " depthwise_conv2d_1 (Depthwi  (None, 30, 30, 64)       128       \n",
      " seConv2D)                                                       \n",
      "                                                                 \n",
      " Layer1_Blk_relu (Activation  (None, 30, 30, 64)       0         \n",
      " )                                                               \n",
      "                                                                 \n",
      " max_pooling2d (MaxPooling2D  (None, 15, 15, 64)       0         \n",
      " )                                                               \n",
      "                                                                 \n",
      " flatten (Flatten)           (None, 14400)             0         \n",
      "                                                                 \n",
      " dense (Dense)               (None, 64)                921664    \n",
      "                                                                 \n",
      " dropout (Dropout)           (None, 64)                0         \n",
      "                                                                 \n",
      " dense_1 (Dense)             (None, 9)                 585       \n",
      "                                                                 \n",
      "=================================================================\n",
      "Total params: 942,217\n",
      "Trainable params: 942,025\n",
      "Non-trainable params: 192\n",
      "_________________________________________________________________\n"
     ]
    }
   ],
   "source": [
    "optmz       = 'adam' #     optimizers.RMSprop(learning_rate=0.0001)    \n",
    "#modelname   = 'tl_driver_distraction_model_01' #normal all data\n",
    "modelname   = 'tl_driver_distraction_model_04_RE4' #remove c8 from training data\n",
    "base_learning_rate = 0.0001\n",
    "def createModel(inputShape=(img_height,img_width,3),numClasses=9):\n",
    "    \n",
    "  \n",
    "    inputs = Input(shape=inputShape)\n",
    "#     conv_base = VGG16(include_top=False,\n",
    "#                      weights='imagenet', \n",
    "#                      input_shape=inputShape)\n",
    "    \n",
    "    \n",
    "#     conv_base = tf.keras.applications.MobileNetV2(input_shape=inputShape,\n",
    "#                                                include_top=False,\n",
    "#                                                weights='imagenet')\n",
    "    v = Conv2D(32,\n",
    "                  kernel_size=3,\n",
    "                  #strides=1,\n",
    "                         name='Input' +'_conv')(inputs)\n",
    "\n",
    "    v   = BatchNormalization(name='layer1_bn')(v)\n",
    "    v = DepthwiseConv2D(kernel_size=(1,1))(v)\n",
    "    v = Conv2D(64,\n",
    "                         kernel_size=3,\n",
    "                         #strides=1,\n",
    "                         padding='same',\n",
    "                         name='Layer1'+'_conv')(v)\n",
    "    v   = BatchNormalization(name='layer2_bn')(v)\n",
    "    v = DepthwiseConv2D(kernel_size=(1,1))(v)\n",
    "    v = Activation('relu', name='Layer1'+'_Blk'+'_relu')(v)\n",
    "    v = MaxPooling2D(pool_size=(2, 2),strides=2, padding='valid')(v) #strides change the dimension\n",
    "#     v = Flatten() (v)\n",
    "#     top_model = conv_base.output\n",
    "    v = Flatten(name=\"flatten\")(v)\n",
    "#     top_model = Dense(4096, activation='relu')(top_model)\n",
    "    v = Dense(64, activation='relu')(v)\n",
    "    v = Dropout(0.2)(v)\n",
    "\n",
    "#     top_model.trainable = False\n",
    "    outputs = Dense(numClasses,\n",
    "                activation='softmax')(v)\n",
    "    \n",
    "    model       = Model(inputs=inputs,outputs=outputs)\n",
    "    model.compile(loss='sparse_categorical_crossentropy',\n",
    "              optimizer=tf.keras.optimizers.Adam(learning_rate=base_learning_rate),\n",
    "              metrics=['accuracy'])    \n",
    "    return model\n",
    "\n",
    "\n",
    "model = createModel()\n",
    "model.summary()   \n",
    "    "
   ]
  },
  {
   "cell_type": "code",
   "execution_count": 8,
   "id": "dc3a2687",
   "metadata": {},
   "outputs": [
    {
     "name": "stdout",
     "output_type": "stream",
     "text": [
      "Callbacks created:\n",
      "<keras.callbacks.ModelCheckpoint object at 0x17c0724f0>\n",
      "<keras.callbacks.CSVLogger object at 0x17c0722e0>\n",
      "\n",
      "Path to model: /Users/santi/apps/tensorflow/model/tl_driver_distraction_model_04_RE4.hdf5\n",
      "Path to log:   /Users/santi/apps/tensorflow/model/tl_driver_distraction_model_04_RE4.csv\n"
     ]
    }
   ],
   "source": [
    "folderpath      = '/Users/santi/apps/tensorflow/model/'\n",
    "filepath        = folderpath + modelname + \".hdf5\"\n",
    "checkpoint      = ModelCheckpoint(filepath, \n",
    "                                  monitor='val_accuracy', \n",
    "                                  verbose=0, \n",
    "                                  save_best_only=True, \n",
    "                                  mode='max')\n",
    "\n",
    "csv_logger      = CSVLogger(folderpath+modelname +'.csv')                       # Step 2\n",
    "callbacks_list  = [checkpoint,csv_logger]                                       # Step 3\n",
    "\n",
    "print(\"Callbacks created:\")\n",
    "print(callbacks_list[0])\n",
    "print(callbacks_list[1])\n",
    "print('')\n",
    "print(\"Path to model:\", filepath)\n",
    "print(\"Path to log:  \", folderpath+modelname+'.csv')"
   ]
  },
  {
   "cell_type": "code",
   "execution_count": 9,
   "id": "33beda2d",
   "metadata": {},
   "outputs": [
    {
     "name": "stdout",
     "output_type": "stream",
     "text": [
      "Path to plot: /Users/santi/apps/tensorflow/model/tl_driver_distraction_model_04_RE4_plot.png\n"
     ]
    }
   ],
   "source": [
    "plotpath  = folderpath+modelname+'_plot.png'\n",
    "plot_model(model, \n",
    "           to_file=plotpath, \n",
    "           show_shapes=True, \n",
    "           show_layer_names=False,\n",
    "           rankdir='TB')\n",
    "\n",
    "print(\"Path to plot:\", plotpath)"
   ]
  },
  {
   "cell_type": "code",
   "execution_count": 10,
   "id": "9dfaec75",
   "metadata": {},
   "outputs": [
    {
     "name": "stdout",
     "output_type": "stream",
     "text": [
      "Found 19578 files belonging to 9 classes.\n",
      "Using 15663 files for training.\n"
     ]
    }
   ],
   "source": [
    "train_ds = tf.keras.utils.image_dataset_from_directory(\n",
    "  data_dir,\n",
    "  validation_split=0.2,\n",
    "  subset=\"training\",\n",
    "  seed=123,\n",
    "  image_size=(img_height, img_width),\n",
    "  batch_size=batch_size)"
   ]
  },
  {
   "cell_type": "code",
   "execution_count": 11,
   "id": "fd8a52a9",
   "metadata": {},
   "outputs": [],
   "source": [
    "class_names = train_ds.class_names"
   ]
  },
  {
   "cell_type": "code",
   "execution_count": 12,
   "id": "a41d3757",
   "metadata": {},
   "outputs": [
    {
     "name": "stdout",
     "output_type": "stream",
     "text": [
      "Found 19578 files belonging to 9 classes.\n",
      "Using 3915 files for validation.\n"
     ]
    }
   ],
   "source": [
    "val_ds = tf.keras.utils.image_dataset_from_directory(\n",
    "  data_dir,\n",
    "  validation_split=0.2,\n",
    "  subset=\"validation\",\n",
    "  seed=123,\n",
    "  image_size=(img_height, img_width),\n",
    "  batch_size=batch_size)"
   ]
  },
  {
   "cell_type": "code",
   "execution_count": 13,
   "id": "559149db",
   "metadata": {},
   "outputs": [
    {
     "name": "stdout",
     "output_type": "stream",
     "text": [
      "Epoch 1/40\n"
     ]
    },
    {
     "name": "stderr",
     "output_type": "stream",
     "text": [
      "2022-10-24 21:29:05.877927: W tensorflow/core/platform/profile_utils/cpu_utils.cc:128] Failed to get CPU frequency: 0 Hz\n",
      "2022-10-24 21:29:05.878080: I tensorflow/core/grappler/optimizers/custom_graph_optimizer_registry.cc:113] Plugin optimizer for device_type GPU is enabled.\n"
     ]
    },
    {
     "name": "stdout",
     "output_type": "stream",
     "text": [
      "157/157 [==============================] - ETA: 0s - loss: 1.7693 - accuracy: 0.4433"
     ]
    },
    {
     "name": "stderr",
     "output_type": "stream",
     "text": [
      "2022-10-24 21:29:14.375294: I tensorflow/core/grappler/optimizers/custom_graph_optimizer_registry.cc:113] Plugin optimizer for device_type GPU is enabled.\n"
     ]
    },
    {
     "name": "stdout",
     "output_type": "stream",
     "text": [
      "157/157 [==============================] - 10s 37ms/step - loss: 1.7693 - accuracy: 0.4433 - val_loss: 1.7987 - val_accuracy: 0.6950\n",
      "Epoch 2/40\n",
      "157/157 [==============================] - 5s 32ms/step - loss: 1.0318 - accuracy: 0.7523 - val_loss: 1.0684 - val_accuracy: 0.8963\n",
      "Epoch 3/40\n",
      "157/157 [==============================] - 5s 33ms/step - loss: 0.6265 - accuracy: 0.8710 - val_loss: 0.5325 - val_accuracy: 0.9395\n",
      "Epoch 4/40\n",
      "157/157 [==============================] - 5s 34ms/step - loss: 0.4170 - accuracy: 0.9194 - val_loss: 0.3255 - val_accuracy: 0.9607\n",
      "Epoch 5/40\n",
      "157/157 [==============================] - 6s 35ms/step - loss: 0.3004 - accuracy: 0.9442 - val_loss: 0.2196 - val_accuracy: 0.9732\n",
      "Epoch 6/40\n",
      "157/157 [==============================] - 6s 36ms/step - loss: 0.2231 - accuracy: 0.9595 - val_loss: 0.1639 - val_accuracy: 0.9791\n",
      "Epoch 7/40\n",
      "157/157 [==============================] - 6s 36ms/step - loss: 0.1712 - accuracy: 0.9700 - val_loss: 0.1272 - val_accuracy: 0.9831\n",
      "Epoch 8/40\n",
      "157/157 [==============================] - 6s 36ms/step - loss: 0.1381 - accuracy: 0.9766 - val_loss: 0.1022 - val_accuracy: 0.9860\n",
      "Epoch 9/40\n",
      "157/157 [==============================] - 6s 35ms/step - loss: 0.1129 - accuracy: 0.9799 - val_loss: 0.0846 - val_accuracy: 0.9877\n",
      "Epoch 10/40\n",
      "157/157 [==============================] - 5s 33ms/step - loss: 0.0940 - accuracy: 0.9841 - val_loss: 0.0723 - val_accuracy: 0.9898\n",
      "Epoch 11/40\n",
      "157/157 [==============================] - 6s 35ms/step - loss: 0.0789 - accuracy: 0.9874 - val_loss: 0.0614 - val_accuracy: 0.9898\n",
      "Epoch 12/40\n",
      "157/157 [==============================] - 6s 37ms/step - loss: 0.0654 - accuracy: 0.9893 - val_loss: 0.0528 - val_accuracy: 0.9916\n",
      "Epoch 13/40\n",
      "157/157 [==============================] - 6s 36ms/step - loss: 0.0553 - accuracy: 0.9917 - val_loss: 0.0465 - val_accuracy: 0.9918\n",
      "Epoch 14/40\n",
      "157/157 [==============================] - 6s 35ms/step - loss: 0.0492 - accuracy: 0.9921 - val_loss: 0.0440 - val_accuracy: 0.9916\n",
      "Epoch 15/40\n",
      "157/157 [==============================] - 6s 36ms/step - loss: 0.0429 - accuracy: 0.9939 - val_loss: 0.0375 - val_accuracy: 0.9926\n",
      "Epoch 16/40\n",
      "157/157 [==============================] - 6s 37ms/step - loss: 0.0376 - accuracy: 0.9938 - val_loss: 0.0338 - val_accuracy: 0.9934\n",
      "Epoch 17/40\n",
      "157/157 [==============================] - 6s 36ms/step - loss: 0.0328 - accuracy: 0.9959 - val_loss: 0.0370 - val_accuracy: 0.9911\n",
      "Epoch 18/40\n",
      "157/157 [==============================] - 6s 37ms/step - loss: 0.0297 - accuracy: 0.9957 - val_loss: 0.0313 - val_accuracy: 0.9928\n",
      "Epoch 19/40\n",
      "157/157 [==============================] - 6s 35ms/step - loss: 0.0249 - accuracy: 0.9964 - val_loss: 0.0280 - val_accuracy: 0.9926\n",
      "Epoch 20/40\n",
      "157/157 [==============================] - 6s 35ms/step - loss: 0.0218 - accuracy: 0.9973 - val_loss: 0.0257 - val_accuracy: 0.9936\n",
      "Epoch 21/40\n",
      "157/157 [==============================] - 6s 34ms/step - loss: 0.0201 - accuracy: 0.9973 - val_loss: 0.0252 - val_accuracy: 0.9931\n",
      "Epoch 22/40\n",
      "157/157 [==============================] - 6s 36ms/step - loss: 0.0191 - accuracy: 0.9978 - val_loss: 0.0268 - val_accuracy: 0.9928\n",
      "Epoch 23/40\n",
      "157/157 [==============================] - 6s 35ms/step - loss: 0.0159 - accuracy: 0.9981 - val_loss: 0.0234 - val_accuracy: 0.9946\n",
      "Epoch 24/40\n",
      "157/157 [==============================] - 6s 35ms/step - loss: 0.0145 - accuracy: 0.9981 - val_loss: 0.0212 - val_accuracy: 0.9946\n",
      "Epoch 25/40\n",
      "157/157 [==============================] - 6s 36ms/step - loss: 0.0130 - accuracy: 0.9985 - val_loss: 0.0221 - val_accuracy: 0.9941\n",
      "Epoch 26/40\n",
      "157/157 [==============================] - 6s 35ms/step - loss: 0.0123 - accuracy: 0.9985 - val_loss: 0.0203 - val_accuracy: 0.9944\n",
      "Epoch 27/40\n",
      "157/157 [==============================] - 6s 35ms/step - loss: 0.0103 - accuracy: 0.9989 - val_loss: 0.0183 - val_accuracy: 0.9944\n",
      "Epoch 28/40\n",
      "157/157 [==============================] - 6s 35ms/step - loss: 0.0088 - accuracy: 0.9991 - val_loss: 0.0186 - val_accuracy: 0.9949\n",
      "Epoch 29/40\n",
      "157/157 [==============================] - 6s 36ms/step - loss: 0.0083 - accuracy: 0.9994 - val_loss: 0.0180 - val_accuracy: 0.9944\n",
      "Epoch 30/40\n",
      "157/157 [==============================] - 6s 36ms/step - loss: 0.0070 - accuracy: 0.9995 - val_loss: 0.0194 - val_accuracy: 0.9936\n",
      "Epoch 31/40\n",
      "157/157 [==============================] - 6s 37ms/step - loss: 0.0090 - accuracy: 0.9986 - val_loss: 0.0169 - val_accuracy: 0.9951\n",
      "Epoch 32/40\n",
      "157/157 [==============================] - 6s 35ms/step - loss: 0.0069 - accuracy: 0.9993 - val_loss: 0.0170 - val_accuracy: 0.9944\n",
      "Epoch 33/40\n",
      "157/157 [==============================] - 6s 35ms/step - loss: 0.0056 - accuracy: 0.9996 - val_loss: 0.0181 - val_accuracy: 0.9944\n",
      "Epoch 34/40\n",
      "157/157 [==============================] - 6s 34ms/step - loss: 0.0059 - accuracy: 0.9996 - val_loss: 0.0165 - val_accuracy: 0.9954\n",
      "Epoch 35/40\n",
      "157/157 [==============================] - 6s 35ms/step - loss: 0.0057 - accuracy: 0.9991 - val_loss: 0.0185 - val_accuracy: 0.9944\n",
      "Epoch 36/40\n",
      "157/157 [==============================] - 6s 37ms/step - loss: 0.0052 - accuracy: 0.9994 - val_loss: 0.0162 - val_accuracy: 0.9949\n",
      "Epoch 37/40\n",
      "157/157 [==============================] - 6s 36ms/step - loss: 0.0064 - accuracy: 0.9987 - val_loss: 0.0183 - val_accuracy: 0.9951\n",
      "Epoch 38/40\n",
      "157/157 [==============================] - 6s 35ms/step - loss: 0.0046 - accuracy: 0.9995 - val_loss: 0.0151 - val_accuracy: 0.9954\n",
      "Epoch 39/40\n",
      "157/157 [==============================] - 6s 36ms/step - loss: 0.0046 - accuracy: 0.9994 - val_loss: 0.0170 - val_accuracy: 0.9941\n",
      "Epoch 40/40\n",
      "157/157 [==============================] - 6s 37ms/step - loss: 0.0044 - accuracy: 0.9996 - val_loss: 0.0150 - val_accuracy: 0.9949\n"
     ]
    }
   ],
   "source": [
    "history=model.fit(train_ds,                    # Training data\n",
    "          validation_data=val_ds,   # Validation data and label\n",
    "          epochs=40,                       # The amount of epochs to be trained\n",
    "          batch_size=batch_size,                   \n",
    "          shuffle=True,                     # To shuffle the training data\n",
    "          callbacks=callbacks_list)         # Callbacks to execute the checkpoints\n"
   ]
  },
  {
   "cell_type": "code",
   "execution_count": 14,
   "id": "59192d95",
   "metadata": {},
   "outputs": [
    {
     "data": {
      "image/png": "[encoded data removed]",
      "text/plain": [
       "<Figure size 640x480 with 1 Axes>"
      ]
     },
     "metadata": {},
     "output_type": "display_data"
    },
    {
     "data": {
      "image/png": "[encoded data removed]",
      "text/plain": [
       "<Figure size 640x480 with 1 Axes>"
      ]
     },
     "metadata": {},
     "output_type": "display_data"
    }
   ],
   "source": [
    "import matplotlib.pyplot as plt\n",
    "\n",
    "# Plot training & validation accuracy values\n",
    "plt.plot(history.history['accuracy'])\n",
    "plt.plot(history.history['val_accuracy'])\n",
    "plt.title('Model accuracy')\n",
    "plt.ylabel('Accuracy')\n",
    "plt.xlabel('Epoch')\n",
    "plt.legend(['Train', 'Val'], loc='upper left')\n",
    "plt.show()\n",
    "\n",
    "# Plot training & validation loss values\n",
    "plt.plot(history.history['loss'])\n",
    "plt.plot(history.history['val_loss'])\n",
    "plt.title('Model loss')\n",
    "plt.ylabel('Loss')\n",
    "plt.xlabel('Epoch')\n",
    "plt.legend(['Train', 'Val'], loc='upper left')\n",
    "plt.show()"
   ]
  },
  {
   "cell_type": "code",
   "execution_count": null,
   "id": "a3d32a56",
   "metadata": {},
   "outputs": [],
   "source": []
  },
  {
   "cell_type": "code",
   "execution_count": 15,
   "id": "6c9423a5",
   "metadata": {},
   "outputs": [
    {
     "name": "stdout",
     "output_type": "stream",
     "text": [
      "Found 935 files belonging to 9 classes.\n"
     ]
    }
   ],
   "source": [
    "test_ds = tf.keras.utils.image_dataset_from_directory(\n",
    "  test_dir,\n",
    "  seed=123,\n",
    "  shuffle=False,\n",
    "  image_size=(img_height, img_width),\n",
    "  batch_size=1)"
   ]
  },
  {
   "cell_type": "code",
   "execution_count": 16,
   "id": "1c2212f6",
   "metadata": {},
   "outputs": [
    {
     "name": "stderr",
     "output_type": "stream",
     "text": [
      "2022-10-24 21:37:55.950430: I tensorflow/core/grappler/optimizers/custom_graph_optimizer_registry.cc:113] Plugin optimizer for device_type GPU is enabled.\n"
     ]
    },
    {
     "name": "stdout",
     "output_type": "stream",
     "text": [
      "935/935 [==============================] - 3s 2ms/step\n"
     ]
    }
   ],
   "source": [
    "test_classes=test_ds.class_names \n",
    "predicts    = model.predict(test_ds)  "
   ]
  },
  {
   "cell_type": "code",
   "execution_count": 17,
   "id": "54386ae9",
   "metadata": {},
   "outputs": [],
   "source": [
    "from sklearn import metrics \n",
    "from sklearn.metrics import classification_report, confusion_matrix \n",
    "import seaborn as sns"
   ]
  },
  {
   "cell_type": "code",
   "execution_count": 18,
   "id": "45b5c63e",
   "metadata": {},
   "outputs": [
    {
     "name": "stdout",
     "output_type": "stream",
     "text": [
      "935/935 [==============================] - 2s 2ms/step\n",
      "there were 934 correct predictions in 935 tests for an accuracy of  99.89 % \n"
     ]
    },
    {
     "data": {
      "image/png": "[encoded data removed]",
      "text/plain": [
       "<Figure size 400x400 with 1 Axes>"
      ]
     },
     "metadata": {},
     "output_type": "display_data"
    }
   ],
   "source": [
    "ytrue=[]\n",
    "for images, label in test_ds:   \n",
    "    for e in label:\n",
    "        ytrue.append(test_classes[e]) # list of class names associated with each image file in test dataset \n",
    "ypred=[]\n",
    "errors=0\n",
    "count=0\n",
    "preds=model.predict(test_ds, verbose=1) # predict on the test data\n",
    "for i, p in enumerate(preds):\n",
    "    count +=1\n",
    "    index=np.argmax(p) # get index of prediction with highest probability\n",
    "    klass=test_classes[index] \n",
    "    ypred.append(klass)  \n",
    "    if klass != ytrue[i]:\n",
    "        errors +=1\n",
    "        \n",
    "acc= (count-errors)* 100/count\n",
    "msg=f'there were {count-errors} correct predictions in {count} tests for an accuracy of {acc:6.2f} % '\n",
    "print(msg) \n",
    "ypred=np.array(ypred)\n",
    "ytrue=np.array(ytrue)\n",
    "if len(test_classes)<= 30: # if more than 30 classes plot is not useful to cramed\n",
    "        # create a confusion matrix \n",
    "        cm = confusion_matrix(ytrue, ypred )        \n",
    "        length=len(test_classes)\n",
    "        if length<8:\n",
    "            fig_width=8\n",
    "            fig_height=8\n",
    "        else:\n",
    "            fig_width= int(length * .5)\n",
    "            fig_height= int(length * .5)\n",
    "        plt.figure(figsize=(fig_width, fig_height))\n",
    "        sns.heatmap(cm, annot=True, vmin=0, fmt='g', cmap='Blues', cbar=False)       \n",
    "        plt.xticks(np.arange(length)+.5, test_classes, rotation= 90)\n",
    "        plt.yticks(np.arange(length)+.5, test_classes, rotation=0)\n",
    "        plt.xlabel(\"Predicted\")\n",
    "        plt.ylabel(\"Actual\")\n",
    "        plt.title(\"Confusion Matrix\")\n",
    "        plt.show()"
   ]
  },
  {
   "cell_type": "code",
   "execution_count": 19,
   "id": "ba1e868d",
   "metadata": {},
   "outputs": [
    {
     "name": "stdout",
     "output_type": "stream",
     "text": [
      "Best accuracy (on testing dataset): 99.89%\n",
      "              precision    recall  f1-score   support\n",
      "\n",
      "          c0     0.9901    1.0000    0.9950       100\n",
      "          c1     1.0000    1.0000    1.0000       101\n",
      "          c2     1.0000    1.0000    1.0000       101\n",
      "          c3     1.0000    1.0000    1.0000       115\n",
      "          c4     1.0000    0.9915    0.9957       118\n",
      "          c5     1.0000    1.0000    1.0000        98\n",
      "          c6     1.0000    1.0000    1.0000       100\n",
      "          c7     1.0000    1.0000    1.0000       104\n",
      "          c9     1.0000    1.0000    1.0000        98\n",
      "\n",
      "    accuracy                         0.9989       935\n",
      "   macro avg     0.9989    0.9991    0.9990       935\n",
      "weighted avg     0.9989    0.9989    0.9989       935\n",
      "\n"
     ]
    }
   ],
   "source": [
    "testScores  = metrics.accuracy_score( ytrue,ypred)                           # Step 3\n",
    "\n",
    "                                                                                # Step 4\n",
    "print(\"Best accuracy (on testing dataset): %.2f%%\" % (testScores*100))\n",
    "print(metrics.classification_report(ytrue,\n",
    "                                    ypred,\n",
    "                                    target_names=test_classes,\n",
    "                                    digits=4)) "
   ]
  },
  {
   "cell_type": "code",
   "execution_count": null,
   "id": "13480dc5",
   "metadata": {},
   "outputs": [],
   "source": []
  }
 ],
 "metadata": {
  "kernelspec": {
   "display_name": "env_tf",
   "language": "python",
   "name": "env_tf"
  },
  "language_info": {
   "codemirror_mode": {
    "name": "ipython",
    "version": 3
   },
   "file_extension": ".py",
   "mimetype": "text/x-python",
   "name": "python",
   "nbconvert_exporter": "python",
   "pygments_lexer": "ipython3",
   "version": "3.9.13"
  }
 },
 "nbformat": 4,
 "nbformat_minor": 5
}
