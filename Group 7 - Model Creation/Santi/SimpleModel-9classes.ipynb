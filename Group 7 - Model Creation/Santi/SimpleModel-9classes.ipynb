{
 "cells": [
  {
   "cell_type": "code",
   "execution_count": 1,
   "id": "ca386181",
   "metadata": {},
   "outputs": [
    {
     "name": "stdout",
     "output_type": "stream",
     "text": [
      "Versions of key libraries\n",
      "---\n",
      "tensorflow:  2.9.2\n",
      "numpy:       1.22.4\n",
      "matplotlib:  3.5.3\n",
      "sklearn:     1.1.2\n"
     ]
    }
   ],
   "source": [
    "import matplotlib\n",
    "import sklearn\n",
    "import numpy as np\n",
    "import pandas as pd\n",
    "import sklearn.metrics as metrics\n",
    "import matplotlib.pyplot as plt\n",
    "import tensorflow as tf\n",
    "\n",
    "\n",
    "from tensorflow.keras.callbacks import ModelCheckpoint,CSVLogger,LearningRateScheduler\n",
    "from tensorflow.keras.models import Model\n",
    "from tensorflow.keras.layers import Input\n",
    "from tensorflow.keras.layers import Dense\n",
    "from tensorflow.keras.layers import Dropout\n",
    "from tensorflow.keras.layers import Flatten\n",
    "from tensorflow.keras.layers import Conv2D\n",
    "from tensorflow.keras.layers import MaxPooling2D\n",
    "from tensorflow.keras.layers import BatchNormalization\n",
    "from tensorflow.keras.layers import Activation\n",
    "from tensorflow.keras.layers import AveragePooling2D\n",
    "from tensorflow.keras.layers import RandomFlip\n",
    "from tensorflow.keras.layers import RandomRotation\n",
    "from tensorflow.keras.layers import RandomZoom\n",
    "from tensorflow.keras.layers import add\n",
    "from tensorflow.keras.regularizers import l2\n",
    "from tensorflow.keras.utils import to_categorical\n",
    "from tensorflow.keras.datasets import cifar10\n",
    "from tensorflow.keras import optimizers\n",
    "from tensorflow.keras.preprocessing.image import ImageDataGenerator\n",
    "from tensorflow.keras.utils import plot_model\n",
    "\n",
    "print(\"Versions of key libraries\")\n",
    "print(\"---\")\n",
    "print(\"tensorflow: \", tf.__version__)\n",
    "print(\"numpy:      \", np.__version__)\n",
    "print(\"matplotlib: \", matplotlib.__version__)\n",
    "print(\"sklearn:    \", sklearn.__version__)"
   ]
  },
  {
   "cell_type": "code",
   "execution_count": 2,
   "id": "41ee210e",
   "metadata": {},
   "outputs": [],
   "source": [
    "import pathlib\n",
    "\n",
    "import tensorflow as tf\n",
    "import tensorflow_hub as hub"
   ]
  },
  {
   "cell_type": "code",
   "execution_count": 3,
   "id": "9c10883f",
   "metadata": {},
   "outputs": [
    {
     "name": "stdout",
     "output_type": "stream",
     "text": [
      "/Users/santi/apps/tensorflow/datasets/state-farm-distracted-driver-detection/imgs/train\n",
      "/Users/santi/apps/tensorflow/datasets/state-farm-distracted-driver-detection/imgs/testresult\n"
     ]
    }
   ],
   "source": [
    "data_dir = '/Users/santi/apps/tensorflow/datasets/state-farm-distracted-driver-detection/imgs/train/'\n",
    "data_dir = pathlib.Path(data_dir)\n",
    "print(data_dir)\n",
    "\n",
    "# val_dir = '/Users/santi/apps/tensorflow/datasets/driver-fatigue/output/val/'\n",
    "# val_dir = pathlib.Path(val_dir)\n",
    "# print(val_dir)\n",
    "\n",
    "test_dir = '/Users/santi/apps/tensorflow/datasets/state-farm-distracted-driver-detection/imgs/testresult/'\n",
    "test_dir = pathlib.Path(test_dir)\n",
    "print(test_dir)"
   ]
  },
  {
   "cell_type": "code",
   "execution_count": 4,
   "id": "4567d28f",
   "metadata": {},
   "outputs": [
    {
     "name": "stdout",
     "output_type": "stream",
     "text": [
      "19578\n"
     ]
    }
   ],
   "source": [
    "image_count = len(list(data_dir.glob('*/*.jpg')))\n",
    "print(image_count)"
   ]
  },
  {
   "cell_type": "code",
   "execution_count": 5,
   "id": "d8208b0a",
   "metadata": {},
   "outputs": [],
   "source": [
    "batch_size = 100\n",
    "img_height = 224\n",
    "img_width = 224\n",
    "\n",
    "IMAGE_SHAPE = (224, 224)"
   ]
  },
  {
   "cell_type": "code",
   "execution_count": 6,
   "id": "3ae8c212",
   "metadata": {},
   "outputs": [],
   "source": [
    "from keras.applications.vgg16 import VGG16, preprocess_input\n",
    "# from tensorflow.keras.applications.MobileNetV2 import MobileNetV2"
   ]
  },
  {
   "cell_type": "code",
   "execution_count": 7,
   "id": "86367f70",
   "metadata": {},
   "outputs": [
    {
     "name": "stdout",
     "output_type": "stream",
     "text": [
      "Metal device set to: Apple M1 Max\n",
      "Model: \"model\"\n",
      "_________________________________________________________________\n",
      " Layer (type)                Output Shape              Param #   \n",
      "=================================================================\n",
      " input_1 (InputLayer)        [(None, 224, 224, 3)]     0         \n",
      "                                                                 \n",
      " Input_conv (Conv2D)         (None, 222, 222, 32)      896       \n",
      "                                                                 \n",
      " layer1_bn (BatchNormalizati  (None, 222, 222, 32)     128       \n",
      " on)                                                             \n",
      "                                                                 \n",
      " Layer1_conv (Conv2D)        (None, 222, 222, 64)      18496     \n",
      "                                                                 \n",
      " layer2_bn (BatchNormalizati  (None, 222, 222, 64)     256       \n",
      " on)                                                             \n",
      "                                                                 \n",
      " Layer1_Blk_relu (Activation  (None, 222, 222, 64)     0         \n",
      " )                                                               \n",
      "                                                                 \n",
      " max_pooling2d (MaxPooling2D  (None, 111, 111, 64)     0         \n",
      " )                                                               \n",
      "                                                                 \n",
      " flatten (Flatten)           (None, 788544)            0         \n",
      "                                                                 \n",
      " dense (Dense)               (None, 32)                25233440  \n",
      "                                                                 \n",
      " dropout (Dropout)           (None, 32)                0         \n",
      "                                                                 \n",
      " dense_1 (Dense)             (None, 9)                 297       \n",
      "                                                                 \n",
      "=================================================================\n",
      "Total params: 25,253,513\n",
      "Trainable params: 25,253,321\n",
      "Non-trainable params: 192\n",
      "_________________________________________________________________\n"
     ]
    },
    {
     "name": "stderr",
     "output_type": "stream",
     "text": [
      "2022-10-23 15:24:56.864347: I tensorflow/core/common_runtime/pluggable_device/pluggable_device_factory.cc:305] Could not identify NUMA node of platform GPU ID 0, defaulting to 0. Your kernel may not have been built with NUMA support.\n",
      "2022-10-23 15:24:56.864572: I tensorflow/core/common_runtime/pluggable_device/pluggable_device_factory.cc:271] Created TensorFlow device (/job:localhost/replica:0/task:0/device:GPU:0 with 0 MB memory) -> physical PluggableDevice (device: 0, name: METAL, pci bus id: <undefined>)\n"
     ]
    }
   ],
   "source": [
    "optmz       = 'adam' #     optimizers.RMSprop(learning_rate=0.0001)    \n",
    "#modelname   = 'tl_driver_distraction_model_01' #normal all data\n",
    "modelname   = 'tl_driver_distraction_model_04' #remove c8 from training data\n",
    "base_learning_rate = 0.0001\n",
    "def createModel(inputShape=(img_height,img_width,3),numClasses=9):\n",
    "    \n",
    "  \n",
    "    inputs = Input(shape=inputShape)\n",
    "#     conv_base = VGG16(include_top=False,\n",
    "#                      weights='imagenet', \n",
    "#                      input_shape=inputShape)\n",
    "    \n",
    "    \n",
    "#     conv_base = tf.keras.applications.MobileNetV2(input_shape=inputShape,\n",
    "#                                                include_top=False,\n",
    "#                                                weights='imagenet')\n",
    "    v = Conv2D(32,\n",
    "                  kernel_size=3,\n",
    "                  #strides=1,\n",
    "                         name='Input' +'_conv')(inputs)\n",
    "    v   = BatchNormalization(name='layer1_bn')(v)\n",
    "    v = Conv2D(64,\n",
    "                         kernel_size=3,\n",
    "                         #strides=1,\n",
    "                         padding='same',\n",
    "                         name='Layer1'+'_conv')(v)\n",
    "    v   = BatchNormalization(name='layer2_bn')(v)\n",
    "    v = Activation('relu', name='Layer1'+'_Blk'+'_relu')(v)\n",
    "    v = MaxPooling2D(pool_size=(2, 2),strides=2, padding='valid')(v) #strides change the dimension\n",
    "#     v = Flatten() (v)\n",
    "#     top_model = conv_base.output\n",
    "    v = Flatten(name=\"flatten\")(v)\n",
    "#     top_model = Dense(4096, activation='relu')(top_model)\n",
    "    v = Dense(32, activation='relu')(v)\n",
    "    v = Dropout(0.2)(v)\n",
    "\n",
    "#     top_model.trainable = False\n",
    "    outputs = Dense(numClasses,\n",
    "                activation='softmax')(v)\n",
    "    \n",
    "    model       = Model(inputs=inputs,outputs=outputs)\n",
    "    model.compile(loss='sparse_categorical_crossentropy',\n",
    "              optimizer=tf.keras.optimizers.Adam(learning_rate=base_learning_rate),\n",
    "              metrics=['accuracy'])    \n",
    "    return model\n",
    "\n",
    "\n",
    "model = createModel()\n",
    "model.summary()   \n",
    "    "
   ]
  },
  {
   "cell_type": "code",
   "execution_count": 8,
   "id": "65440bdd",
   "metadata": {},
   "outputs": [
    {
     "name": "stdout",
     "output_type": "stream",
     "text": [
      "Callbacks created:\n",
      "<keras.callbacks.ModelCheckpoint object at 0x104e4e460>\n",
      "<keras.callbacks.CSVLogger object at 0x104e4e130>\n",
      "\n",
      "Path to model: /Users/santi/apps/tensorflow/model/tl_driver_distraction_model_04.hdf5\n",
      "Path to log:   /Users/santi/apps/tensorflow/model/tl_driver_distraction_model_04.csv\n"
     ]
    }
   ],
   "source": [
    "folderpath      = '/Users/santi/apps/tensorflow/model/'\n",
    "filepath        = folderpath + modelname + \".hdf5\"\n",
    "checkpoint      = ModelCheckpoint(filepath, \n",
    "                                  monitor='val_accuracy', \n",
    "                                  verbose=0, \n",
    "                                  save_best_only=True, \n",
    "                                  mode='max')\n",
    "\n",
    "csv_logger      = CSVLogger(folderpath+modelname +'.csv')                       # Step 2\n",
    "callbacks_list  = [checkpoint,csv_logger]                                       # Step 3\n",
    "\n",
    "print(\"Callbacks created:\")\n",
    "print(callbacks_list[0])\n",
    "print(callbacks_list[1])\n",
    "print('')\n",
    "print(\"Path to model:\", filepath)\n",
    "print(\"Path to log:  \", folderpath+modelname+'.csv')"
   ]
  },
  {
   "cell_type": "code",
   "execution_count": 9,
   "id": "d4ac9088",
   "metadata": {},
   "outputs": [
    {
     "name": "stdout",
     "output_type": "stream",
     "text": [
      "Path to plot: /Users/santi/apps/tensorflow/model/tl_driver_distraction_model_04_plot.png\n"
     ]
    }
   ],
   "source": [
    "plotpath  = folderpath+modelname+'_plot.png'\n",
    "plot_model(model, \n",
    "           to_file=plotpath, \n",
    "           show_shapes=True, \n",
    "           show_layer_names=False,\n",
    "           rankdir='TB')\n",
    "\n",
    "print(\"Path to plot:\", plotpath)"
   ]
  },
  {
   "cell_type": "code",
   "execution_count": 10,
   "id": "469a4598",
   "metadata": {},
   "outputs": [
    {
     "name": "stdout",
     "output_type": "stream",
     "text": [
      "Found 19578 files belonging to 9 classes.\n",
      "Using 15663 files for training.\n"
     ]
    }
   ],
   "source": [
    "train_ds = tf.keras.utils.image_dataset_from_directory(\n",
    "  data_dir,\n",
    "  validation_split=0.2,\n",
    "  subset=\"training\",\n",
    "  seed=123,\n",
    "  image_size=(img_height, img_width),\n",
    "  batch_size=batch_size)"
   ]
  },
  {
   "cell_type": "code",
   "execution_count": 11,
   "id": "3dda69f5",
   "metadata": {},
   "outputs": [],
   "source": [
    "class_names = train_ds.class_names"
   ]
  },
  {
   "cell_type": "code",
   "execution_count": 12,
   "id": "6893647e",
   "metadata": {},
   "outputs": [
    {
     "name": "stdout",
     "output_type": "stream",
     "text": [
      "Found 19578 files belonging to 9 classes.\n",
      "Using 3915 files for validation.\n"
     ]
    }
   ],
   "source": [
    "val_ds = tf.keras.utils.image_dataset_from_directory(\n",
    "  data_dir,\n",
    "  validation_split=0.2,\n",
    "  subset=\"validation\",\n",
    "  seed=123,\n",
    "  image_size=(img_height, img_width),\n",
    "  batch_size=batch_size)"
   ]
  },
  {
   "cell_type": "code",
   "execution_count": 13,
   "id": "5f612da0",
   "metadata": {},
   "outputs": [
    {
     "name": "stdout",
     "output_type": "stream",
     "text": [
      "Epoch 1/40\n"
     ]
    },
    {
     "name": "stderr",
     "output_type": "stream",
     "text": [
      "2022-10-23 15:25:08.864266: W tensorflow/core/platform/profile_utils/cpu_utils.cc:128] Failed to get CPU frequency: 0 Hz\n",
      "2022-10-23 15:25:08.864414: I tensorflow/core/grappler/optimizers/custom_graph_optimizer_registry.cc:113] Plugin optimizer for device_type GPU is enabled.\n"
     ]
    },
    {
     "name": "stdout",
     "output_type": "stream",
     "text": [
      "157/157 [==============================] - ETA: 0s - loss: 3.0016 - accuracy: 0.1207"
     ]
    },
    {
     "name": "stderr",
     "output_type": "stream",
     "text": [
      "2022-10-23 15:26:33.956125: I tensorflow/core/grappler/optimizers/custom_graph_optimizer_registry.cc:113] Plugin optimizer for device_type GPU is enabled.\n"
     ]
    },
    {
     "name": "stdout",
     "output_type": "stream",
     "text": [
      "157/157 [==============================] - 100s 632ms/step - loss: 3.0016 - accuracy: 0.1207 - val_loss: 2.1972 - val_accuracy: 0.1155\n",
      "Epoch 2/40\n",
      "157/157 [==============================] - 99s 626ms/step - loss: 2.1970 - accuracy: 0.1237 - val_loss: 2.1971 - val_accuracy: 0.1155\n",
      "Epoch 3/40\n",
      "157/157 [==============================] - 99s 627ms/step - loss: 2.1969 - accuracy: 0.1237 - val_loss: 2.1971 - val_accuracy: 0.1155\n",
      "Epoch 4/40\n",
      "157/157 [==============================] - 99s 629ms/step - loss: 2.1968 - accuracy: 0.1237 - val_loss: 2.1970 - val_accuracy: 0.1155\n",
      "Epoch 5/40\n",
      "157/157 [==============================] - 99s 631ms/step - loss: 2.1966 - accuracy: 0.1237 - val_loss: 2.1970 - val_accuracy: 0.1155\n",
      "Epoch 6/40\n",
      "157/157 [==============================] - 99s 627ms/step - loss: 2.1965 - accuracy: 0.1237 - val_loss: 2.1969 - val_accuracy: 0.1155\n",
      "Epoch 7/40\n",
      "157/157 [==============================] - 99s 628ms/step - loss: 2.1963 - accuracy: 0.1237 - val_loss: 2.1969 - val_accuracy: 0.1155\n",
      "Epoch 8/40\n",
      "157/157 [==============================] - 99s 629ms/step - loss: 2.1962 - accuracy: 0.1237 - val_loss: 2.1968 - val_accuracy: 0.1155\n",
      "Epoch 9/40\n",
      "157/157 [==============================] - 99s 631ms/step - loss: 2.1961 - accuracy: 0.1237 - val_loss: 2.1968 - val_accuracy: 0.1155\n",
      "Epoch 10/40\n",
      "157/157 [==============================] - 99s 631ms/step - loss: 2.1960 - accuracy: 0.1237 - val_loss: 2.1968 - val_accuracy: 0.1155\n",
      "Epoch 11/40\n",
      "157/157 [==============================] - 99s 629ms/step - loss: 2.1959 - accuracy: 0.1237 - val_loss: 2.1968 - val_accuracy: 0.1155\n",
      "Epoch 12/40\n",
      "157/157 [==============================] - 99s 629ms/step - loss: 2.1958 - accuracy: 0.1237 - val_loss: 2.1968 - val_accuracy: 0.1155\n",
      "Epoch 13/40\n",
      "157/157 [==============================] - 99s 630ms/step - loss: 2.1957 - accuracy: 0.1237 - val_loss: 2.1968 - val_accuracy: 0.1155\n",
      "Epoch 14/40\n",
      "157/157 [==============================] - 99s 628ms/step - loss: 2.1956 - accuracy: 0.1237 - val_loss: 2.1968 - val_accuracy: 0.1155\n",
      "Epoch 15/40\n",
      "157/157 [==============================] - 99s 630ms/step - loss: 2.1956 - accuracy: 0.1237 - val_loss: 2.1968 - val_accuracy: 0.1155\n",
      "Epoch 16/40\n",
      "157/157 [==============================] - 99s 629ms/step - loss: 2.1955 - accuracy: 0.1237 - val_loss: 2.1968 - val_accuracy: 0.1155\n",
      "Epoch 17/40\n",
      "157/157 [==============================] - 99s 631ms/step - loss: 2.1955 - accuracy: 0.1237 - val_loss: 2.1968 - val_accuracy: 0.1155\n",
      "Epoch 18/40\n",
      "157/157 [==============================] - 99s 632ms/step - loss: 2.1954 - accuracy: 0.1237 - val_loss: 2.1968 - val_accuracy: 0.1155\n",
      "Epoch 19/40\n",
      "157/157 [==============================] - 99s 630ms/step - loss: 2.1954 - accuracy: 0.1237 - val_loss: 2.1968 - val_accuracy: 0.1155\n",
      "Epoch 20/40\n",
      "157/157 [==============================] - 99s 628ms/step - loss: 2.1953 - accuracy: 0.1237 - val_loss: 2.1968 - val_accuracy: 0.1155\n",
      "Epoch 21/40\n",
      "157/157 [==============================] - 99s 626ms/step - loss: 2.1953 - accuracy: 0.1237 - val_loss: 2.1968 - val_accuracy: 0.1155\n",
      "Epoch 22/40\n",
      "157/157 [==============================] - 99s 627ms/step - loss: 2.1953 - accuracy: 0.1237 - val_loss: 2.1968 - val_accuracy: 0.1155\n",
      "Epoch 23/40\n",
      "157/157 [==============================] - 99s 631ms/step - loss: 2.1952 - accuracy: 0.1237 - val_loss: 2.1969 - val_accuracy: 0.1155\n",
      "Epoch 24/40\n",
      "157/157 [==============================] - 99s 628ms/step - loss: 2.1952 - accuracy: 0.1237 - val_loss: 2.1969 - val_accuracy: 0.1155\n",
      "Epoch 25/40\n",
      "157/157 [==============================] - 99s 628ms/step - loss: 2.1952 - accuracy: 0.1237 - val_loss: 2.1969 - val_accuracy: 0.1155\n",
      "Epoch 26/40\n",
      "157/157 [==============================] - 99s 627ms/step - loss: 2.1951 - accuracy: 0.1237 - val_loss: 2.1969 - val_accuracy: 0.1155\n",
      "Epoch 27/40\n",
      "157/157 [==============================] - 99s 629ms/step - loss: 2.1951 - accuracy: 0.1237 - val_loss: 2.1969 - val_accuracy: 0.1155\n",
      "Epoch 28/40\n",
      "157/157 [==============================] - 99s 627ms/step - loss: 2.1951 - accuracy: 0.1237 - val_loss: 2.1969 - val_accuracy: 0.1155\n",
      "Epoch 29/40\n",
      "157/157 [==============================] - 99s 630ms/step - loss: 2.1951 - accuracy: 0.1237 - val_loss: 2.1970 - val_accuracy: 0.1155\n",
      "Epoch 30/40\n",
      "157/157 [==============================] - 99s 632ms/step - loss: 2.1951 - accuracy: 0.1237 - val_loss: 2.1970 - val_accuracy: 0.1155\n",
      "Epoch 31/40\n",
      "157/157 [==============================] - 99s 631ms/step - loss: 2.1951 - accuracy: 0.1237 - val_loss: 2.1970 - val_accuracy: 0.1155\n",
      "Epoch 32/40\n",
      "157/157 [==============================] - 99s 631ms/step - loss: 2.1951 - accuracy: 0.1237 - val_loss: 2.1970 - val_accuracy: 0.1155\n",
      "Epoch 33/40\n",
      "157/157 [==============================] - 99s 631ms/step - loss: 2.1950 - accuracy: 0.1237 - val_loss: 2.1970 - val_accuracy: 0.1155\n",
      "Epoch 34/40\n",
      "157/157 [==============================] - 99s 629ms/step - loss: 2.1950 - accuracy: 0.1237 - val_loss: 2.1971 - val_accuracy: 0.1155\n",
      "Epoch 35/40\n",
      "157/157 [==============================] - 99s 627ms/step - loss: 2.1950 - accuracy: 0.1237 - val_loss: 2.1971 - val_accuracy: 0.1155\n",
      "Epoch 36/40\n",
      "157/157 [==============================] - 99s 632ms/step - loss: 2.1950 - accuracy: 0.1237 - val_loss: 2.1971 - val_accuracy: 0.1155\n",
      "Epoch 37/40\n",
      "157/157 [==============================] - 99s 631ms/step - loss: 2.1950 - accuracy: 0.1237 - val_loss: 2.1971 - val_accuracy: 0.1155\n",
      "Epoch 38/40\n",
      "157/157 [==============================] - 99s 631ms/step - loss: 2.1950 - accuracy: 0.1237 - val_loss: 2.1971 - val_accuracy: 0.1155\n",
      "Epoch 39/40\n",
      "157/157 [==============================] - 99s 630ms/step - loss: 2.1950 - accuracy: 0.1237 - val_loss: 2.1971 - val_accuracy: 0.1155\n",
      "Epoch 40/40\n",
      "157/157 [==============================] - 99s 631ms/step - loss: 2.1950 - accuracy: 0.1237 - val_loss: 2.1971 - val_accuracy: 0.1155\n"
     ]
    }
   ],
   "source": [
    "history=model.fit(train_ds,                    # Training data\n",
    "          validation_data=val_ds,   # Validation data and label\n",
    "          epochs=40,                       # The amount of epochs to be trained\n",
    "          batch_size=batch_size,                   \n",
    "          shuffle=True,                     # To shuffle the training data\n",
    "          callbacks=callbacks_list)         # Callbacks to execute the checkpoints\n"
   ]
  },
  {
   "cell_type": "code",
   "execution_count": 14,
   "id": "0ae90583",
   "metadata": {},
   "outputs": [
    {
     "data": {
      "image/png": "[encoded data removed]",
      "text/plain": [
       "<Figure size 640x480 with 1 Axes>"
      ]
     },
     "metadata": {},
     "output_type": "display_data"
    },
    {
     "data": {
      "image/png": "[encoded data removed]",
      "text/plain": [
       "<Figure size 640x480 with 1 Axes>"
      ]
     },
     "metadata": {},
     "output_type": "display_data"
    }
   ],
   "source": [
    "import matplotlib.pyplot as plt\n",
    "\n",
    "# Plot training & validation accuracy values\n",
    "plt.plot(history.history['accuracy'])\n",
    "plt.plot(history.history['val_accuracy'])\n",
    "plt.title('Model accuracy')\n",
    "plt.ylabel('Accuracy')\n",
    "plt.xlabel('Epoch')\n",
    "plt.legend(['Train', 'Val'], loc='upper left')\n",
    "plt.show()\n",
    "\n",
    "# Plot training & validation loss values\n",
    "plt.plot(history.history['loss'])\n",
    "plt.plot(history.history['val_loss'])\n",
    "plt.title('Model loss')\n",
    "plt.ylabel('Loss')\n",
    "plt.xlabel('Epoch')\n",
    "plt.legend(['Train', 'Val'], loc='upper left')\n",
    "plt.show()"
   ]
  },
  {
   "cell_type": "code",
   "execution_count": null,
   "id": "a33299d9",
   "metadata": {},
   "outputs": [],
   "source": []
  },
  {
   "cell_type": "code",
   "execution_count": 15,
   "id": "0bfb2eaf",
   "metadata": {},
   "outputs": [
    {
     "name": "stdout",
     "output_type": "stream",
     "text": [
      "Found 935 files belonging to 9 classes.\n"
     ]
    }
   ],
   "source": [
    "test_ds = tf.keras.utils.image_dataset_from_directory(\n",
    "  test_dir,\n",
    "  seed=123,\n",
    "  shuffle=False,\n",
    "  image_size=(img_height, img_width),\n",
    "  batch_size=1)"
   ]
  },
  {
   "cell_type": "code",
   "execution_count": 16,
   "id": "89142432",
   "metadata": {},
   "outputs": [
    {
     "name": "stdout",
     "output_type": "stream",
     "text": [
      "  7/935 [..............................] - ETA: 16s"
     ]
    },
    {
     "name": "stderr",
     "output_type": "stream",
     "text": [
      "2022-10-23 16:32:24.469927: I tensorflow/core/grappler/optimizers/custom_graph_optimizer_registry.cc:113] Plugin optimizer for device_type GPU is enabled.\n"
     ]
    },
    {
     "name": "stdout",
     "output_type": "stream",
     "text": [
      "935/935 [==============================] - 11s 12ms/step\n"
     ]
    }
   ],
   "source": [
    "test_classes=test_ds.class_names \n",
    "predicts    = model.predict(test_ds)  "
   ]
  },
  {
   "cell_type": "code",
   "execution_count": 17,
   "id": "397af4fd",
   "metadata": {},
   "outputs": [],
   "source": [
    "from sklearn import metrics \n",
    "from sklearn.metrics import classification_report, confusion_matrix \n",
    "import seaborn as sns"
   ]
  },
  {
   "cell_type": "code",
   "execution_count": 18,
   "id": "d56196da",
   "metadata": {},
   "outputs": [
    {
     "name": "stdout",
     "output_type": "stream",
     "text": [
      "935/935 [==============================] - 11s 12ms/step\n",
      "there were 100 correct predictions in 935 tests for an accuracy of  10.70 % \n"
     ]
    },
    {
     "data": {
      "image/png": "[encoded data removed]",
      "text/plain": [
       "<Figure size 400x400 with 1 Axes>"
      ]
     },
     "metadata": {},
     "output_type": "display_data"
    }
   ],
   "source": [
    "ytrue=[]\n",
    "for images, label in test_ds:   \n",
    "    for e in label:\n",
    "        ytrue.append(test_classes[e]) # list of class names associated with each image file in test dataset \n",
    "ypred=[]\n",
    "errors=0\n",
    "count=0\n",
    "preds=model.predict(test_ds, verbose=1) # predict on the test data\n",
    "for i, p in enumerate(preds):\n",
    "    count +=1\n",
    "    index=np.argmax(p) # get index of prediction with highest probability\n",
    "    klass=test_classes[index] \n",
    "    ypred.append(klass)  \n",
    "    if klass != ytrue[i]:\n",
    "        errors +=1\n",
    "        \n",
    "acc= (count-errors)* 100/count\n",
    "msg=f'there were {count-errors} correct predictions in {count} tests for an accuracy of {acc:6.2f} % '\n",
    "print(msg) \n",
    "ypred=np.array(ypred)\n",
    "ytrue=np.array(ytrue)\n",
    "if len(test_classes)<= 30: # if more than 30 classes plot is not useful to cramed\n",
    "        # create a confusion matrix \n",
    "        cm = confusion_matrix(ytrue, ypred )        \n",
    "        length=len(test_classes)\n",
    "        if length<8:\n",
    "            fig_width=8\n",
    "            fig_height=8\n",
    "        else:\n",
    "            fig_width= int(length * .5)\n",
    "            fig_height= int(length * .5)\n",
    "        plt.figure(figsize=(fig_width, fig_height))\n",
    "        sns.heatmap(cm, annot=True, vmin=0, fmt='g', cmap='Blues', cbar=False)       \n",
    "        plt.xticks(np.arange(length)+.5, test_classes, rotation= 90)\n",
    "        plt.yticks(np.arange(length)+.5, test_classes, rotation=0)\n",
    "        plt.xlabel(\"Predicted\")\n",
    "        plt.ylabel(\"Actual\")\n",
    "        plt.title(\"Confusion Matrix\")\n",
    "        plt.show()"
   ]
  },
  {
   "cell_type": "code",
   "execution_count": 19,
   "id": "6f7be4cf",
   "metadata": {},
   "outputs": [
    {
     "name": "stdout",
     "output_type": "stream",
     "text": [
      "Best accuracy (on testing dataset): 10.70%\n",
      "              precision    recall  f1-score   support\n",
      "\n",
      "          c0     0.1070    1.0000    0.1932       100\n",
      "          c1     0.0000    0.0000    0.0000       101\n",
      "          c2     0.0000    0.0000    0.0000       101\n",
      "          c3     0.0000    0.0000    0.0000       115\n",
      "          c4     0.0000    0.0000    0.0000       118\n",
      "          c5     0.0000    0.0000    0.0000        98\n",
      "          c6     0.0000    0.0000    0.0000       100\n",
      "          c7     0.0000    0.0000    0.0000       104\n",
      "          c9     0.0000    0.0000    0.0000        98\n",
      "\n",
      "    accuracy                         0.1070       935\n",
      "   macro avg     0.0119    0.1111    0.0215       935\n",
      "weighted avg     0.0114    0.1070    0.0207       935\n",
      "\n"
     ]
    },
    {
     "name": "stderr",
     "output_type": "stream",
     "text": [
      "/Users/santi/apps/miniforge3/envs/env_tf/lib/python3.9/site-packages/sklearn/metrics/_classification.py:1334: UndefinedMetricWarning: Precision and F-score are ill-defined and being set to 0.0 in labels with no predicted samples. Use `zero_division` parameter to control this behavior.\n",
      "  _warn_prf(average, modifier, msg_start, len(result))\n",
      "/Users/santi/apps/miniforge3/envs/env_tf/lib/python3.9/site-packages/sklearn/metrics/_classification.py:1334: UndefinedMetricWarning: Precision and F-score are ill-defined and being set to 0.0 in labels with no predicted samples. Use `zero_division` parameter to control this behavior.\n",
      "  _warn_prf(average, modifier, msg_start, len(result))\n",
      "/Users/santi/apps/miniforge3/envs/env_tf/lib/python3.9/site-packages/sklearn/metrics/_classification.py:1334: UndefinedMetricWarning: Precision and F-score are ill-defined and being set to 0.0 in labels with no predicted samples. Use `zero_division` parameter to control this behavior.\n",
      "  _warn_prf(average, modifier, msg_start, len(result))\n"
     ]
    }
   ],
   "source": [
    "testScores  = metrics.accuracy_score( ytrue,ypred)                           # Step 3\n",
    "\n",
    "                                                                                # Step 4\n",
    "print(\"Best accuracy (on testing dataset): %.2f%%\" % (testScores*100))\n",
    "print(metrics.classification_report(ytrue,\n",
    "                                    ypred,\n",
    "                                    target_names=test_classes,\n",
    "                                    digits=4)) "
   ]
  },
  {
   "cell_type": "code",
   "execution_count": null,
   "id": "2ac3a7a4",
   "metadata": {},
   "outputs": [],
   "source": []
  }
 ],
 "metadata": {
  "kernelspec": {
   "display_name": "env_tf",
   "language": "python",
   "name": "env_tf"
  },
  "language_info": {
   "codemirror_mode": {
    "name": "ipython",
    "version": 3
   },
   "file_extension": ".py",
   "mimetype": "text/x-python",
   "name": "python",
   "nbconvert_exporter": "python",
   "pygments_lexer": "ipython3",
   "version": "3.9.13"
  }
 },
 "nbformat": 4,
 "nbformat_minor": 5
}
