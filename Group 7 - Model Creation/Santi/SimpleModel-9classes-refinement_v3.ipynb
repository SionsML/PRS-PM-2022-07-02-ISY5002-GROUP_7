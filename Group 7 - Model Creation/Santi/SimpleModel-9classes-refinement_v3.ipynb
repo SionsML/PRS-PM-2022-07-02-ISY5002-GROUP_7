{
 "cells": [
  {
   "cell_type": "code",
   "execution_count": 1,
   "id": "99937815",
   "metadata": {},
   "outputs": [
    {
     "name": "stdout",
     "output_type": "stream",
     "text": [
      "Versions of key libraries\n",
      "---\n",
      "tensorflow:  2.9.2\n",
      "numpy:       1.22.4\n",
      "matplotlib:  3.5.3\n",
      "sklearn:     1.1.2\n"
     ]
    }
   ],
   "source": [
    "import matplotlib\n",
    "import sklearn\n",
    "import numpy as np\n",
    "import pandas as pd\n",
    "import sklearn.metrics as metrics\n",
    "import matplotlib.pyplot as plt\n",
    "import tensorflow as tf\n",
    "\n",
    "\n",
    "from tensorflow.keras.callbacks import ModelCheckpoint,CSVLogger,LearningRateScheduler\n",
    "from tensorflow.keras.models import Model\n",
    "from tensorflow.keras.layers import Input\n",
    "from tensorflow.keras.layers import Dense\n",
    "from tensorflow.keras.layers import Dropout\n",
    "from tensorflow.keras.layers import Flatten\n",
    "from tensorflow.keras.layers import Conv2D\n",
    "from tensorflow.keras.layers import MaxPooling2D\n",
    "from tensorflow.keras.layers import BatchNormalization\n",
    "from tensorflow.keras.layers import Activation\n",
    "from tensorflow.keras.layers import AveragePooling2D\n",
    "from tensorflow.keras.layers import RandomFlip\n",
    "from tensorflow.keras.layers import RandomRotation\n",
    "from tensorflow.keras.layers import RandomZoom\n",
    "from tensorflow.keras.layers import add\n",
    "from tensorflow.keras.layers import DepthwiseConv2D\n",
    "from tensorflow.keras.regularizers import l2\n",
    "from tensorflow.keras.utils import to_categorical\n",
    "from tensorflow.keras.datasets import cifar10\n",
    "from tensorflow.keras import optimizers\n",
    "from tensorflow.keras.preprocessing.image import ImageDataGenerator\n",
    "from tensorflow.keras.utils import plot_model\n",
    "\n",
    "\n",
    "print(\"Versions of key libraries\")\n",
    "print(\"---\")\n",
    "print(\"tensorflow: \", tf.__version__)\n",
    "print(\"numpy:      \", np.__version__)\n",
    "print(\"matplotlib: \", matplotlib.__version__)\n",
    "print(\"sklearn:    \", sklearn.__version__)"
   ]
  },
  {
   "cell_type": "code",
   "execution_count": 2,
   "id": "d41b05ab",
   "metadata": {},
   "outputs": [],
   "source": [
    "import pathlib\n",
    "\n",
    "import tensorflow as tf\n",
    "import tensorflow_hub as hub"
   ]
  },
  {
   "cell_type": "code",
   "execution_count": 3,
   "id": "7afb0f48",
   "metadata": {},
   "outputs": [
    {
     "name": "stdout",
     "output_type": "stream",
     "text": [
      "/Users/santi/apps/tensorflow/datasets/state-farm-distracted-driver-detection/imgs/train\n",
      "/Users/santi/apps/tensorflow/datasets/state-farm-distracted-driver-detection/imgs/testresult\n"
     ]
    }
   ],
   "source": [
    "data_dir = '/Users/santi/apps/tensorflow/datasets/state-farm-distracted-driver-detection/imgs/train/'\n",
    "data_dir = pathlib.Path(data_dir)\n",
    "print(data_dir)\n",
    "\n",
    "# val_dir = '/Users/santi/apps/tensorflow/datasets/driver-fatigue/output/val/'\n",
    "# val_dir = pathlib.Path(val_dir)\n",
    "# print(val_dir)\n",
    "\n",
    "test_dir = '/Users/santi/apps/tensorflow/datasets/state-farm-distracted-driver-detection/imgs/testresult/'\n",
    "test_dir = pathlib.Path(test_dir)\n",
    "print(test_dir)"
   ]
  },
  {
   "cell_type": "code",
   "execution_count": 4,
   "id": "75ca915e",
   "metadata": {},
   "outputs": [
    {
     "name": "stdout",
     "output_type": "stream",
     "text": [
      "19578\n"
     ]
    }
   ],
   "source": [
    "image_count = len(list(data_dir.glob('*/*.jpg')))\n",
    "print(image_count)"
   ]
  },
  {
   "cell_type": "code",
   "execution_count": 5,
   "id": "e0cc848f",
   "metadata": {},
   "outputs": [],
   "source": [
    "batch_size = 100\n",
    "img_height = 224\n",
    "img_width = 224\n",
    "\n",
    "IMAGE_SHAPE = (224, 224)"
   ]
  },
  {
   "cell_type": "code",
   "execution_count": 6,
   "id": "bc39bb6a",
   "metadata": {},
   "outputs": [],
   "source": [
    "from keras.applications.vgg16 import VGG16, preprocess_input\n",
    "# from tensorflow.keras.applications.MobileNetV2 import MobileNetV2"
   ]
  },
  {
   "cell_type": "code",
   "execution_count": 7,
   "id": "cf28d1a3",
   "metadata": {},
   "outputs": [
    {
     "name": "stdout",
     "output_type": "stream",
     "text": [
      "Metal device set to: Apple M1 Max\n",
      "Model: \"model\"\n",
      "_________________________________________________________________\n",
      " Layer (type)                Output Shape              Param #   \n",
      "=================================================================\n",
      " input_1 (InputLayer)        [(None, 224, 224, 3)]     0         \n",
      "                                                                 \n",
      " Input_conv (Conv2D)         (None, 222, 222, 32)      896       \n",
      "                                                                 \n",
      " layer1_bn (BatchNormalizati  (None, 222, 222, 32)     128       \n",
      " on)                                                             \n",
      "                                                                 \n",
      " depthwise_conv2d (Depthwise  (None, 222, 222, 32)     64        \n",
      " Conv2D)                                                         \n",
      "                                                                 \n",
      " Layer1_conv (Conv2D)        (None, 222, 222, 64)      18496     \n",
      "                                                                 \n",
      " layer2_bn (BatchNormalizati  (None, 222, 222, 64)     256       \n",
      " on)                                                             \n",
      "                                                                 \n",
      " depthwise_conv2d_1 (Depthwi  (None, 222, 222, 64)     128       \n",
      " seConv2D)                                                       \n",
      "                                                                 \n",
      " Layer1_Blk_relu (Activation  (None, 222, 222, 64)     0         \n",
      " )                                                               \n",
      "                                                                 \n",
      " max_pooling2d (MaxPooling2D  (None, 111, 111, 64)     0         \n",
      " )                                                               \n",
      "                                                                 \n",
      " flatten (Flatten)           (None, 788544)            0         \n",
      "                                                                 \n",
      " dense (Dense)               (None, 64)                50466880  \n",
      "                                                                 \n",
      " dropout (Dropout)           (None, 64)                0         \n",
      "                                                                 \n",
      " dense_1 (Dense)             (None, 9)                 585       \n",
      "                                                                 \n",
      "=================================================================\n",
      "Total params: 50,487,433\n",
      "Trainable params: 50,487,241\n",
      "Non-trainable params: 192\n",
      "_________________________________________________________________\n"
     ]
    },
    {
     "name": "stderr",
     "output_type": "stream",
     "text": [
      "2022-10-24 19:22:33.620308: I tensorflow/core/common_runtime/pluggable_device/pluggable_device_factory.cc:305] Could not identify NUMA node of platform GPU ID 0, defaulting to 0. Your kernel may not have been built with NUMA support.\n",
      "2022-10-24 19:22:33.620493: I tensorflow/core/common_runtime/pluggable_device/pluggable_device_factory.cc:271] Created TensorFlow device (/job:localhost/replica:0/task:0/device:GPU:0 with 0 MB memory) -> physical PluggableDevice (device: 0, name: METAL, pci bus id: <undefined>)\n"
     ]
    }
   ],
   "source": [
    "optmz       = 'adam' #     optimizers.RMSprop(learning_rate=0.0001)    \n",
    "#modelname   = 'tl_driver_distraction_model_01' #normal all data\n",
    "modelname   = 'tl_driver_distraction_model_04_RE3' #remove c8 from training data\n",
    "base_learning_rate = 0.0001\n",
    "def createModel(inputShape=(img_height,img_width,3),numClasses=9):\n",
    "    \n",
    "  \n",
    "    inputs = Input(shape=inputShape)\n",
    "#     conv_base = VGG16(include_top=False,\n",
    "#                      weights='imagenet', \n",
    "#                      input_shape=inputShape)\n",
    "    \n",
    "    \n",
    "#     conv_base = tf.keras.applications.MobileNetV2(input_shape=inputShape,\n",
    "#                                                include_top=False,\n",
    "#                                                weights='imagenet')\n",
    "    v = Conv2D(32,\n",
    "                  kernel_size=3,\n",
    "                  #strides=1,\n",
    "                         name='Input' +'_conv')(inputs)\n",
    "\n",
    "    v   = BatchNormalization(name='layer1_bn')(v)\n",
    "    v = DepthwiseConv2D(kernel_size=(1,1))(v)\n",
    "    v = Conv2D(64,\n",
    "                         kernel_size=3,\n",
    "                         #strides=1,\n",
    "                         padding='same',\n",
    "                         name='Layer1'+'_conv')(v)\n",
    "    v   = BatchNormalization(name='layer2_bn')(v)\n",
    "    v = DepthwiseConv2D(kernel_size=(1,1))(v)\n",
    "    v = Activation('relu', name='Layer1'+'_Blk'+'_relu')(v)\n",
    "    v = MaxPooling2D(pool_size=(2, 2),strides=2, padding='valid')(v) #strides change the dimension\n",
    "#     v = Flatten() (v)\n",
    "#     top_model = conv_base.output\n",
    "    v = Flatten(name=\"flatten\")(v)\n",
    "#     top_model = Dense(4096, activation='relu')(top_model)\n",
    "    v = Dense(64, activation='relu')(v)\n",
    "    v = Dropout(0.2)(v)\n",
    "\n",
    "#     top_model.trainable = False\n",
    "    outputs = Dense(numClasses,\n",
    "                activation='softmax')(v)\n",
    "    \n",
    "    model       = Model(inputs=inputs,outputs=outputs)\n",
    "    model.compile(loss='sparse_categorical_crossentropy',\n",
    "              optimizer=tf.keras.optimizers.Adam(learning_rate=base_learning_rate),\n",
    "              metrics=['accuracy'])    \n",
    "    return model\n",
    "\n",
    "\n",
    "model = createModel()\n",
    "model.summary()   \n",
    "    "
   ]
  },
  {
   "cell_type": "code",
   "execution_count": 8,
   "id": "75a2701e",
   "metadata": {},
   "outputs": [
    {
     "name": "stdout",
     "output_type": "stream",
     "text": [
      "Callbacks created:\n",
      "<keras.callbacks.ModelCheckpoint object at 0x13faf3190>\n",
      "<keras.callbacks.CSVLogger object at 0x13fad3a60>\n",
      "\n",
      "Path to model: /Users/santi/apps/tensorflow/model/tl_driver_distraction_model_04_RE3.hdf5\n",
      "Path to log:   /Users/santi/apps/tensorflow/model/tl_driver_distraction_model_04_RE3.csv\n"
     ]
    }
   ],
   "source": [
    "folderpath      = '/Users/santi/apps/tensorflow/model/'\n",
    "filepath        = folderpath + modelname + \".hdf5\"\n",
    "checkpoint      = ModelCheckpoint(filepath, \n",
    "                                  monitor='val_accuracy', \n",
    "                                  verbose=0, \n",
    "                                  save_best_only=True, \n",
    "                                  mode='max')\n",
    "\n",
    "csv_logger      = CSVLogger(folderpath+modelname +'.csv')                       # Step 2\n",
    "callbacks_list  = [checkpoint,csv_logger]                                       # Step 3\n",
    "\n",
    "print(\"Callbacks created:\")\n",
    "print(callbacks_list[0])\n",
    "print(callbacks_list[1])\n",
    "print('')\n",
    "print(\"Path to model:\", filepath)\n",
    "print(\"Path to log:  \", folderpath+modelname+'.csv')"
   ]
  },
  {
   "cell_type": "code",
   "execution_count": 9,
   "id": "c4988793",
   "metadata": {},
   "outputs": [
    {
     "name": "stdout",
     "output_type": "stream",
     "text": [
      "Path to plot: /Users/santi/apps/tensorflow/model/tl_driver_distraction_model_04_RE3_plot.png\n"
     ]
    }
   ],
   "source": [
    "plotpath  = folderpath+modelname+'_plot.png'\n",
    "plot_model(model, \n",
    "           to_file=plotpath, \n",
    "           show_shapes=True, \n",
    "           show_layer_names=False,\n",
    "           rankdir='TB')\n",
    "\n",
    "print(\"Path to plot:\", plotpath)"
   ]
  },
  {
   "cell_type": "code",
   "execution_count": 10,
   "id": "7eeb22ef",
   "metadata": {},
   "outputs": [
    {
     "name": "stdout",
     "output_type": "stream",
     "text": [
      "Found 19578 files belonging to 9 classes.\n",
      "Using 15663 files for training.\n"
     ]
    }
   ],
   "source": [
    "train_ds = tf.keras.utils.image_dataset_from_directory(\n",
    "  data_dir,\n",
    "  validation_split=0.2,\n",
    "  subset=\"training\",\n",
    "  seed=123,\n",
    "  image_size=(img_height, img_width),\n",
    "  batch_size=batch_size)"
   ]
  },
  {
   "cell_type": "code",
   "execution_count": 11,
   "id": "dbf66b98",
   "metadata": {},
   "outputs": [],
   "source": [
    "class_names = train_ds.class_names"
   ]
  },
  {
   "cell_type": "code",
   "execution_count": 12,
   "id": "e67bcb57",
   "metadata": {},
   "outputs": [
    {
     "name": "stdout",
     "output_type": "stream",
     "text": [
      "Found 19578 files belonging to 9 classes.\n",
      "Using 3915 files for validation.\n"
     ]
    }
   ],
   "source": [
    "val_ds = tf.keras.utils.image_dataset_from_directory(\n",
    "  data_dir,\n",
    "  validation_split=0.2,\n",
    "  subset=\"validation\",\n",
    "  seed=123,\n",
    "  image_size=(img_height, img_width),\n",
    "  batch_size=batch_size)"
   ]
  },
  {
   "cell_type": "code",
   "execution_count": 13,
   "id": "5b2bea6a",
   "metadata": {},
   "outputs": [
    {
     "name": "stdout",
     "output_type": "stream",
     "text": [
      "Epoch 1/40\n"
     ]
    },
    {
     "name": "stderr",
     "output_type": "stream",
     "text": [
      "2022-10-24 19:22:39.607015: W tensorflow/core/platform/profile_utils/cpu_utils.cc:128] Failed to get CPU frequency: 0 Hz\n",
      "2022-10-24 19:22:39.607175: I tensorflow/core/grappler/optimizers/custom_graph_optimizer_registry.cc:113] Plugin optimizer for device_type GPU is enabled.\n"
     ]
    },
    {
     "name": "stdout",
     "output_type": "stream",
     "text": [
      "157/157 [==============================] - ETA: 0s - loss: 1.9022 - accuracy: 0.2871"
     ]
    },
    {
     "name": "stderr",
     "output_type": "stream",
     "text": [
      "2022-10-24 19:24:19.340801: I tensorflow/core/grappler/optimizers/custom_graph_optimizer_registry.cc:113] Plugin optimizer for device_type GPU is enabled.\n"
     ]
    },
    {
     "name": "stdout",
     "output_type": "stream",
     "text": [
      "157/157 [==============================] - 117s 740ms/step - loss: 1.9022 - accuracy: 0.2871 - val_loss: 1.8121 - val_accuracy: 0.4953\n",
      "Epoch 2/40\n",
      "157/157 [==============================] - 119s 755ms/step - loss: 1.2137 - accuracy: 0.5532 - val_loss: 1.1831 - val_accuracy: 0.7877\n",
      "Epoch 3/40\n",
      "157/157 [==============================] - 117s 744ms/step - loss: 0.9104 - accuracy: 0.7001 - val_loss: 0.7298 - val_accuracy: 0.8189\n",
      "Epoch 4/40\n",
      "157/157 [==============================] - 117s 741ms/step - loss: 0.7566 - accuracy: 0.7165 - val_loss: 0.5066 - val_accuracy: 0.8590\n",
      "Epoch 5/40\n",
      "157/157 [==============================] - 120s 762ms/step - loss: 0.6171 - accuracy: 0.7734 - val_loss: 0.3494 - val_accuracy: 0.8948\n",
      "Epoch 6/40\n",
      "157/157 [==============================] - 118s 751ms/step - loss: 0.5042 - accuracy: 0.8357 - val_loss: 0.2444 - val_accuracy: 0.9785\n",
      "Epoch 7/40\n",
      "157/157 [==============================] - 122s 771ms/step - loss: 0.4440 - accuracy: 0.8562 - val_loss: 0.1875 - val_accuracy: 0.9837\n",
      "Epoch 8/40\n",
      "157/157 [==============================] - 118s 748ms/step - loss: 0.4125 - accuracy: 0.8618 - val_loss: 0.1447 - val_accuracy: 0.9934\n",
      "Epoch 9/40\n",
      "157/157 [==============================] - 118s 750ms/step - loss: 0.3807 - accuracy: 0.8727 - val_loss: 0.1253 - val_accuracy: 0.9911\n",
      "Epoch 10/40\n",
      "157/157 [==============================] - 117s 743ms/step - loss: 0.3662 - accuracy: 0.8775 - val_loss: 0.1110 - val_accuracy: 0.9888\n",
      "Epoch 11/40\n",
      "157/157 [==============================] - 119s 753ms/step - loss: 0.3516 - accuracy: 0.8825 - val_loss: 0.1003 - val_accuracy: 0.9895\n",
      "Epoch 12/40\n",
      "157/157 [==============================] - 117s 745ms/step - loss: 0.3398 - accuracy: 0.8843 - val_loss: 0.1361 - val_accuracy: 0.9775\n",
      "Epoch 13/40\n",
      "157/157 [==============================] - 117s 746ms/step - loss: 0.3480 - accuracy: 0.8779 - val_loss: 0.1084 - val_accuracy: 0.9926\n",
      "Epoch 14/40\n",
      "157/157 [==============================] - 116s 740ms/step - loss: 0.3337 - accuracy: 0.8831 - val_loss: 0.0972 - val_accuracy: 0.9890\n",
      "Epoch 15/40\n",
      "157/157 [==============================] - 117s 742ms/step - loss: 0.3285 - accuracy: 0.8830 - val_loss: 0.0906 - val_accuracy: 0.9888\n",
      "Epoch 16/40\n",
      "157/157 [==============================] - 117s 746ms/step - loss: 0.3210 - accuracy: 0.8823 - val_loss: 0.0782 - val_accuracy: 0.9911\n",
      "Epoch 17/40\n",
      "157/157 [==============================] - 116s 739ms/step - loss: 0.3207 - accuracy: 0.8860 - val_loss: 0.0871 - val_accuracy: 0.9905\n",
      "Epoch 18/40\n",
      "157/157 [==============================] - 116s 739ms/step - loss: 0.3141 - accuracy: 0.8841 - val_loss: 0.0749 - val_accuracy: 0.9905\n",
      "Epoch 19/40\n",
      "157/157 [==============================] - 117s 741ms/step - loss: 0.3083 - accuracy: 0.8869 - val_loss: 0.0847 - val_accuracy: 0.9888\n",
      "Epoch 20/40\n",
      "157/157 [==============================] - 119s 756ms/step - loss: 0.3184 - accuracy: 0.8841 - val_loss: 0.0818 - val_accuracy: 0.9905\n",
      "Epoch 21/40\n",
      "157/157 [==============================] - 117s 742ms/step - loss: 0.3004 - accuracy: 0.8897 - val_loss: 0.0732 - val_accuracy: 0.9908\n",
      "Epoch 22/40\n",
      "157/157 [==============================] - 119s 757ms/step - loss: 0.3002 - accuracy: 0.8912 - val_loss: 0.0840 - val_accuracy: 0.9860\n",
      "Epoch 23/40\n",
      "157/157 [==============================] - 117s 745ms/step - loss: 0.3018 - accuracy: 0.8901 - val_loss: 0.0717 - val_accuracy: 0.9900\n",
      "Epoch 24/40\n",
      "157/157 [==============================] - 120s 760ms/step - loss: 0.2978 - accuracy: 0.8904 - val_loss: 0.0746 - val_accuracy: 0.9890\n",
      "Epoch 25/40\n",
      "157/157 [==============================] - 117s 744ms/step - loss: 0.2853 - accuracy: 0.8946 - val_loss: 0.0721 - val_accuracy: 0.9895\n",
      "Epoch 26/40\n",
      "157/157 [==============================] - 117s 741ms/step - loss: 0.2831 - accuracy: 0.8938 - val_loss: 0.0835 - val_accuracy: 0.9862\n",
      "Epoch 27/40\n",
      "157/157 [==============================] - 121s 767ms/step - loss: 0.3029 - accuracy: 0.8857 - val_loss: 0.0820 - val_accuracy: 0.9893\n",
      "Epoch 28/40\n",
      "157/157 [==============================] - 118s 750ms/step - loss: 0.2931 - accuracy: 0.8914 - val_loss: 0.0816 - val_accuracy: 0.9854\n",
      "Epoch 29/40\n",
      "157/157 [==============================] - 118s 749ms/step - loss: 0.2865 - accuracy: 0.8911 - val_loss: 0.0712 - val_accuracy: 0.9880\n",
      "Epoch 30/40\n",
      "157/157 [==============================] - 118s 749ms/step - loss: 0.2759 - accuracy: 0.8957 - val_loss: 0.0833 - val_accuracy: 0.9865\n",
      "Epoch 31/40\n",
      "157/157 [==============================] - 118s 749ms/step - loss: 0.2703 - accuracy: 0.8975 - val_loss: 0.0691 - val_accuracy: 0.9895\n",
      "Epoch 32/40\n",
      "157/157 [==============================] - 118s 747ms/step - loss: 0.2826 - accuracy: 0.8908 - val_loss: 0.0658 - val_accuracy: 0.9900\n",
      "Epoch 33/40\n",
      "157/157 [==============================] - 116s 739ms/step - loss: 0.2887 - accuracy: 0.8893 - val_loss: 0.0667 - val_accuracy: 0.9921\n",
      "Epoch 34/40\n",
      "157/157 [==============================] - 117s 743ms/step - loss: 0.2723 - accuracy: 0.8925 - val_loss: 0.0668 - val_accuracy: 0.9875\n",
      "Epoch 35/40\n",
      "157/157 [==============================] - 116s 738ms/step - loss: 0.2915 - accuracy: 0.8879 - val_loss: 0.0666 - val_accuracy: 0.9888\n",
      "Epoch 36/40\n",
      "157/157 [==============================] - 116s 739ms/step - loss: 0.2701 - accuracy: 0.8933 - val_loss: 0.0914 - val_accuracy: 0.9780\n",
      "Epoch 37/40\n",
      "157/157 [==============================] - 119s 755ms/step - loss: 0.2807 - accuracy: 0.8910 - val_loss: 0.0634 - val_accuracy: 0.9918\n",
      "Epoch 38/40\n",
      "157/157 [==============================] - 117s 743ms/step - loss: 0.2720 - accuracy: 0.8945 - val_loss: 0.0672 - val_accuracy: 0.9885\n",
      "Epoch 39/40\n",
      "157/157 [==============================] - 118s 750ms/step - loss: 0.2693 - accuracy: 0.8929 - val_loss: 0.0557 - val_accuracy: 0.9928\n",
      "Epoch 40/40\n",
      "157/157 [==============================] - 119s 756ms/step - loss: 0.2678 - accuracy: 0.8935 - val_loss: 0.0710 - val_accuracy: 0.9880\n"
     ]
    }
   ],
   "source": [
    "history=model.fit(train_ds,                    # Training data\n",
    "          validation_data=val_ds,   # Validation data and label\n",
    "          epochs=40,                       # The amount of epochs to be trained\n",
    "          batch_size=batch_size,                   \n",
    "          shuffle=True,                     # To shuffle the training data\n",
    "          callbacks=callbacks_list)         # Callbacks to execute the checkpoints\n"
   ]
  },
  {
   "cell_type": "code",
   "execution_count": 14,
   "id": "f1605feb",
   "metadata": {},
   "outputs": [
    {
     "data": {
      "image/png": "[encoded data removed]",
      "text/plain": [
       "<Figure size 640x480 with 1 Axes>"
      ]
     },
     "metadata": {},
     "output_type": "display_data"
    },
    {
     "data": {
      "image/png": "[encoded data removed]",
      "text/plain": [
       "<Figure size 640x480 with 1 Axes>"
      ]
     },
     "metadata": {},
     "output_type": "display_data"
    }
   ],
   "source": [
    "import matplotlib.pyplot as plt\n",
    "\n",
    "# Plot training & validation accuracy values\n",
    "plt.plot(history.history['accuracy'])\n",
    "plt.plot(history.history['val_accuracy'])\n",
    "plt.title('Model accuracy')\n",
    "plt.ylabel('Accuracy')\n",
    "plt.xlabel('Epoch')\n",
    "plt.legend(['Train', 'Val'], loc='upper left')\n",
    "plt.show()\n",
    "\n",
    "# Plot training & validation loss values\n",
    "plt.plot(history.history['loss'])\n",
    "plt.plot(history.history['val_loss'])\n",
    "plt.title('Model loss')\n",
    "plt.ylabel('Loss')\n",
    "plt.xlabel('Epoch')\n",
    "plt.legend(['Train', 'Val'], loc='upper left')\n",
    "plt.show()"
   ]
  },
  {
   "cell_type": "code",
   "execution_count": null,
   "id": "6bbb7014",
   "metadata": {},
   "outputs": [],
   "source": []
  },
  {
   "cell_type": "code",
   "execution_count": 15,
   "id": "2af80d5c",
   "metadata": {},
   "outputs": [
    {
     "name": "stdout",
     "output_type": "stream",
     "text": [
      "Found 935 files belonging to 9 classes.\n"
     ]
    }
   ],
   "source": [
    "test_ds = tf.keras.utils.image_dataset_from_directory(\n",
    "  test_dir,\n",
    "  seed=123,\n",
    "  shuffle=False,\n",
    "  image_size=(img_height, img_width),\n",
    "  batch_size=1)"
   ]
  },
  {
   "cell_type": "code",
   "execution_count": 16,
   "id": "b934bbf9",
   "metadata": {},
   "outputs": [
    {
     "name": "stderr",
     "output_type": "stream",
     "text": [
      "2022-10-24 20:41:42.834614: I tensorflow/core/grappler/optimizers/custom_graph_optimizer_registry.cc:113] Plugin optimizer for device_type GPU is enabled.\n"
     ]
    },
    {
     "name": "stdout",
     "output_type": "stream",
     "text": [
      "935/935 [==============================] - 12s 12ms/step\n"
     ]
    }
   ],
   "source": [
    "test_classes=test_ds.class_names \n",
    "predicts    = model.predict(test_ds)  "
   ]
  },
  {
   "cell_type": "code",
   "execution_count": 17,
   "id": "b9b4d125",
   "metadata": {},
   "outputs": [],
   "source": [
    "from sklearn import metrics \n",
    "from sklearn.metrics import classification_report, confusion_matrix \n",
    "import seaborn as sns"
   ]
  },
  {
   "cell_type": "code",
   "execution_count": 18,
   "id": "513ca76b",
   "metadata": {},
   "outputs": [
    {
     "name": "stdout",
     "output_type": "stream",
     "text": [
      "935/935 [==============================] - 11s 12ms/step\n",
      "there were 925 correct predictions in 935 tests for an accuracy of  98.93 % \n"
     ]
    },
    {
     "data": {
      "image/png": "[encoded data removed]",
      "text/plain": [
       "<Figure size 400x400 with 1 Axes>"
      ]
     },
     "metadata": {},
     "output_type": "display_data"
    }
   ],
   "source": [
    "ytrue=[]\n",
    "for images, label in test_ds:   \n",
    "    for e in label:\n",
    "        ytrue.append(test_classes[e]) # list of class names associated with each image file in test dataset \n",
    "ypred=[]\n",
    "errors=0\n",
    "count=0\n",
    "preds=model.predict(test_ds, verbose=1) # predict on the test data\n",
    "for i, p in enumerate(preds):\n",
    "    count +=1\n",
    "    index=np.argmax(p) # get index of prediction with highest probability\n",
    "    klass=test_classes[index] \n",
    "    ypred.append(klass)  \n",
    "    if klass != ytrue[i]:\n",
    "        errors +=1\n",
    "        \n",
    "acc= (count-errors)* 100/count\n",
    "msg=f'there were {count-errors} correct predictions in {count} tests for an accuracy of {acc:6.2f} % '\n",
    "print(msg) \n",
    "ypred=np.array(ypred)\n",
    "ytrue=np.array(ytrue)\n",
    "if len(test_classes)<= 30: # if more than 30 classes plot is not useful to cramed\n",
    "        # create a confusion matrix \n",
    "        cm = confusion_matrix(ytrue, ypred )        \n",
    "        length=len(test_classes)\n",
    "        if length<8:\n",
    "            fig_width=8\n",
    "            fig_height=8\n",
    "        else:\n",
    "            fig_width= int(length * .5)\n",
    "            fig_height= int(length * .5)\n",
    "        plt.figure(figsize=(fig_width, fig_height))\n",
    "        sns.heatmap(cm, annot=True, vmin=0, fmt='g', cmap='Blues', cbar=False)       \n",
    "        plt.xticks(np.arange(length)+.5, test_classes, rotation= 90)\n",
    "        plt.yticks(np.arange(length)+.5, test_classes, rotation=0)\n",
    "        plt.xlabel(\"Predicted\")\n",
    "        plt.ylabel(\"Actual\")\n",
    "        plt.title(\"Confusion Matrix\")\n",
    "        plt.show()"
   ]
  },
  {
   "cell_type": "code",
   "execution_count": 19,
   "id": "022826aa",
   "metadata": {},
   "outputs": [
    {
     "name": "stdout",
     "output_type": "stream",
     "text": [
      "Best accuracy (on testing dataset): 98.93%\n",
      "              precision    recall  f1-score   support\n",
      "\n",
      "          c0     1.0000    1.0000    1.0000       100\n",
      "          c1     0.9802    0.9802    0.9802       101\n",
      "          c2     0.9352    1.0000    0.9665       101\n",
      "          c3     1.0000    0.9913    0.9956       115\n",
      "          c4     1.0000    0.9661    0.9828       118\n",
      "          c5     1.0000    1.0000    1.0000        98\n",
      "          c6     0.9900    0.9900    0.9900       100\n",
      "          c7     1.0000    0.9904    0.9952       104\n",
      "          c9     1.0000    0.9898    0.9949        98\n",
      "\n",
      "    accuracy                         0.9893       935\n",
      "   macro avg     0.9895    0.9898    0.9895       935\n",
      "weighted avg     0.9898    0.9893    0.9894       935\n",
      "\n"
     ]
    }
   ],
   "source": [
    "testScores  = metrics.accuracy_score( ytrue,ypred)                           # Step 3\n",
    "\n",
    "                                                                                # Step 4\n",
    "print(\"Best accuracy (on testing dataset): %.2f%%\" % (testScores*100))\n",
    "print(metrics.classification_report(ytrue,\n",
    "                                    ypred,\n",
    "                                    target_names=test_classes,\n",
    "                                    digits=4)) "
   ]
  },
  {
   "cell_type": "code",
   "execution_count": null,
   "id": "83a61b0a",
   "metadata": {},
   "outputs": [],
   "source": []
  }
 ],
 "metadata": {
  "kernelspec": {
   "display_name": "env_tf",
   "language": "python",
   "name": "env_tf"
  },
  "language_info": {
   "codemirror_mode": {
    "name": "ipython",
    "version": 3
   },
   "file_extension": ".py",
   "mimetype": "text/x-python",
   "name": "python",
   "nbconvert_exporter": "python",
   "pygments_lexer": "ipython3",
   "version": "3.9.13"
  }
 },
 "nbformat": 4,
 "nbformat_minor": 5
}
