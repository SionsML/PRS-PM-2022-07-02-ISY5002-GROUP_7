{
 "cells": [
  {
   "cell_type": "markdown",
   "id": "360e1b59",
   "metadata": {},
   "source": [
    "## Making Small Video Clips from Longer Vidoes"
   ]
  },
  {
   "cell_type": "markdown",
   "id": "fe54487e",
   "metadata": {},
   "source": [
    "This notebook contains the code for making videos clips from longer videos. As show below, each original video contains frames that belongs to both drowsy category and alert category. We need to cut out clips that are of the same length and each of them only contain frames of the same category. \n",
    "\n",
    "The code here is meant for producing the desired clips only. It is designed based on the current dataset we have. It may not be suitable for a different dataset. \n",
    "\n",
    "The dataset used for this model is obtained from National Tsing Hua University. http://cv.cs.nthu.edu.tw/php/callforpaper/datasets/DDD/\n",
    "\n"
   ]
  },
  {
   "cell_type": "code",
   "execution_count": 5,
   "id": "43f2b468",
   "metadata": {},
   "outputs": [
    {
     "data": {
      "text/plain": [
       "'0000000000000000000000000000000000000000000000000000000000000000000000000000000000000000000000000000000000000000000000000000000000000000000000000000000000000000000000000000000000000000000000000000000000000000000000000000000000000000000000000000000000000000000000000000000000000000000000000000000000000000000000000000000000000000000000000000000000000000000000000000000000000000000000000000000000000000000000000000000000001111111111111111111111111111111111111111111111111111111111111111111111111111111111111111111111111111111111111111111111111111111111111111111111111111111111111111111111111111111111111111111111111111111111111111111111111111111111111111111111111111111111111111111111111111111111111111111111111111111111111111111111111111111111111111111111111111111111111111111111111111111111111111111111111111111111111111111111111111111111111111111111111111111111111111111111111111111111111111111111111111111111111111111111111111111111111111111111111111111111111111111111111111111111111111111111111111111111111111111111111111111111111111111111111111111111111111111111111111111111111111111111111111111111111111111111111111111111111111111111111111111111111111111111111111111111111111111111111111111111111111111111111111111111111111111111111111111111111111111111111111111111111111111111111111111111111111111111111111111111111111111111111111111111111111111111111111111111111111111111111111111111111111111111111111111111111111111111111111111111111111111111111111111111111111111111111111111111111111111111111111111111111111111111111111111111111111111111111111111111111111111111111111111111111111111111111111111111111111111111111111111111111111111111111111111111111111111111111111111111111111111111111111111111111111111111111111111111111111111111111111111111111111111111111111111111111111111111111111111111111111111111111111111111111111111111111111111111111111111111111111111111111111111111111111111111111111111111111111111111111111111111111111111111111111111111111111111111111111111111111111111111111111111111111111111111111111111111111111111111111111111111111111111111111111111111111111111111111111111111111111111111111111111111111111111111111111111111111111111111111111111111111111111111111111111111111111111111111111111111111111111111111111111111111111111111111111111111111111111111111111111111111111111111111111111111111111111111111111111111111111111111111111111111111111111111111111111111111111111111111111111111111111111111111111111111111111111111111111111111111111111111111111111111111111111111111111111111111111111111111111111111111111111111111111111111111111111111111111111111111111111111111111111111111111111111111111111111111111111111111111111111111111111111111111111111111111111111111111111111111111111111111111111111111111111111111111111111111111111111111111111111111111111111111111111111111111111111111111111111111111111111111111111111111111111111111111111111111111111111111111'"
      ]
     },
     "execution_count": 5,
     "metadata": {},
     "output_type": "execute_result"
    }
   ],
   "source": [
    "# Reading one sample index files content to show the labels frame by frame. \n",
    "with open(os.path.join('data','009_sleepyCombination_drowsiness.txt')) as f:\n",
    "    content = f.read()\n",
    "content"
   ]
  },
  {
   "cell_type": "code",
   "execution_count": 2,
   "id": "082b2b0f",
   "metadata": {},
   "outputs": [],
   "source": [
    "# Import opencv\n",
    "import cv2\n",
    "# Import operating sys\n",
    "import os\n",
    "# Import matplotlib\n",
    "from matplotlib import pyplot as plt"
   ]
  },
  {
   "cell_type": "code",
   "execution_count": 3,
   "id": "65fc773a",
   "metadata": {},
   "outputs": [],
   "source": [
    "# Using batch to track videos\n",
    "batch = 26"
   ]
  },
  {
   "cell_type": "code",
   "execution_count": 4,
   "id": "a39ac0d5",
   "metadata": {},
   "outputs": [
    {
     "data": {
      "text/plain": [
       "26"
      ]
     },
     "execution_count": 4,
     "metadata": {},
     "output_type": "execute_result"
    }
   ],
   "source": [
    "# Checking the current batch before proceeding. \n",
    "# This is helpful after a few rounds\n",
    "batch"
   ]
  },
  {
   "cell_type": "code",
   "execution_count": 335,
   "id": "6a6980a0",
   "metadata": {},
   "outputs": [
    {
     "name": "stdout",
     "output_type": "stream",
     "text": [
      "2884\n",
      "2884.0\n"
     ]
    }
   ],
   "source": [
    "# Establish capture object\n",
    "cap = cv2.VideoCapture(os.path.join('data','sleepyCombination.avi'))\n",
    "\n",
    "# Properties that can be useful later.\n",
    "height = int(cap.get(cv2.CAP_PROP_FRAME_HEIGHT))\n",
    "width = int(cap.get(cv2.CAP_PROP_FRAME_WIDTH))\n",
    "fps = cap.get(cv2.CAP_PROP_FPS)\n",
    "total_frames = cap.get(cv2.CAP_PROP_FRAME_COUNT)\n",
    "\n",
    "#The length of each clip in seconds\n",
    "num_sec = 10 \n",
    "# 1 for drowsy, 0 for alert. \n",
    "capture_value = str(1)\n",
    "\n",
    "# Open the Text File for tagging\n",
    "with open(os.path.join('data','009_sleepyCombination_drowsiness.txt')) as f:\n",
    "    content = f.read()\n",
    "\n",
    "# Helper counters.\n",
    "# i tracking how many frames have been saved into clips\n",
    "# j tracking where the current frame is.\n",
    "i=0\n",
    "j=0\n",
    "\n",
    "# To make sure the number of labels is exactly the same as the number of frames before proceeding. \n",
    "print(len(content))\n",
    "print(total_frames)"
   ]
  },
  {
   "cell_type": "code",
   "execution_count": 336,
   "id": "b7fb1ae3",
   "metadata": {},
   "outputs": [],
   "source": [
    "# Video Writer\n",
    "# If there are still enough frames to be processed. Making the 1st video.\n",
    "if j< total_frames - num_sec*fps:\n",
    "    video_writer = cv2.VideoWriter(os.path.join('data','class'+capture_value,'class'+capture_value + '_batch_'+str(batch)+'_video'+'1.avi'), cv2.VideoWriter_fourcc('P','I','M','1'), fps, (width, height)) \n",
    "    # Loop through each frame\n",
    "    for frame_idx in range(int(cap.get(cv2.CAP_PROP_FRAME_COUNT))):\n",
    "        # Read frame \n",
    "        ret, frame = cap.read()\n",
    "        j+=1\n",
    "        # Show image\n",
    "        #cv2.imshow('Video Player', frame) \n",
    "\n",
    "        if ret==True:\n",
    "            if content[frame_idx] == capture_value:\n",
    "                # Write out frame \n",
    "                video_writer.write(frame)\n",
    "                i+=1\n",
    "        if i > num_sec*fps:\n",
    "            break\n",
    "        # Breaking out of the loop\n",
    "        if cv2.waitKey(10) & 0xFF == ord('q'):\n",
    "            break\n",
    "\n",
    "# Release video writer\n",
    "video_writer.release()"
   ]
  },
  {
   "cell_type": "code",
   "execution_count": 337,
   "id": "f875747d",
   "metadata": {},
   "outputs": [],
   "source": [
    "# Making the 2nd video\n",
    "if j< total_frames - num_sec*fps:\n",
    "    video_writer = cv2.VideoWriter(os.path.join('data','class'+capture_value,'class'+capture_value+ '_batch_'+str(batch)+'_video'+'2.avi'), cv2.VideoWriter_fourcc('P','I','M','1'), fps, (width, height))\n",
    "    for frame_idx in range(i+1, int(cap.get(cv2.CAP_PROP_FRAME_COUNT))):\n",
    "        ret, frame = cap.read()\n",
    "        j+=1\n",
    "        #cv2.imshow('Video Player', frame)\n",
    "        if ret==True:\n",
    "            if content[frame_idx] == capture_value:\n",
    "                video_writer.write(frame)\n",
    "                i+=1\n",
    "        if i > 2*num_sec*fps:\n",
    "            break\n",
    "\n",
    "# Release video writer\n",
    "video_writer.release()"
   ]
  },
  {
   "cell_type": "code",
   "execution_count": 338,
   "id": "a9a04042",
   "metadata": {},
   "outputs": [],
   "source": [
    "# Making the 3rd video\n",
    "if j< total_frames - num_sec*fps:\n",
    "    video_writer = cv2.VideoWriter(os.path.join('data','class'+capture_value,'class'+capture_value+ '_batch_'+str(batch)+'_video'+'3.avi'), cv2.VideoWriter_fourcc('P','I','M','1'), fps, (width, height))\n",
    "    for frame_idx in range(i+1, int(cap.get(cv2.CAP_PROP_FRAME_COUNT))):\n",
    "        ret, frame = cap.read()\n",
    "        j+=1\n",
    "        #cv2.imshow('Video Player', frame)\n",
    "        if ret==True:\n",
    "            if content[frame_idx] == capture_value:\n",
    "                video_writer.write(frame)\n",
    "                i+=1\n",
    "        if i > 3*num_sec*fps:\n",
    "            break\n",
    "# Release video writer\n",
    "video_writer.release()"
   ]
  },
  {
   "cell_type": "code",
   "execution_count": 339,
   "id": "f3a0c7a0",
   "metadata": {},
   "outputs": [],
   "source": [
    "# Making the 4th video\n",
    "if j< total_frames - num_sec*fps:\n",
    "    video_writer = cv2.VideoWriter(os.path.join('data','class'+capture_value,'class'+capture_value+ '_batch_'+str(batch)+'_video'+'4.avi'), cv2.VideoWriter_fourcc('P','I','M','1'), fps, (width, height))\n",
    "    for frame_idx in range(i+1, int(cap.get(cv2.CAP_PROP_FRAME_COUNT))):\n",
    "        ret, frame = cap.read()\n",
    "        j+=1\n",
    "        #cv2.imshow('Video Player', frame)\n",
    "        if ret==True:\n",
    "            if content[frame_idx] == capture_value:\n",
    "                video_writer.write(frame)\n",
    "                i+=1\n",
    "        if i > 4*num_sec*fps:\n",
    "            break\n",
    "# Release video writer\n",
    "video_writer.release()"
   ]
  },
  {
   "cell_type": "code",
   "execution_count": 340,
   "id": "f1c4174b",
   "metadata": {},
   "outputs": [],
   "source": [
    "# Making the 5th video\n",
    "if j< total_frames - num_sec*fps:\n",
    "    video_writer = cv2.VideoWriter(os.path.join('data','class'+capture_value,'class'+capture_value+ '_batch_'+str(batch)+'_video'+'5.avi'), cv2.VideoWriter_fourcc('P','I','M','1'), fps, (width, height))\n",
    "    for frame_idx in range(i+1, int(cap.get(cv2.CAP_PROP_FRAME_COUNT))):\n",
    "        ret, frame = cap.read()\n",
    "        j+=1\n",
    "        #cv2.imshow('Video Player', frame)\n",
    "        if ret==True:\n",
    "            if content[frame_idx] == capture_value:\n",
    "                video_writer.write(frame)\n",
    "                i+=1\n",
    "        if i > 5*num_sec*fps:\n",
    "            break\n",
    "# Release video writer\n",
    "video_writer.release()"
   ]
  },
  {
   "cell_type": "code",
   "execution_count": 341,
   "id": "6615b56a",
   "metadata": {},
   "outputs": [],
   "source": [
    "# Making the 6th video\n",
    "if j< total_frames - num_sec*fps:\n",
    "    video_writer = cv2.VideoWriter(os.path.join('data','class'+capture_value,'class'+capture_value+ '_batch_'+str(batch)+'_video'+'6.avi'), cv2.VideoWriter_fourcc('P','I','M','1'), fps, (width, height))\n",
    "    for frame_idx in range(i+1, int(cap.get(cv2.CAP_PROP_FRAME_COUNT))):\n",
    "        ret, frame = cap.read()\n",
    "        j+=1\n",
    "        #cv2.imshow('Video Player', frame)\n",
    "        if ret==True:\n",
    "            if content[frame_idx] == capture_value:\n",
    "                video_writer.write(frame)\n",
    "                i+=1\n",
    "        if i > 6*num_sec*fps:\n",
    "            break\n",
    "# Release video writer\n",
    "video_writer.release()"
   ]
  },
  {
   "cell_type": "code",
   "execution_count": 342,
   "id": "23a98a08",
   "metadata": {},
   "outputs": [],
   "source": [
    "# Making the 7th video\n",
    "if j< total_frames - num_sec*fps:\n",
    "    video_writer = cv2.VideoWriter(os.path.join('data','class'+capture_value,'class'+capture_value+ '_batch_'+str(batch)+'_video'+'7.avi'), cv2.VideoWriter_fourcc('P','I','M','1'), fps, (width, height))\n",
    "    for frame_idx in range(i+1, int(cap.get(cv2.CAP_PROP_FRAME_COUNT))):\n",
    "        ret, frame = cap.read()\n",
    "        j+=1\n",
    "        #cv2.imshow('Video Player', frame)\n",
    "        if ret==True:\n",
    "            if content[frame_idx] == capture_value:\n",
    "                video_writer.write(frame)\n",
    "                i+=1\n",
    "        if i > 7*num_sec*fps:\n",
    "            break\n",
    "# Release video writer\n",
    "video_writer.release()"
   ]
  },
  {
   "cell_type": "code",
   "execution_count": 343,
   "id": "64c0174d",
   "metadata": {},
   "outputs": [],
   "source": [
    "# Making the 8th video\n",
    "if j< total_frames - num_sec*fps:\n",
    "    video_writer = cv2.VideoWriter(os.path.join('data','class'+capture_value,'class'+capture_value+ '_batch_'+str(batch)+'_video'+'8.avi'), cv2.VideoWriter_fourcc('P','I','M','1'), fps, (width, height))\n",
    "    for frame_idx in range(i+1, int(cap.get(cv2.CAP_PROP_FRAME_COUNT))):\n",
    "        ret, frame = cap.read()\n",
    "        j+=1\n",
    "        #cv2.imshow('Video Player', frame)\n",
    "        if ret==True:\n",
    "            if content[frame_idx] == capture_value:\n",
    "                video_writer.write(frame)\n",
    "                i+=1\n",
    "        if i > 8*num_sec*fps:\n",
    "            break\n",
    "# Release video writer\n",
    "video_writer.release()"
   ]
  },
  {
   "cell_type": "code",
   "execution_count": 344,
   "id": "a15ede3a",
   "metadata": {},
   "outputs": [],
   "source": [
    "# Making the 9th video\n",
    "if j< total_frames - num_sec*fps:\n",
    "    video_writer = cv2.VideoWriter(os.path.join('data','class'+capture_value,'class'+capture_value+ '_batch_'+str(batch)+'_video'+'9.avi'), cv2.VideoWriter_fourcc('P','I','M','1'), fps, (width, height))\n",
    "    for frame_idx in range(i+1, int(cap.get(cv2.CAP_PROP_FRAME_COUNT))):\n",
    "        ret, frame = cap.read()\n",
    "        j+=1\n",
    "        #cv2.imshow('Video Player', frame)\n",
    "        if ret==True:\n",
    "            if content[frame_idx] == capture_value:\n",
    "                video_writer.write(frame)\n",
    "                i+=1\n",
    "        if i > 9*num_sec*fps:\n",
    "            break\n",
    "# Release video writer\n",
    "video_writer.release()"
   ]
  },
  {
   "cell_type": "code",
   "execution_count": 345,
   "id": "31505ae1",
   "metadata": {},
   "outputs": [],
   "source": [
    "# Close down everything\n",
    "cap.release()\n",
    "cv2.destroyAllWindows()\n"
   ]
  }
 ],
 "metadata": {
  "kernelspec": {
   "display_name": "Python 3 (ipykernel)",
   "language": "python",
   "name": "python3"
  },
  "language_info": {
   "codemirror_mode": {
    "name": "ipython",
    "version": 3
   },
   "file_extension": ".py",
   "mimetype": "text/x-python",
   "name": "python",
   "nbconvert_exporter": "python",
   "pygments_lexer": "ipython3",
   "version": "3.9.12"
  }
 },
 "nbformat": 4,
 "nbformat_minor": 5
}
