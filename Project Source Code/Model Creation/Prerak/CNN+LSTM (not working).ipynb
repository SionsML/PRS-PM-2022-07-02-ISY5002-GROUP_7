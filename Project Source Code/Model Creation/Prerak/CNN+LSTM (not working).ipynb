{
  "nbformat": 4,
  "nbformat_minor": 0,
  "metadata": {
    "colab": {
      "provenance": []
    },
    "kernelspec": {
      "name": "python3",
      "display_name": "Python 3"
    },
    "language_info": {
      "name": "python"
    },
    "accelerator": "GPU"
  },
  "cells": [
    {
      "cell_type": "code",
      "execution_count": null,
      "metadata": {
        "id": "TYqYRbGihZqg"
      },
      "outputs": [],
      "source": [
        "import cv2\n",
        "import glob\n",
        "import os\n",
        "import numpy as np\n",
        "import pandas as pd"
      ]
    },
    {
      "cell_type": "code",
      "source": [
        "train_data_path = \"/content/drive/MyDrive/temp/Dataset_4-Oct/train\"\n",
        "test_data_path = \"/content/drive/MyDrive/temp/Dataset_4-Oct/test\"\n",
        "# train_labels_path = \"/content/drive/MyDrive/temp/Dataset_4-Oct/train.csv\"\n",
        "# test_labels_path = \"/content/drive/MyDrive/temp/Dataset_4-Oct/test.csv\""
      ],
      "metadata": {
        "id": "_3v73NdVlaRu"
      },
      "execution_count": null,
      "outputs": []
    },
    {
      "cell_type": "code",
      "source": [
        "train_video_paths = [i for i in glob.glob(f\"{train_data_path}/*.avi\")]\n",
        "len(train_video_paths)"
      ],
      "metadata": {
        "colab": {
          "base_uri": "https://localhost:8080/"
        },
        "id": "8a-Kqqynlu1u",
        "outputId": "4b33fcda-3115-4b4d-dff8-bf3826ae2247"
      },
      "execution_count": null,
      "outputs": [
        {
          "output_type": "execute_result",
          "data": {
            "text/plain": [
              "49"
            ]
          },
          "metadata": {},
          "execution_count": 17
        }
      ]
    },
    {
      "cell_type": "code",
      "source": [
        "train_video_paths"
      ],
      "metadata": {
        "colab": {
          "base_uri": "https://localhost:8080/"
        },
        "id": "-Z0fJEBfod4t",
        "outputId": "cc99f1fa-6c52-49a8-c7c5-3aa9c0a857f4"
      },
      "execution_count": null,
      "outputs": [
        {
          "output_type": "execute_result",
          "data": {
            "text/plain": [
              "['/content/drive/MyDrive/temp/Dataset_4-Oct/train/class0_batch_2_video3.avi',\n",
              " '/content/drive/MyDrive/temp/Dataset_4-Oct/train/class0_batch_2_video7.avi',\n",
              " '/content/drive/MyDrive/temp/Dataset_4-Oct/train/class0_batch_1_video2.avi',\n",
              " '/content/drive/MyDrive/temp/Dataset_4-Oct/train/class0_batch_2_video1.avi',\n",
              " '/content/drive/MyDrive/temp/Dataset_4-Oct/train/class0_batch_2_video5.avi',\n",
              " '/content/drive/MyDrive/temp/Dataset_4-Oct/train/class0_batch_1_video6.avi',\n",
              " '/content/drive/MyDrive/temp/Dataset_4-Oct/train/class0_batch_9_video1.avi',\n",
              " '/content/drive/MyDrive/temp/Dataset_4-Oct/train/class0_batch_3_video1.avi',\n",
              " '/content/drive/MyDrive/temp/Dataset_4-Oct/train/class0_batch_5_video1.avi',\n",
              " '/content/drive/MyDrive/temp/Dataset_4-Oct/train/class0_batch_1_video8.avi',\n",
              " '/content/drive/MyDrive/temp/Dataset_4-Oct/train/class0_batch_0_video2.avi',\n",
              " '/content/drive/MyDrive/temp/Dataset_4-Oct/train/class0_batch_1_video3.avi',\n",
              " '/content/drive/MyDrive/temp/Dataset_4-Oct/train/class0_batch_2_video2.avi',\n",
              " '/content/drive/MyDrive/temp/Dataset_4-Oct/train/class0_batch_0_video1.avi',\n",
              " '/content/drive/MyDrive/temp/Dataset_4-Oct/train/class0_batch_1_video1.avi',\n",
              " '/content/drive/MyDrive/temp/Dataset_4-Oct/train/class0_batch_10_video1.avi',\n",
              " '/content/drive/MyDrive/temp/Dataset_4-Oct/train/class0_batch_1_video7.avi',\n",
              " '/content/drive/MyDrive/temp/Dataset_4-Oct/train/class0_batch_2_video8.avi',\n",
              " '/content/drive/MyDrive/temp/Dataset_4-Oct/train/class0_batch_2_video6.avi',\n",
              " '/content/drive/MyDrive/temp/Dataset_4-Oct/train/class1_batch_3_video4.avi',\n",
              " '/content/drive/MyDrive/temp/Dataset_4-Oct/train/class1_batch_1_video4.avi',\n",
              " '/content/drive/MyDrive/temp/Dataset_4-Oct/train/class1_batch_0_video3.avi',\n",
              " '/content/drive/MyDrive/temp/Dataset_4-Oct/train/class1_batch_9_video3.avi',\n",
              " '/content/drive/MyDrive/temp/Dataset_4-Oct/train/class1_batch_5_video5.avi',\n",
              " '/content/drive/MyDrive/temp/Dataset_4-Oct/train/class1_batch_0_video2.avi',\n",
              " '/content/drive/MyDrive/temp/Dataset_4-Oct/train/class1_batch_3_video5.avi',\n",
              " '/content/drive/MyDrive/temp/Dataset_4-Oct/train/class1_batch_3_video7.avi',\n",
              " '/content/drive/MyDrive/temp/Dataset_4-Oct/train/class1_batch_1_video5.avi',\n",
              " '/content/drive/MyDrive/temp/Dataset_4-Oct/train/class1_batch_9_video8.avi',\n",
              " '/content/drive/MyDrive/temp/Dataset_4-Oct/train/class1_batch_0_video6.avi',\n",
              " '/content/drive/MyDrive/temp/Dataset_4-Oct/train/class1_batch_8_video8.avi',\n",
              " '/content/drive/MyDrive/temp/Dataset_4-Oct/train/class1_batch_5_video4.avi',\n",
              " '/content/drive/MyDrive/temp/Dataset_4-Oct/train/class1_batch_5_video3.avi',\n",
              " '/content/drive/MyDrive/temp/Dataset_4-Oct/train/class1_batch_10_video4.avi',\n",
              " '/content/drive/MyDrive/temp/Dataset_4-Oct/train/class1_batch_5_video8.avi',\n",
              " '/content/drive/MyDrive/temp/Dataset_4-Oct/train/class1_batch_8_video7.avi',\n",
              " '/content/drive/MyDrive/temp/Dataset_4-Oct/train/class1_batch_1_video3.avi',\n",
              " '/content/drive/MyDrive/temp/Dataset_4-Oct/train/class1_batch_10_video8.avi',\n",
              " '/content/drive/MyDrive/temp/Dataset_4-Oct/train/class1_batch_5_video7.avi',\n",
              " '/content/drive/MyDrive/temp/Dataset_4-Oct/train/class1_batch_0_video4.avi',\n",
              " '/content/drive/MyDrive/temp/Dataset_4-Oct/train/class1_batch_8_video6.avi',\n",
              " '/content/drive/MyDrive/temp/Dataset_4-Oct/train/class1_batch_10_video3.avi',\n",
              " '/content/drive/MyDrive/temp/Dataset_4-Oct/train/class1_batch_1_video2.avi',\n",
              " '/content/drive/MyDrive/temp/Dataset_4-Oct/train/class1_batch_3_video2.avi',\n",
              " '/content/drive/MyDrive/temp/Dataset_4-Oct/train/class1_batch_1_video6.avi',\n",
              " '/content/drive/MyDrive/temp/Dataset_4-Oct/train/class1_batch_3_video3.avi',\n",
              " '/content/drive/MyDrive/temp/Dataset_4-Oct/train/class1_batch_9_video7.avi',\n",
              " '/content/drive/MyDrive/temp/Dataset_4-Oct/train/class1_batch_10_video5.avi',\n",
              " '/content/drive/MyDrive/temp/Dataset_4-Oct/train/class1_batch_5_video6.avi']"
            ]
          },
          "metadata": {},
          "execution_count": 18
        }
      ]
    },
    {
      "cell_type": "code",
      "source": [
        "def get_frames_labels(vid_path, vid_class):\n",
        "    \n",
        "    vidcap = cv2.VideoCapture(vid_path)\n",
        "    success, frame = vidcap.read()\n",
        "    stacked_frames = \"\"\n",
        "    frame_count = 0\n",
        "    while success:\n",
        "        if stacked_frames == \"\":\n",
        "            stacked_frames = frame[np.newaxis, ...]\n",
        "        else:\n",
        "            stacked_frames = np.concatenate((stacked_frames, frame[np.newaxis, ...]), axis=0)\n",
        "        \n",
        "        success, frame = vidcap.read()\n",
        "        frame_count += 1\n",
        "\n",
        "    # stacked_labels = np.array([vid_class]*frame_count)\n",
        "    stacked_labels = np.array([vid_class])\n",
        "    return stacked_frames, stacked_labels"
      ],
      "metadata": {
        "id": "HkST4UNBwL-8"
      },
      "execution_count": null,
      "outputs": []
    },
    {
      "cell_type": "code",
      "source": [
        "data_X_train = []\n",
        "data_y_train = []\n",
        "\n",
        "vid_class_0_count = 0\n",
        "vid_class_1_count = 0\n",
        "\n",
        "for vid_path in train_video_paths:\n",
        "\n",
        "    vid_name = os.path.split(vid_path)[1]\n",
        "    vid_class = int(vid_name.split(\"_\")[0][-1])\n",
        "\n",
        "    if vid_class == 0:\n",
        "        vid_class_0_count += 1\n",
        "        if vid_class_0_count <= 3:\n",
        "            stacked_frames, stacked_labels = get_frames_labels(vid_path, vid_class)\n",
        "            data_X_train.append(stacked_frames)\n",
        "            data_y_train.append(stacked_labels)\n",
        "    elif vid_class == 1:\n",
        "        vid_class_1_count += 1\n",
        "        if vid_class_1_count <= 3:\n",
        "            stacked_frames, stacked_labels = get_frames_labels(vid_path, vid_class)\n",
        "            data_X_train.append(stacked_frames)\n",
        "            data_y_train.append(stacked_labels)"
      ],
      "metadata": {
        "colab": {
          "base_uri": "https://localhost:8080/"
        },
        "id": "PoIsdl2emv5B",
        "outputId": "e9ca6dce-c5bf-4bb6-8362-8822caf2276c"
      },
      "execution_count": null,
      "outputs": [
        {
          "output_type": "stream",
          "name": "stderr",
          "text": [
            "/usr/local/lib/python3.7/dist-packages/ipykernel_launcher.py:8: FutureWarning: elementwise comparison failed; returning scalar instead, but in the future will perform elementwise comparison\n",
            "  \n"
          ]
        }
      ]
    },
    {
      "cell_type": "code",
      "source": [
        "len(data_X_train)"
      ],
      "metadata": {
        "colab": {
          "base_uri": "https://localhost:8080/"
        },
        "id": "Cq6VPqCJ-XYl",
        "outputId": "ad122930-b4a8-488d-90dd-8741908188d8"
      },
      "execution_count": null,
      "outputs": [
        {
          "output_type": "execute_result",
          "data": {
            "text/plain": [
              "6"
            ]
          },
          "metadata": {},
          "execution_count": 21
        }
      ]
    },
    {
      "cell_type": "code",
      "source": [
        "len(data_y_train)"
      ],
      "metadata": {
        "colab": {
          "base_uri": "https://localhost:8080/"
        },
        "id": "fzAU2l_C-XVl",
        "outputId": "aace2b0a-0798-455e-efe1-8411ff5b5213"
      },
      "execution_count": null,
      "outputs": [
        {
          "output_type": "execute_result",
          "data": {
            "text/plain": [
              "6"
            ]
          },
          "metadata": {},
          "execution_count": 22
        }
      ]
    },
    {
      "cell_type": "code",
      "source": [
        "for vid in data_X_train:\n",
        "    print(vid.shape)"
      ],
      "metadata": {
        "colab": {
          "base_uri": "https://localhost:8080/"
        },
        "id": "4fZbb3sC-XS5",
        "outputId": "50577ced-c066-4359-d389-f0c583fd7847"
      },
      "execution_count": null,
      "outputs": [
        {
          "output_type": "stream",
          "name": "stdout",
          "text": [
            "(301, 480, 640, 3)\n",
            "(301, 480, 640, 3)\n",
            "(304, 480, 640, 3)\n",
            "(295, 480, 640, 3)\n",
            "(302, 480, 640, 3)\n",
            "(302, 480, 640, 3)\n"
          ]
        }
      ]
    },
    {
      "cell_type": "code",
      "source": [
        "for vid in data_y_train:\n",
        "    print(vid.shape)"
      ],
      "metadata": {
        "colab": {
          "base_uri": "https://localhost:8080/"
        },
        "id": "qzm5wNBZ-XQE",
        "outputId": "cd54f290-7eec-4a15-8c8b-b2cb43b3beb4"
      },
      "execution_count": null,
      "outputs": [
        {
          "output_type": "stream",
          "name": "stdout",
          "text": [
            "(1,)\n",
            "(1,)\n",
            "(1,)\n",
            "(1,)\n",
            "(1,)\n",
            "(1,)\n"
          ]
        }
      ]
    },
    {
      "cell_type": "code",
      "source": [],
      "metadata": {
        "id": "4fIh67Ar-XNZ"
      },
      "execution_count": null,
      "outputs": []
    },
    {
      "cell_type": "code",
      "source": [
        "import tensorflow as tf\n",
        "from tensorflow.keras import layers, Model, utils, applications"
      ],
      "metadata": {
        "id": "yVJYtWXC-XKT"
      },
      "execution_count": null,
      "outputs": []
    },
    {
      "cell_type": "code",
      "source": [
        "tensors = [tf.convert_to_tensor(i) for i in data_X_train]\n",
        "X_train = tf.ragged.stack(tensors).to_tensor()\n",
        "\n",
        "tensors = [tf.convert_to_tensor(i) for i in data_y_train]\n",
        "y_train = tf.ragged.stack(tensors).to_tensor()"
      ],
      "metadata": {
        "id": "RfupLyb4-XHu"
      },
      "execution_count": null,
      "outputs": []
    },
    {
      "cell_type": "code",
      "source": [],
      "metadata": {
        "id": "aX0SgzVW-XE7"
      },
      "execution_count": null,
      "outputs": []
    },
    {
      "cell_type": "code",
      "source": [
        "inp = layers.Input((None, 480, 640, 3), ragged=True)\n",
        "\n",
        "cnn = tf.keras.applications.DenseNet169(include_top=True, \n",
        "                                                weights=None, \n",
        "                                                input_tensor=None, \n",
        "                                                input_shape=(480, 640, 3), #<----- input shape for cnn is just the image\n",
        "                                                pooling=None,\n",
        "                                                classes=2)\n",
        "\n",
        "x = layers.TimeDistributed(cnn)(inp)\n",
        "x = layers.LSTM(8)(x)\n",
        "out = layers.Dense(2)(x)\n",
        "\n",
        "model = Model(inp, out)\n",
        "model.compile(loss='binary_crossentropy', \n",
        "              optimizer='adam', \n",
        "              metrics='accuracy')\n",
        "\n",
        "utils.plot_model(model, show_shapes=True, show_layer_names=False)"
      ],
      "metadata": {
        "colab": {
          "base_uri": "https://localhost:8080/",
          "height": 422
        },
        "id": "qyHvEMHd-XCP",
        "outputId": "703c36b1-8e9c-4c29-8575-5d86755c773c"
      },
      "execution_count": null,
      "outputs": [
        {
          "output_type": "execute_result",
          "data": {
            "image/png": "[encoded data removed]",
            "text/plain": [
              "<IPython.core.display.Image object>"
            ]
          },
          "metadata": {},
          "execution_count": 27
        }
      ]
    },
    {
      "cell_type": "code",
      "source": [
        "model.fit(X_train, y_train, epochs=2)"
      ],
      "metadata": {
        "colab": {
          "base_uri": "https://localhost:8080/",
          "height": 1000
        },
        "id": "1jXdbE3c-W_q",
        "outputId": "60338809-4436-473e-ebca-4f6778b9b65b"
      },
      "execution_count": null,
      "outputs": [
        {
          "output_type": "stream",
          "name": "stdout",
          "text": [
            "Epoch 1/2\n"
          ]
        },
        {
          "output_type": "error",
          "ename": "ResourceExhaustedError",
          "evalue": "ignored",
          "traceback": [
            "\u001b[0;31m---------------------------------------------------------------------------\u001b[0m",
            "\u001b[0;31mResourceExhaustedError\u001b[0m                    Traceback (most recent call last)",
            "\u001b[0;32m<ipython-input-28-3bd5ad9ed2c4>\u001b[0m in \u001b[0;36m<module>\u001b[0;34m\u001b[0m\n\u001b[0;32m----> 1\u001b[0;31m \u001b[0mmodel\u001b[0m\u001b[0;34m.\u001b[0m\u001b[0mfit\u001b[0m\u001b[0;34m(\u001b[0m\u001b[0mX_train\u001b[0m\u001b[0;34m,\u001b[0m \u001b[0my_train\u001b[0m\u001b[0;34m,\u001b[0m \u001b[0mepochs\u001b[0m\u001b[0;34m=\u001b[0m\u001b[0;36m2\u001b[0m\u001b[0;34m)\u001b[0m\u001b[0;34m\u001b[0m\u001b[0;34m\u001b[0m\u001b[0m\n\u001b[0m",
            "\u001b[0;32m/usr/local/lib/python3.7/dist-packages/keras/utils/traceback_utils.py\u001b[0m in \u001b[0;36merror_handler\u001b[0;34m(*args, **kwargs)\u001b[0m\n\u001b[1;32m     65\u001b[0m     \u001b[0;32mexcept\u001b[0m \u001b[0mException\u001b[0m \u001b[0;32mas\u001b[0m \u001b[0me\u001b[0m\u001b[0;34m:\u001b[0m  \u001b[0;31m# pylint: disable=broad-except\u001b[0m\u001b[0;34m\u001b[0m\u001b[0;34m\u001b[0m\u001b[0m\n\u001b[1;32m     66\u001b[0m       \u001b[0mfiltered_tb\u001b[0m \u001b[0;34m=\u001b[0m \u001b[0m_process_traceback_frames\u001b[0m\u001b[0;34m(\u001b[0m\u001b[0me\u001b[0m\u001b[0;34m.\u001b[0m\u001b[0m__traceback__\u001b[0m\u001b[0;34m)\u001b[0m\u001b[0;34m\u001b[0m\u001b[0;34m\u001b[0m\u001b[0m\n\u001b[0;32m---> 67\u001b[0;31m       \u001b[0;32mraise\u001b[0m \u001b[0me\u001b[0m\u001b[0;34m.\u001b[0m\u001b[0mwith_traceback\u001b[0m\u001b[0;34m(\u001b[0m\u001b[0mfiltered_tb\u001b[0m\u001b[0;34m)\u001b[0m \u001b[0;32mfrom\u001b[0m \u001b[0;32mNone\u001b[0m\u001b[0;34m\u001b[0m\u001b[0;34m\u001b[0m\u001b[0m\n\u001b[0m\u001b[1;32m     68\u001b[0m     \u001b[0;32mfinally\u001b[0m\u001b[0;34m:\u001b[0m\u001b[0;34m\u001b[0m\u001b[0;34m\u001b[0m\u001b[0m\n\u001b[1;32m     69\u001b[0m       \u001b[0;32mdel\u001b[0m \u001b[0mfiltered_tb\u001b[0m\u001b[0;34m\u001b[0m\u001b[0;34m\u001b[0m\u001b[0m\n",
            "\u001b[0;32m/usr/local/lib/python3.7/dist-packages/tensorflow/python/eager/execute.py\u001b[0m in \u001b[0;36mquick_execute\u001b[0;34m(op_name, num_outputs, inputs, attrs, ctx, name)\u001b[0m\n\u001b[1;32m     53\u001b[0m     \u001b[0mctx\u001b[0m\u001b[0;34m.\u001b[0m\u001b[0mensure_initialized\u001b[0m\u001b[0;34m(\u001b[0m\u001b[0;34m)\u001b[0m\u001b[0;34m\u001b[0m\u001b[0;34m\u001b[0m\u001b[0m\n\u001b[1;32m     54\u001b[0m     tensors = pywrap_tfe.TFE_Py_Execute(ctx._handle, device_name, op_name,\n\u001b[0;32m---> 55\u001b[0;31m                                         inputs, attrs, num_outputs)\n\u001b[0m\u001b[1;32m     56\u001b[0m   \u001b[0;32mexcept\u001b[0m \u001b[0mcore\u001b[0m\u001b[0;34m.\u001b[0m\u001b[0m_NotOkStatusException\u001b[0m \u001b[0;32mas\u001b[0m \u001b[0me\u001b[0m\u001b[0;34m:\u001b[0m\u001b[0;34m\u001b[0m\u001b[0;34m\u001b[0m\u001b[0m\n\u001b[1;32m     57\u001b[0m     \u001b[0;32mif\u001b[0m \u001b[0mname\u001b[0m \u001b[0;32mis\u001b[0m \u001b[0;32mnot\u001b[0m \u001b[0;32mNone\u001b[0m\u001b[0;34m:\u001b[0m\u001b[0;34m\u001b[0m\u001b[0;34m\u001b[0m\u001b[0m\n",
            "\u001b[0;31mResourceExhaustedError\u001b[0m: Graph execution error:\n\nDetected at node 'model_1/time_distributed_1/zero_padding2d_2/Pad' defined at (most recent call last):\n    File \"/usr/lib/python3.7/runpy.py\", line 193, in _run_module_as_main\n      \"__main__\", mod_spec)\n    File \"/usr/lib/python3.7/runpy.py\", line 85, in _run_code\n      exec(code, run_globals)\n    File \"/usr/local/lib/python3.7/dist-packages/ipykernel_launcher.py\", line 16, in <module>\n      app.launch_new_instance()\n    File \"/usr/local/lib/python3.7/dist-packages/traitlets/config/application.py\", line 846, in launch_instance\n      app.start()\n    File \"/usr/local/lib/python3.7/dist-packages/ipykernel/kernelapp.py\", line 612, in start\n      self.io_loop.start()\n    File \"/usr/local/lib/python3.7/dist-packages/tornado/platform/asyncio.py\", line 132, in start\n      self.asyncio_loop.run_forever()\n    File \"/usr/lib/python3.7/asyncio/base_events.py\", line 541, in run_forever\n      self._run_once()\n    File \"/usr/lib/python3.7/asyncio/base_events.py\", line 1786, in _run_once\n      handle._run()\n    File \"/usr/lib/python3.7/asyncio/events.py\", line 88, in _run\n      self._context.run(self._callback, *self._args)\n    File \"/usr/local/lib/python3.7/dist-packages/tornado/ioloop.py\", line 758, in _run_callback\n      ret = callback()\n    File \"/usr/local/lib/python3.7/dist-packages/tornado/stack_context.py\", line 300, in null_wrapper\n      return fn(*args, **kwargs)\n    File \"/usr/local/lib/python3.7/dist-packages/tornado/gen.py\", line 1233, in inner\n      self.run()\n    File \"/usr/local/lib/python3.7/dist-packages/tornado/gen.py\", line 1147, in run\n      yielded = self.gen.send(value)\n    File \"/usr/local/lib/python3.7/dist-packages/ipykernel/kernelbase.py\", line 381, in dispatch_queue\n      yield self.process_one()\n    File \"/usr/local/lib/python3.7/dist-packages/tornado/gen.py\", line 346, in wrapper\n      runner = Runner(result, future, yielded)\n    File \"/usr/local/lib/python3.7/dist-packages/tornado/gen.py\", line 1080, in __init__\n      self.run()\n    File \"/usr/local/lib/python3.7/dist-packages/tornado/gen.py\", line 1147, in run\n      yielded = self.gen.send(value)\n    File \"/usr/local/lib/python3.7/dist-packages/ipykernel/kernelbase.py\", line 365, in process_one\n      yield gen.maybe_future(dispatch(*args))\n    File \"/usr/local/lib/python3.7/dist-packages/tornado/gen.py\", line 326, in wrapper\n      yielded = next(result)\n    File \"/usr/local/lib/python3.7/dist-packages/ipykernel/kernelbase.py\", line 268, in dispatch_shell\n      yield gen.maybe_future(handler(stream, idents, msg))\n    File \"/usr/local/lib/python3.7/dist-packages/tornado/gen.py\", line 326, in wrapper\n      yielded = next(result)\n    File \"/usr/local/lib/python3.7/dist-packages/ipykernel/kernelbase.py\", line 545, in execute_request\n      user_expressions, allow_stdin,\n    File \"/usr/local/lib/python3.7/dist-packages/tornado/gen.py\", line 326, in wrapper\n      yielded = next(result)\n    File \"/usr/local/lib/python3.7/dist-packages/ipykernel/ipkernel.py\", line 306, in do_execute\n      res = shell.run_cell(code, store_history=store_history, silent=silent)\n    File \"/usr/local/lib/python3.7/dist-packages/ipykernel/zmqshell.py\", line 536, in run_cell\n      return super(ZMQInteractiveShell, self).run_cell(*args, **kwargs)\n    File \"/usr/local/lib/python3.7/dist-packages/IPython/core/interactiveshell.py\", line 2855, in run_cell\n      raw_cell, store_history, silent, shell_futures)\n    File \"/usr/local/lib/python3.7/dist-packages/IPython/core/interactiveshell.py\", line 2881, in _run_cell\n      return runner(coro)\n    File \"/usr/local/lib/python3.7/dist-packages/IPython/core/async_helpers.py\", line 68, in _pseudo_sync_runner\n      coro.send(None)\n    File \"/usr/local/lib/python3.7/dist-packages/IPython/core/interactiveshell.py\", line 3058, in run_cell_async\n      interactivity=interactivity, compiler=compiler, result=result)\n    File \"/usr/local/lib/python3.7/dist-packages/IPython/core/interactiveshell.py\", line 3249, in run_ast_nodes\n      if (await self.run_code(code, result,  async_=asy)):\n    File \"/usr/local/lib/python3.7/dist-packages/IPython/core/interactiveshell.py\", line 3326, in run_code\n      exec(code_obj, self.user_global_ns, self.user_ns)\n    File \"<ipython-input-28-3bd5ad9ed2c4>\", line 1, in <module>\n      model.fit(X_train, y_train, epochs=2)\n    File \"/usr/local/lib/python3.7/dist-packages/keras/utils/traceback_utils.py\", line 64, in error_handler\n      return fn(*args, **kwargs)\n    File \"/usr/local/lib/python3.7/dist-packages/keras/engine/training.py\", line 1384, in fit\n      tmp_logs = self.train_function(iterator)\n    File \"/usr/local/lib/python3.7/dist-packages/keras/engine/training.py\", line 1021, in train_function\n      return step_function(self, iterator)\n    File \"/usr/local/lib/python3.7/dist-packages/keras/engine/training.py\", line 1010, in step_function\n      outputs = model.distribute_strategy.run(run_step, args=(data,))\n    File \"/usr/local/lib/python3.7/dist-packages/keras/engine/training.py\", line 1000, in run_step\n      outputs = model.train_step(data)\n    File \"/usr/local/lib/python3.7/dist-packages/keras/engine/training.py\", line 859, in train_step\n      y_pred = self(x, training=True)\n    File \"/usr/local/lib/python3.7/dist-packages/keras/utils/traceback_utils.py\", line 64, in error_handler\n      return fn(*args, **kwargs)\n    File \"/usr/local/lib/python3.7/dist-packages/keras/engine/base_layer.py\", line 1096, in __call__\n      outputs = call_fn(inputs, *args, **kwargs)\n    File \"/usr/local/lib/python3.7/dist-packages/keras/utils/traceback_utils.py\", line 92, in error_handler\n      return fn(*args, **kwargs)\n    File \"/usr/local/lib/python3.7/dist-packages/keras/engine/functional.py\", line 452, in call\n      inputs, training=training, mask=mask)\n    File \"/usr/local/lib/python3.7/dist-packages/keras/engine/functional.py\", line 589, in _run_internal_graph\n      outputs = node.layer(*args, **kwargs)\n    File \"/usr/local/lib/python3.7/dist-packages/keras/utils/traceback_utils.py\", line 64, in error_handler\n      return fn(*args, **kwargs)\n    File \"/usr/local/lib/python3.7/dist-packages/keras/engine/base_layer.py\", line 1101, in __call__\n      self._set_mask_metadata(inputs, outputs, input_masks, not eager)\n    File \"/usr/local/lib/python3.7/dist-packages/keras/engine/base_layer.py\", line 2573, in _set_mask_metadata\n      output_masks = self.compute_mask(inputs, previous_mask)\n    File \"/usr/local/lib/python3.7/dist-packages/keras/layers/wrappers.py\", line 343, in compute_mask\n      output_mask = self.layer.compute_mask(inner_inputs, inner_mask)\n    File \"/usr/local/lib/python3.7/dist-packages/keras/engine/functional.py\", line 428, in compute_mask\n      output_tensors = self._run_internal_graph(inputs, mask=mask)\n    File \"/usr/local/lib/python3.7/dist-packages/keras/engine/functional.py\", line 589, in _run_internal_graph\n      outputs = node.layer(*args, **kwargs)\n    File \"/usr/local/lib/python3.7/dist-packages/keras/utils/traceback_utils.py\", line 64, in error_handler\n      return fn(*args, **kwargs)\n    File \"/usr/local/lib/python3.7/dist-packages/keras/engine/base_layer.py\", line 1096, in __call__\n      outputs = call_fn(inputs, *args, **kwargs)\n    File \"/usr/local/lib/python3.7/dist-packages/keras/utils/traceback_utils.py\", line 92, in error_handler\n      return fn(*args, **kwargs)\n    File \"/usr/local/lib/python3.7/dist-packages/keras/layers/convolutional.py\", line 3236, in call\n      inputs, padding=self.padding, data_format=self.data_format)\n    File \"/usr/local/lib/python3.7/dist-packages/keras/backend.py\", line 3761, in spatial_2d_padding\n      return tf.compat.v1.pad(x, pattern)\nNode: 'model_1/time_distributed_1/zero_padding2d_2/Pad'\nOOM when allocating tensor with shape[1824,486,646,3] and type float on /job:localhost/replica:0/task:0/device:GPU:0 by allocator GPU_0_bfc\n\t [[{{node model_1/time_distributed_1/zero_padding2d_2/Pad}}]]\nHint: If you want to see a list of allocated tensors when OOM happens, add report_tensor_allocations_upon_oom to RunOptions for current allocation info. This isn't available when running in Eager mode.\n [Op:__inference_train_function_91497]"
          ]
        }
      ]
    },
    {
      "cell_type": "code",
      "source": [],
      "metadata": {
        "id": "5LbcCckEmkK8"
      },
      "execution_count": null,
      "outputs": []
    }
  ]
}