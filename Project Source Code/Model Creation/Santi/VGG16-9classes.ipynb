{
 "cells": [
  {
   "cell_type": "code",
   "execution_count": 1,
   "id": "27a5f2a0",
   "metadata": {},
   "outputs": [
    {
     "name": "stdout",
     "output_type": "stream",
     "text": [
      "Versions of key libraries\n",
      "---\n",
      "tensorflow:  2.9.2\n",
      "numpy:       1.22.4\n",
      "matplotlib:  3.5.3\n",
      "sklearn:     1.1.2\n"
     ]
    }
   ],
   "source": [
    "import matplotlib\n",
    "import sklearn\n",
    "import numpy as np\n",
    "import pandas as pd\n",
    "import sklearn.metrics as metrics\n",
    "import matplotlib.pyplot as plt\n",
    "import tensorflow as tf\n",
    "\n",
    "\n",
    "from tensorflow.keras.callbacks import ModelCheckpoint,CSVLogger,LearningRateScheduler\n",
    "from tensorflow.keras.models import Model\n",
    "from tensorflow.keras.layers import Input\n",
    "from tensorflow.keras.layers import Dense\n",
    "from tensorflow.keras.layers import Dropout\n",
    "from tensorflow.keras.layers import Flatten\n",
    "from tensorflow.keras.layers import Conv2D\n",
    "from tensorflow.keras.layers import MaxPooling2D\n",
    "from tensorflow.keras.layers import BatchNormalization\n",
    "from tensorflow.keras.layers import Activation\n",
    "from tensorflow.keras.layers import AveragePooling2D\n",
    "from tensorflow.keras.layers import RandomFlip\n",
    "from tensorflow.keras.layers import RandomRotation\n",
    "from tensorflow.keras.layers import RandomZoom\n",
    "from tensorflow.keras.layers import add\n",
    "from tensorflow.keras.regularizers import l2\n",
    "from tensorflow.keras.utils import to_categorical\n",
    "from tensorflow.keras.datasets import cifar10\n",
    "from tensorflow.keras import optimizers\n",
    "from tensorflow.keras.preprocessing.image import ImageDataGenerator\n",
    "from tensorflow.keras.utils import plot_model\n",
    "\n",
    "print(\"Versions of key libraries\")\n",
    "print(\"---\")\n",
    "print(\"tensorflow: \", tf.__version__)\n",
    "print(\"numpy:      \", np.__version__)\n",
    "print(\"matplotlib: \", matplotlib.__version__)\n",
    "print(\"sklearn:    \", sklearn.__version__)"
   ]
  },
  {
   "cell_type": "code",
   "execution_count": 2,
   "id": "068b710f",
   "metadata": {},
   "outputs": [],
   "source": [
    "import pathlib\n",
    "\n",
    "import tensorflow as tf\n",
    "import tensorflow_hub as hub"
   ]
  },
  {
   "cell_type": "code",
   "execution_count": 3,
   "id": "b879e052",
   "metadata": {},
   "outputs": [
    {
     "name": "stdout",
     "output_type": "stream",
     "text": [
      "/Users/santi/apps/tensorflow/datasets/state-farm-distracted-driver-detection/imgs/train\n",
      "/Users/santi/apps/tensorflow/datasets/state-farm-distracted-driver-detection/imgs/testresult\n"
     ]
    }
   ],
   "source": [
    "data_dir = '/Users/santi/apps/tensorflow/datasets/state-farm-distracted-driver-detection/imgs/train/'\n",
    "data_dir = pathlib.Path(data_dir)\n",
    "print(data_dir)\n",
    "\n",
    "# val_dir = '/Users/santi/apps/tensorflow/datasets/driver-fatigue/output/val/'\n",
    "# val_dir = pathlib.Path(val_dir)\n",
    "# print(val_dir)\n",
    "\n",
    "test_dir = '/Users/santi/apps/tensorflow/datasets/state-farm-distracted-driver-detection/imgs/testresult/'\n",
    "test_dir = pathlib.Path(test_dir)\n",
    "print(test_dir)"
   ]
  },
  {
   "cell_type": "code",
   "execution_count": 4,
   "id": "d1368e95",
   "metadata": {},
   "outputs": [
    {
     "name": "stdout",
     "output_type": "stream",
     "text": [
      "19578\n"
     ]
    }
   ],
   "source": [
    "image_count = len(list(data_dir.glob('*/*.jpg')))\n",
    "print(image_count)"
   ]
  },
  {
   "cell_type": "code",
   "execution_count": 5,
   "id": "c8974305",
   "metadata": {},
   "outputs": [],
   "source": [
    "batch_size = 100\n",
    "img_height = 224\n",
    "img_width = 224\n",
    "\n",
    "IMAGE_SHAPE = (224, 224)"
   ]
  },
  {
   "cell_type": "code",
   "execution_count": 6,
   "id": "002f2ca4",
   "metadata": {},
   "outputs": [],
   "source": [
    "from keras.applications.vgg16 import VGG16, preprocess_input\n",
    "# from tensorflow.keras.applications.MobileNetV2 import MobileNetV2"
   ]
  },
  {
   "cell_type": "code",
   "execution_count": 7,
   "id": "f759b610",
   "metadata": {},
   "outputs": [
    {
     "name": "stderr",
     "output_type": "stream",
     "text": [
      "2022-10-23 12:11:13.256172: I tensorflow/core/common_runtime/pluggable_device/pluggable_device_factory.cc:305] Could not identify NUMA node of platform GPU ID 0, defaulting to 0. Your kernel may not have been built with NUMA support.\n",
      "2022-10-23 12:11:13.256350: I tensorflow/core/common_runtime/pluggable_device/pluggable_device_factory.cc:271] Created TensorFlow device (/job:localhost/replica:0/task:0/device:GPU:0 with 0 MB memory) -> physical PluggableDevice (device: 0, name: METAL, pci bus id: <undefined>)\n"
     ]
    },
    {
     "name": "stdout",
     "output_type": "stream",
     "text": [
      "Metal device set to: Apple M1 Max\n",
      "Model: \"model\"\n",
      "_________________________________________________________________\n",
      " Layer (type)                Output Shape              Param #   \n",
      "=================================================================\n",
      " input_1 (InputLayer)        [(None, 224, 224, 3)]     0         \n",
      "                                                                 \n",
      " block1_conv1 (Conv2D)       (None, 224, 224, 64)      1792      \n",
      "                                                                 \n",
      " block1_conv2 (Conv2D)       (None, 224, 224, 64)      36928     \n",
      "                                                                 \n",
      " block1_pool (MaxPooling2D)  (None, 112, 112, 64)      0         \n",
      "                                                                 \n",
      " block2_conv1 (Conv2D)       (None, 112, 112, 128)     73856     \n",
      "                                                                 \n",
      " block2_conv2 (Conv2D)       (None, 112, 112, 128)     147584    \n",
      "                                                                 \n",
      " block2_pool (MaxPooling2D)  (None, 56, 56, 128)       0         \n",
      "                                                                 \n",
      " block3_conv1 (Conv2D)       (None, 56, 56, 256)       295168    \n",
      "                                                                 \n",
      " block3_conv2 (Conv2D)       (None, 56, 56, 256)       590080    \n",
      "                                                                 \n",
      " block3_conv3 (Conv2D)       (None, 56, 56, 256)       590080    \n",
      "                                                                 \n",
      " block3_pool (MaxPooling2D)  (None, 28, 28, 256)       0         \n",
      "                                                                 \n",
      " block4_conv1 (Conv2D)       (None, 28, 28, 512)       1180160   \n",
      "                                                                 \n",
      " block4_conv2 (Conv2D)       (None, 28, 28, 512)       2359808   \n",
      "                                                                 \n",
      " block4_conv3 (Conv2D)       (None, 28, 28, 512)       2359808   \n",
      "                                                                 \n",
      " block4_pool (MaxPooling2D)  (None, 14, 14, 512)       0         \n",
      "                                                                 \n",
      " block5_conv1 (Conv2D)       (None, 14, 14, 512)       2359808   \n",
      "                                                                 \n",
      " block5_conv2 (Conv2D)       (None, 14, 14, 512)       2359808   \n",
      "                                                                 \n",
      " block5_conv3 (Conv2D)       (None, 14, 14, 512)       2359808   \n",
      "                                                                 \n",
      " block5_pool (MaxPooling2D)  (None, 7, 7, 512)         0         \n",
      "                                                                 \n",
      " flatten (Flatten)           (None, 25088)             0         \n",
      "                                                                 \n",
      " dense (Dense)               (None, 32)                802848    \n",
      "                                                                 \n",
      " dropout (Dropout)           (None, 32)                0         \n",
      "                                                                 \n",
      " dense_1 (Dense)             (None, 9)                 297       \n",
      "                                                                 \n",
      "=================================================================\n",
      "Total params: 15,517,833\n",
      "Trainable params: 15,517,833\n",
      "Non-trainable params: 0\n",
      "_________________________________________________________________\n"
     ]
    }
   ],
   "source": [
    "optmz       = 'adam' #     optimizers.RMSprop(learning_rate=0.0001)    \n",
    "#modelname   = 'tl_driver_distraction_model_01' #normal all data\n",
    "modelname   = 'tl_driver_distraction_model_03' #remove c8 from training data VGG16\n",
    "base_learning_rate = 0.0001\n",
    "def createModel(inputShape=(img_height,img_width,3),numClasses=9):\n",
    "    \n",
    "  \n",
    "    \n",
    "    conv_base = VGG16(include_top=False,\n",
    "                     weights='imagenet', \n",
    "                     input_shape=inputShape)\n",
    "    \n",
    "    \n",
    "#     conv_base = tf.keras.applications.MobileNetV2(input_shape=inputShape,\n",
    "#                                                include_top=False,\n",
    "#                                                weights='imagenet')\n",
    "    top_model = conv_base.output\n",
    "    top_model = Flatten(name=\"flatten\")(top_model)\n",
    "#     top_model = Dense(4096, activation='relu')(top_model)\n",
    "    top_model = Dense(32, activation='relu')(top_model)\n",
    "    top_model = Dropout(0.2)(top_model)\n",
    "\n",
    "#     top_model.trainable = False\n",
    "    outputs = Dense(numClasses,\n",
    "                activation='softmax')(top_model)\n",
    "    \n",
    "    model       = Model(inputs=conv_base.input,outputs=outputs)\n",
    "    model.compile(loss='sparse_categorical_crossentropy',\n",
    "              optimizer=tf.keras.optimizers.Adam(learning_rate=base_learning_rate),\n",
    "              metrics=['accuracy'])    \n",
    "    return model\n",
    "\n",
    "\n",
    "model = createModel()\n",
    "model.summary()   \n",
    "    "
   ]
  },
  {
   "cell_type": "code",
   "execution_count": 8,
   "id": "c94a4a56",
   "metadata": {},
   "outputs": [
    {
     "name": "stdout",
     "output_type": "stream",
     "text": [
      "Callbacks created:\n",
      "<keras.callbacks.ModelCheckpoint object at 0x169c23e50>\n",
      "<keras.callbacks.CSVLogger object at 0x169c23eb0>\n",
      "\n",
      "Path to model: /Users/santi/apps/tensorflow/model/tl_driver_distraction_model_03.hdf5\n",
      "Path to log:   /Users/santi/apps/tensorflow/model/tl_driver_distraction_model_03.csv\n"
     ]
    }
   ],
   "source": [
    "folderpath      = '/Users/santi/apps/tensorflow/model/'\n",
    "filepath        = folderpath + modelname + \".hdf5\"\n",
    "checkpoint      = ModelCheckpoint(filepath, \n",
    "                                  monitor='val_accuracy', \n",
    "                                  verbose=0, \n",
    "                                  save_best_only=True, \n",
    "                                  mode='max')\n",
    "\n",
    "csv_logger      = CSVLogger(folderpath+modelname +'.csv')                       # Step 2\n",
    "callbacks_list  = [checkpoint,csv_logger]                                       # Step 3\n",
    "\n",
    "print(\"Callbacks created:\")\n",
    "print(callbacks_list[0])\n",
    "print(callbacks_list[1])\n",
    "print('')\n",
    "print(\"Path to model:\", filepath)\n",
    "print(\"Path to log:  \", folderpath+modelname+'.csv')"
   ]
  },
  {
   "cell_type": "code",
   "execution_count": 9,
   "id": "2d2db30c",
   "metadata": {},
   "outputs": [
    {
     "name": "stdout",
     "output_type": "stream",
     "text": [
      "Path to plot: /Users/santi/apps/tensorflow/model/tl_driver_distraction_model_03_plot.png\n"
     ]
    }
   ],
   "source": [
    "plotpath  = folderpath+modelname+'_plot.png'\n",
    "plot_model(model, \n",
    "           to_file=plotpath, \n",
    "           show_shapes=True, \n",
    "           show_layer_names=False,\n",
    "           rankdir='TB')\n",
    "\n",
    "print(\"Path to plot:\", plotpath)"
   ]
  },
  {
   "cell_type": "code",
   "execution_count": 10,
   "id": "ffa63343",
   "metadata": {},
   "outputs": [
    {
     "name": "stdout",
     "output_type": "stream",
     "text": [
      "Found 19578 files belonging to 9 classes.\n",
      "Using 15663 files for training.\n"
     ]
    }
   ],
   "source": [
    "train_ds = tf.keras.utils.image_dataset_from_directory(\n",
    "  data_dir,\n",
    "  validation_split=0.2,\n",
    "  subset=\"training\",\n",
    "  seed=123,\n",
    "  image_size=(img_height, img_width),\n",
    "  batch_size=batch_size)"
   ]
  },
  {
   "cell_type": "code",
   "execution_count": 11,
   "id": "a5b2dd63",
   "metadata": {},
   "outputs": [],
   "source": [
    "class_names = train_ds.class_names"
   ]
  },
  {
   "cell_type": "code",
   "execution_count": 12,
   "id": "94a5906b",
   "metadata": {},
   "outputs": [
    {
     "name": "stdout",
     "output_type": "stream",
     "text": [
      "Found 19578 files belonging to 9 classes.\n",
      "Using 3915 files for validation.\n"
     ]
    }
   ],
   "source": [
    "val_ds = tf.keras.utils.image_dataset_from_directory(\n",
    "  data_dir,\n",
    "  validation_split=0.2,\n",
    "  subset=\"validation\",\n",
    "  seed=123,\n",
    "  image_size=(img_height, img_width),\n",
    "  batch_size=batch_size)"
   ]
  },
  {
   "cell_type": "code",
   "execution_count": 13,
   "id": "87b21175",
   "metadata": {},
   "outputs": [
    {
     "name": "stdout",
     "output_type": "stream",
     "text": [
      "Epoch 1/40\n"
     ]
    },
    {
     "name": "stderr",
     "output_type": "stream",
     "text": [
      "2022-10-23 12:11:33.541123: W tensorflow/core/platform/profile_utils/cpu_utils.cc:128] Failed to get CPU frequency: 0 Hz\n",
      "2022-10-23 12:11:33.541286: I tensorflow/core/grappler/optimizers/custom_graph_optimizer_registry.cc:113] Plugin optimizer for device_type GPU is enabled.\n"
     ]
    },
    {
     "name": "stdout",
     "output_type": "stream",
     "text": [
      "157/157 [==============================] - ETA: 0s - loss: 1.6568 - accuracy: 0.4543"
     ]
    },
    {
     "name": "stderr",
     "output_type": "stream",
     "text": [
      "2022-10-23 12:15:01.687107: I tensorflow/core/grappler/optimizers/custom_graph_optimizer_registry.cc:113] Plugin optimizer for device_type GPU is enabled.\n"
     ]
    },
    {
     "name": "stdout",
     "output_type": "stream",
     "text": [
      "157/157 [==============================] - 224s 1s/step - loss: 1.6568 - accuracy: 0.4543 - val_loss: 0.3388 - val_accuracy: 0.9073\n",
      "Epoch 2/40\n",
      "157/157 [==============================] - 222s 1s/step - loss: 0.2897 - accuracy: 0.9067 - val_loss: 0.0707 - val_accuracy: 0.9806\n",
      "Epoch 3/40\n",
      "157/157 [==============================] - 222s 1s/step - loss: 0.1081 - accuracy: 0.9676 - val_loss: 0.0511 - val_accuracy: 0.9870\n",
      "Epoch 4/40\n",
      "157/157 [==============================] - 221s 1s/step - loss: 0.0638 - accuracy: 0.9805 - val_loss: 0.0450 - val_accuracy: 0.9923\n",
      "Epoch 5/40\n",
      "157/157 [==============================] - 221s 1s/step - loss: 0.0391 - accuracy: 0.9885 - val_loss: 0.0280 - val_accuracy: 0.9926\n",
      "Epoch 6/40\n",
      "157/157 [==============================] - 221s 1s/step - loss: 0.0302 - accuracy: 0.9909 - val_loss: 0.0161 - val_accuracy: 0.9959\n",
      "Epoch 7/40\n",
      "157/157 [==============================] - 222s 1s/step - loss: 0.0269 - accuracy: 0.9925 - val_loss: 0.0119 - val_accuracy: 0.9959\n",
      "Epoch 8/40\n",
      "157/157 [==============================] - 222s 1s/step - loss: 0.0334 - accuracy: 0.9911 - val_loss: 0.0153 - val_accuracy: 0.9964\n",
      "Epoch 9/40\n",
      "157/157 [==============================] - 223s 1s/step - loss: 0.0239 - accuracy: 0.9930 - val_loss: 0.0292 - val_accuracy: 0.9941\n",
      "Epoch 10/40\n",
      "157/157 [==============================] - 223s 1s/step - loss: 0.0313 - accuracy: 0.9911 - val_loss: 0.0421 - val_accuracy: 0.9867\n",
      "Epoch 11/40\n",
      "157/157 [==============================] - 221s 1s/step - loss: 0.0178 - accuracy: 0.9948 - val_loss: 0.0279 - val_accuracy: 0.9934\n",
      "Epoch 12/40\n",
      "157/157 [==============================] - 221s 1s/step - loss: 0.0164 - accuracy: 0.9963 - val_loss: 0.0123 - val_accuracy: 0.9974\n",
      "Epoch 13/40\n",
      "157/157 [==============================] - 223s 1s/step - loss: 0.0157 - accuracy: 0.9957 - val_loss: 0.0101 - val_accuracy: 0.9977\n",
      "Epoch 14/40\n",
      "157/157 [==============================] - 226s 1s/step - loss: 0.0103 - accuracy: 0.9970 - val_loss: 0.0253 - val_accuracy: 0.9957\n",
      "Epoch 15/40\n",
      "157/157 [==============================] - 225s 1s/step - loss: 0.0231 - accuracy: 0.9941 - val_loss: 0.0141 - val_accuracy: 0.9964\n",
      "Epoch 16/40\n",
      "157/157 [==============================] - 224s 1s/step - loss: 0.0061 - accuracy: 0.9983 - val_loss: 0.0119 - val_accuracy: 0.9972\n",
      "Epoch 17/40\n",
      "157/157 [==============================] - 224s 1s/step - loss: 0.0046 - accuracy: 0.9987 - val_loss: 0.0082 - val_accuracy: 0.9985\n",
      "Epoch 18/40\n",
      "157/157 [==============================] - 224s 1s/step - loss: 0.0195 - accuracy: 0.9951 - val_loss: 0.0128 - val_accuracy: 0.9969\n",
      "Epoch 19/40\n",
      "157/157 [==============================] - 224s 1s/step - loss: 0.0167 - accuracy: 0.9958 - val_loss: 0.0731 - val_accuracy: 0.9834\n",
      "Epoch 20/40\n",
      "157/157 [==============================] - 224s 1s/step - loss: 0.0231 - accuracy: 0.9943 - val_loss: 0.0143 - val_accuracy: 0.9972\n",
      "Epoch 21/40\n",
      "157/157 [==============================] - 225s 1s/step - loss: 0.0230 - accuracy: 0.9940 - val_loss: 0.0248 - val_accuracy: 0.9951\n",
      "Epoch 22/40\n",
      "157/157 [==============================] - 223s 1s/step - loss: 0.0109 - accuracy: 0.9974 - val_loss: 0.0068 - val_accuracy: 0.9977\n",
      "Epoch 23/40\n",
      "157/157 [==============================] - 221s 1s/step - loss: 0.0058 - accuracy: 0.9987 - val_loss: 0.0062 - val_accuracy: 0.9985\n",
      "Epoch 24/40\n",
      "157/157 [==============================] - 221s 1s/step - loss: 6.2844e-04 - accuracy: 0.9999 - val_loss: 0.0102 - val_accuracy: 0.9980\n",
      "Epoch 25/40\n",
      "157/157 [==============================] - 223s 1s/step - loss: 0.0022 - accuracy: 0.9996 - val_loss: 0.0154 - val_accuracy: 0.9962\n",
      "Epoch 26/40\n",
      "157/157 [==============================] - 222s 1s/step - loss: 0.0070 - accuracy: 0.9981 - val_loss: 0.0097 - val_accuracy: 0.9977\n",
      "Epoch 27/40\n",
      "157/157 [==============================] - 221s 1s/step - loss: 0.0112 - accuracy: 0.9972 - val_loss: 0.0087 - val_accuracy: 0.9980\n",
      "Epoch 28/40\n",
      "157/157 [==============================] - 222s 1s/step - loss: 0.0063 - accuracy: 0.9986 - val_loss: 0.0192 - val_accuracy: 0.9962\n",
      "Epoch 29/40\n",
      "157/157 [==============================] - 223s 1s/step - loss: 0.0317 - accuracy: 0.9915 - val_loss: 0.0242 - val_accuracy: 0.9962\n",
      "Epoch 30/40\n",
      "157/157 [==============================] - 223s 1s/step - loss: 0.0211 - accuracy: 0.9944 - val_loss: 0.0071 - val_accuracy: 0.9974\n",
      "Epoch 31/40\n",
      "157/157 [==============================] - 223s 1s/step - loss: 0.0160 - accuracy: 0.9959 - val_loss: 0.0068 - val_accuracy: 0.9982\n",
      "Epoch 32/40\n",
      "157/157 [==============================] - 223s 1s/step - loss: 0.0036 - accuracy: 0.9990 - val_loss: 0.0066 - val_accuracy: 0.9982\n",
      "Epoch 33/40\n",
      "157/157 [==============================] - 221s 1s/step - loss: 7.6737e-04 - accuracy: 0.9998 - val_loss: 0.0139 - val_accuracy: 0.9969\n",
      "Epoch 34/40\n",
      "157/157 [==============================] - 221s 1s/step - loss: 1.3471e-04 - accuracy: 0.9999 - val_loss: 0.0079 - val_accuracy: 0.9987\n",
      "Epoch 35/40\n",
      "157/157 [==============================] - 221s 1s/step - loss: 1.5604e-04 - accuracy: 0.9999 - val_loss: 0.0071 - val_accuracy: 0.9992\n",
      "Epoch 36/40\n",
      "157/157 [==============================] - 221s 1s/step - loss: 8.4111e-05 - accuracy: 1.0000 - val_loss: 0.0057 - val_accuracy: 0.9992\n",
      "Epoch 37/40\n",
      "157/157 [==============================] - 221s 1s/step - loss: 0.0011 - accuracy: 0.9997 - val_loss: 0.0099 - val_accuracy: 0.9985\n",
      "Epoch 38/40\n",
      "157/157 [==============================] - 221s 1s/step - loss: 5.6056e-05 - accuracy: 1.0000 - val_loss: 0.0100 - val_accuracy: 0.9987\n",
      "Epoch 39/40\n",
      "157/157 [==============================] - 221s 1s/step - loss: 1.4677e-04 - accuracy: 0.9999 - val_loss: 0.0128 - val_accuracy: 0.9985\n",
      "Epoch 40/40\n",
      "157/157 [==============================] - 221s 1s/step - loss: 6.5844e-05 - accuracy: 1.0000 - val_loss: 0.0095 - val_accuracy: 0.9985\n"
     ]
    }
   ],
   "source": [
    "history=model.fit(train_ds,                    # Training data\n",
    "          validation_data=val_ds,   # Validation data and label\n",
    "          epochs=40,                       # The amount of epochs to be trained\n",
    "          batch_size=batch_size,                   \n",
    "          shuffle=True,                     # To shuffle the training data\n",
    "          callbacks=callbacks_list)         # Callbacks to execute the checkpoints\n"
   ]
  },
  {
   "cell_type": "code",
   "execution_count": 14,
   "id": "8b08aacf",
   "metadata": {},
   "outputs": [
    {
     "data": {
      "image/png": "[encoded data removed]",
      "text/plain": [
       "<Figure size 640x480 with 1 Axes>"
      ]
     },
     "metadata": {},
     "output_type": "display_data"
    },
    {
     "data": {
      "image/png": "[encoded data removed]",
      "text/plain": [
       "<Figure size 640x480 with 1 Axes>"
      ]
     },
     "metadata": {},
     "output_type": "display_data"
    }
   ],
   "source": [
    "import matplotlib.pyplot as plt\n",
    "\n",
    "# Plot training & validation accuracy values\n",
    "plt.plot(history.history['accuracy'])\n",
    "plt.plot(history.history['val_accuracy'])\n",
    "plt.title('Model accuracy')\n",
    "plt.ylabel('Accuracy')\n",
    "plt.xlabel('Epoch')\n",
    "plt.legend(['Train', 'Val'], loc='upper left')\n",
    "plt.show()\n",
    "\n",
    "# Plot training & validation loss values\n",
    "plt.plot(history.history['loss'])\n",
    "plt.plot(history.history['val_loss'])\n",
    "plt.title('Model loss')\n",
    "plt.ylabel('Loss')\n",
    "plt.xlabel('Epoch')\n",
    "plt.legend(['Train', 'Val'], loc='upper left')\n",
    "plt.show()"
   ]
  },
  {
   "cell_type": "code",
   "execution_count": null,
   "id": "b704c3c0",
   "metadata": {},
   "outputs": [],
   "source": []
  },
  {
   "cell_type": "code",
   "execution_count": 15,
   "id": "e36873b4",
   "metadata": {},
   "outputs": [
    {
     "name": "stdout",
     "output_type": "stream",
     "text": [
      "Found 935 files belonging to 9 classes.\n"
     ]
    }
   ],
   "source": [
    "test_ds = tf.keras.utils.image_dataset_from_directory(\n",
    "  test_dir,\n",
    "  seed=123,\n",
    "  shuffle=False,\n",
    "  image_size=(img_height, img_width),\n",
    "  batch_size=1)"
   ]
  },
  {
   "cell_type": "code",
   "execution_count": 16,
   "id": "eccfac68",
   "metadata": {},
   "outputs": [
    {
     "name": "stdout",
     "output_type": "stream",
     "text": [
      " 14/935 [..............................] - ETA: 7s "
     ]
    },
    {
     "name": "stderr",
     "output_type": "stream",
     "text": [
      "2022-10-23 14:42:22.421209: I tensorflow/core/grappler/optimizers/custom_graph_optimizer_registry.cc:113] Plugin optimizer for device_type GPU is enabled.\n"
     ]
    },
    {
     "name": "stdout",
     "output_type": "stream",
     "text": [
      "935/935 [==============================] - 9s 10ms/step\n"
     ]
    }
   ],
   "source": [
    "test_classes=test_ds.class_names \n",
    "predicts    = model.predict(test_ds)  "
   ]
  },
  {
   "cell_type": "code",
   "execution_count": 17,
   "id": "50b83108",
   "metadata": {},
   "outputs": [],
   "source": [
    "from sklearn import metrics \n",
    "from sklearn.metrics import classification_report, confusion_matrix \n",
    "import seaborn as sns"
   ]
  },
  {
   "cell_type": "code",
   "execution_count": 18,
   "id": "c2958728",
   "metadata": {},
   "outputs": [
    {
     "name": "stdout",
     "output_type": "stream",
     "text": [
      "935/935 [==============================] - 10s 10ms/step\n",
      "there were 935 correct predictions in 935 tests for an accuracy of 100.00 % \n"
     ]
    },
    {
     "data": {
      "image/png": "[encoded data removed]",
      "text/plain": [
       "<Figure size 400x400 with 1 Axes>"
      ]
     },
     "metadata": {},
     "output_type": "display_data"
    }
   ],
   "source": [
    "ytrue=[]\n",
    "for images, label in test_ds:   \n",
    "    for e in label:\n",
    "        ytrue.append(test_classes[e]) # list of class names associated with each image file in test dataset \n",
    "ypred=[]\n",
    "errors=0\n",
    "count=0\n",
    "preds=model.predict(test_ds, verbose=1) # predict on the test data\n",
    "for i, p in enumerate(preds):\n",
    "    count +=1\n",
    "    index=np.argmax(p) # get index of prediction with highest probability\n",
    "    klass=test_classes[index] \n",
    "    ypred.append(klass)  \n",
    "    if klass != ytrue[i]:\n",
    "        errors +=1\n",
    "        \n",
    "acc= (count-errors)* 100/count\n",
    "msg=f'there were {count-errors} correct predictions in {count} tests for an accuracy of {acc:6.2f} % '\n",
    "print(msg) \n",
    "ypred=np.array(ypred)\n",
    "ytrue=np.array(ytrue)\n",
    "if len(test_classes)<= 30: # if more than 30 classes plot is not useful to cramed\n",
    "        # create a confusion matrix \n",
    "        cm = confusion_matrix(ytrue, ypred )        \n",
    "        length=len(test_classes)\n",
    "        if length<8:\n",
    "            fig_width=8\n",
    "            fig_height=8\n",
    "        else:\n",
    "            fig_width= int(length * .5)\n",
    "            fig_height= int(length * .5)\n",
    "        plt.figure(figsize=(fig_width, fig_height))\n",
    "        sns.heatmap(cm, annot=True, vmin=0, fmt='g', cmap='Blues', cbar=False)       \n",
    "        plt.xticks(np.arange(length)+.5, test_classes, rotation= 90)\n",
    "        plt.yticks(np.arange(length)+.5, test_classes, rotation=0)\n",
    "        plt.xlabel(\"Predicted\")\n",
    "        plt.ylabel(\"Actual\")\n",
    "        plt.title(\"Confusion Matrix\")\n",
    "        plt.show()"
   ]
  },
  {
   "cell_type": "code",
   "execution_count": 19,
   "id": "3e023f83",
   "metadata": {},
   "outputs": [
    {
     "name": "stdout",
     "output_type": "stream",
     "text": [
      "Best accuracy (on testing dataset): 100.00%\n",
      "              precision    recall  f1-score   support\n",
      "\n",
      "          c0     1.0000    1.0000    1.0000       100\n",
      "          c1     1.0000    1.0000    1.0000       101\n",
      "          c2     1.0000    1.0000    1.0000       101\n",
      "          c3     1.0000    1.0000    1.0000       115\n",
      "          c4     1.0000    1.0000    1.0000       118\n",
      "          c5     1.0000    1.0000    1.0000        98\n",
      "          c6     1.0000    1.0000    1.0000       100\n",
      "          c7     1.0000    1.0000    1.0000       104\n",
      "          c9     1.0000    1.0000    1.0000        98\n",
      "\n",
      "    accuracy                         1.0000       935\n",
      "   macro avg     1.0000    1.0000    1.0000       935\n",
      "weighted avg     1.0000    1.0000    1.0000       935\n",
      "\n"
     ]
    }
   ],
   "source": [
    "testScores  = metrics.accuracy_score( ytrue,ypred)                           # Step 3\n",
    "\n",
    "                                                                                # Step 4\n",
    "print(\"Best accuracy (on testing dataset): %.2f%%\" % (testScores*100))\n",
    "print(metrics.classification_report(ytrue,\n",
    "                                    ypred,\n",
    "                                    target_names=test_classes,\n",
    "                                    digits=4)) "
   ]
  },
  {
   "cell_type": "code",
   "execution_count": null,
   "id": "928a5cfe",
   "metadata": {},
   "outputs": [],
   "source": []
  }
 ],
 "metadata": {
  "kernelspec": {
   "display_name": "env_tf",
   "language": "python",
   "name": "env_tf"
  },
  "language_info": {
   "codemirror_mode": {
    "name": "ipython",
    "version": 3
   },
   "file_extension": ".py",
   "mimetype": "text/x-python",
   "name": "python",
   "nbconvert_exporter": "python",
   "pygments_lexer": "ipython3",
   "version": "3.9.13"
  }
 },
 "nbformat": 4,
 "nbformat_minor": 5
}
